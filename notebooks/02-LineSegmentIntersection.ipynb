{
 "cells": [
  {
   "cell_type": "markdown",
   "metadata": {},
   "source": [
    "# 02: Line Segment Intersection"
   ]
  },
  {
   "cell_type": "markdown",
   "metadata": {},
   "source": [
    "*Authors: Jan Erik Swiadek, Prof. Dr. Kevin Buchin*"
   ]
  },
  {
   "cell_type": "markdown",
   "metadata": {},
   "source": [
    "This notebook serves as supplementary learning material for the course **Geometric Algorithms**.\n",
    "It showcases implementations of algorithms and data structures presented in the lecture, and it elaborates on some practical considerations concerning their use.\n",
    "Furthermore, it provides interactive visualisations and animations."
   ]
  },
  {
   "cell_type": "markdown",
   "metadata": {},
   "source": [
    "## Table of Contents"
   ]
  },
  {
   "cell_type": "markdown",
   "metadata": {},
   "source": [
    "1. Setup  \n",
    "2. Introduction  \n",
    "3. Algorithms  \n",
    "    3.1. Brute Force  \n",
    "    3.2. Plane Sweep  \n",
    "4. References  "
   ]
  },
  {
   "cell_type": "markdown",
   "metadata": {},
   "source": [
    "## 1. Setup"
   ]
  },
  {
   "cell_type": "markdown",
   "metadata": {},
   "source": [
    "First let's import everything we'll need throughout this notebook, including our module for generic data structures, our module for common geometry primitives and operations as well as our module for visualisation purposes. (The data structure and geometry modules will probably receive their own notebook later.)\n",
    "\n",
    "This is not very interesting, so you can skip straight to section 2."
   ]
  },
  {
   "cell_type": "code",
   "execution_count": null,
   "metadata": {},
   "outputs": [],
   "source": [
    "# Python standard library imports\n",
    "from typing import Any, Optional\n",
    "from itertools import combinations\n",
    "import os\n",
    "import sys\n",
    "\n",
    "# Make our modules available for importing\n",
    "modules_dir = os.path.abspath(\"../modules\")\n",
    "if modules_dir not in sys.path:\n",
    "    sys.path.append(modules_dir)\n",
    "\n",
    "# xxx module imports\n",
    "from data_structures import BinaryTree, BinaryTreeDict, Comparator, ComparisonResult as CR\n",
    "from geometry import Orientation as ORT, Point, LineSegment, Intersections\n",
    "from visualisation import Visualisation, LineSegmentSetInstance, PointsMode, SweepLineMode"
   ]
  },
  {
   "cell_type": "markdown",
   "metadata": {},
   "source": [
    "Additionally, we create a Visualisation object and register a few example instances for it.\n",
    "\n",
    "TODO: Add useful example instances."
   ]
  },
  {
   "cell_type": "code",
   "execution_count": null,
   "metadata": {},
   "outputs": [],
   "source": [
    "visualisation = Visualisation(400, 400, LineSegmentSetInstance())\n",
    "\n",
    "seg1 = LineSegment(Point(150, 25), Point(100, 300))\n",
    "seg2 = LineSegment(Point(75, 150), Point(200, 250))\n",
    "seg3 = LineSegment(Point(50, 250), Point(300, 125))\n",
    "seg4 = LineSegment(Point(200, 100), Point(350, 225))\n",
    "visualisation.register_example_instance(\"test\", set([seg1, seg2, seg3, seg4]))\n",
    "\n",
    "hor = set([\n",
    "    LineSegment(Point(150, 200), Point(225, 200)),\n",
    "    LineSegment(Point(175, 200), Point(250, 200)),\n",
    "    LineSegment(Point(175, 175), Point(225, 225)),\n",
    "    LineSegment(Point(125, 125), Point(215, 215)),\n",
    "    LineSegment(Point(125, 150), Point(175, 150))\n",
    "])\n",
    "visualisation.register_example_instance(\"horizontal/overlap\", hor)\n",
    "\n",
    "mult = set([\n",
    "    LineSegment(Point(150, 200), Point(250, 200)),\n",
    "    LineSegment(Point(175, 175), Point(225, 225)),\n",
    "    LineSegment(Point(200, 150), Point(200, 250)),\n",
    "    LineSegment(Point(175, 225), Point(225, 175))\n",
    "])\n",
    "visualisation.register_example_instance(\"multiple\", mult)"
   ]
  },
  {
   "cell_type": "markdown",
   "metadata": {},
   "source": [
    "## 2. Introduction"
   ]
  },
  {
   "cell_type": "markdown",
   "metadata": {},
   "source": [
    "The **line segment intersection problem** was stated in the lecture as follows:\n",
    "Given a set of $n$ line segments in the plane, the goal is to compute all points in the intersection of two or more line segments along with these respective segments.\n",
    "Only **closed line segments** are considered, i.e. each segment contains two bounding endpoints.\n",
    "The endpoints are therefore potential intersection points just like any other point contained in the segments.\n",
    "\n",
    "For example, the intersections of the xxx instance are marked here:\n",
    "\n",
    "TODO: Include image."
   ]
  },
  {
   "cell_type": "markdown",
   "metadata": {},
   "source": [
    "## 3. Algorithms"
   ]
  },
  {
   "cell_type": "markdown",
   "metadata": {},
   "source": [
    "The lecture presented two algorithms for the problem:\n",
    "A simple Brute Force algorithm and, as the main focus of the lecture, a more sophisticated Plane Sweep method."
   ]
  },
  {
   "cell_type": "markdown",
   "metadata": {},
   "source": [
    "### 3.1 Brute Force"
   ]
  },
  {
   "cell_type": "markdown",
   "metadata": {},
   "source": [
    "The easiest way to solve the line segment intersection problem is to test each pair of line segments in the input for their intersection.\n",
    "There are three possibilities for the intersection of two line segments:\n",
    "They don't intersect, in which case nothing needs to be done, or they intersect in exactly one point, which is then added to the output together with the segments, or they're **overlapping line segments** and their intersection is again a line segment.\n",
    "As we would technically need to report infinitely many intersection points in the third case, it's considered degenerate and we choose to report just the endpoints."
   ]
  },
  {
   "cell_type": "code",
   "execution_count": null,
   "metadata": {},
   "outputs": [],
   "source": [
    "def brute_force_lsi(segments: set[LineSegment]) -> Intersections:\n",
    "    intersections = Intersections()\n",
    "    for segment1, segment2 in combinations(segments, 2):\n",
    "        intersection = segment1.intersection(segment2)\n",
    "        if isinstance(intersection, Point):\n",
    "            intersections.add(intersection, (segment1, segment2))\n",
    "        elif isinstance(intersection, LineSegment):\n",
    "            intersections.add(intersection.upper, (segment1, segment2))\n",
    "            intersections.add(intersection.lower, (segment1, segment2))\n",
    "    \n",
    "    return intersections"
   ]
  },
  {
   "cell_type": "markdown",
   "metadata": {},
   "source": [
    "The asymptotic running time of Brute Force is obviously in $\\Theta(n^2)$.\n",
    "This is worst-case optimal, with the worst case being that all line segment pairs intersect in one point.\n",
    "However, the algorithm performs many \"unnecessary\" tests if the input line segments have few intersection points.\n",
    "\n",
    "We now register Brute Force for visualisation."
   ]
  },
  {
   "cell_type": "code",
   "execution_count": null,
   "metadata": {},
   "outputs": [],
   "source": [
    "visualisation.register_algorithm(\"Brute Force\", brute_force_lsi, PointsMode())"
   ]
  },
  {
   "cell_type": "markdown",
   "metadata": {},
   "source": [
    "If you haven't used our interactive visualisation tool before, see the Convex Hull notebook for an explanation."
   ]
  },
  {
   "cell_type": "code",
   "execution_count": null,
   "metadata": {},
   "outputs": [],
   "source": [
    "visualisation.display()"
   ]
  },
  {
   "cell_type": "markdown",
   "metadata": {},
   "source": [
    "TODO: Include image."
   ]
  },
  {
   "cell_type": "markdown",
   "metadata": {},
   "source": [
    "***Takeaways:***\n",
    "\n",
    "* The simplest algorithm can already be worst-case optimal.\n",
    "\n",
    "* In practice, the worst case isn't the only case to consider."
   ]
  },
  {
   "cell_type": "markdown",
   "metadata": {},
   "source": [
    "### 3.2 Plane Sweep"
   ]
  },
  {
   "cell_type": "markdown",
   "metadata": {},
   "source": [
    "Considering that for most practical puporses only few intersections occur in relation to the number of input segments, an output-sensitive algorithm that depends on the number of intersections is of interest.\n",
    "We've already seen examples for such algorithms: Gift Wrapping and Chan's Hull for the convex hull problem.\n",
    "The output-sensitive algorithm from the line segment intersection lecture uses the **plane sweep technique**, which is a general technique suitable to solving various problems in computational geometry.\n",
    "It simulates a **sweep line** to pass through the input elements, while maintaining the status at the current sweep line position and the event points that are yet to be visited by the sweep line.\n",
    "The versatility of this technique comes from the fact that new event points can be computed on the fly during the course of the sweep.\n",
    "\n",
    "Here, the **status structure** consists of all line segments currently intersected by the sweep line, while the **event queue** contains line segment endpoints and previously computed intersection points.\n",
    "Like suggested in the lecture, we implement both as a *balanced binary tree*.\n",
    "The searchable position of a tree node is determined by its *key*.\n",
    "We define an order on the keys in the form of a *comparator* class, whose objects have a *compare(item, key)* method comparing an *item* (e.g. a new key to be inserted) to an existing node key.\n",
    "The return value specifies whether the item comes before, matches with or comes after the key.\n",
    "\n",
    "The keys of the event queue are event points, and items to be compared with them are also always points.\n",
    "Since we want the sweep line to go from top to bottom, we prioritise points with a greater $y$-coordinate.\n",
    "Such points should thus come first in the event queue order (see [1, p. 24]).\n",
    "Moreover, we deal with the degenerate case of event points having the same $y$-coordinate by prioritising smaller $x$-coordinates, i.e. the corresponding events are handled from left to right."
   ]
  },
  {
   "cell_type": "code",
   "execution_count": null,
   "metadata": {},
   "outputs": [],
   "source": [
    "class EventQueueComparator(Comparator[Point]):\n",
    "    def compare(self, item: Any, key: Point) -> CR:\n",
    "        if not isinstance(item, Point):\n",
    "            raise TypeError(\"Only points can be compared with event points.\")\n",
    "        if item == key:\n",
    "            return CR.MATCH\n",
    "        elif item.y > key.y or (item.y == key.y and item.x < key.x):\n",
    "            return CR.BEFORE\n",
    "        else:\n",
    "            return CR.AFTER"
   ]
  },
  {
   "cell_type": "markdown",
   "metadata": {},
   "source": [
    "The comparator class for the status structure is less straightforward.\n",
    "Because the left-to-right order of stored line segments depends on the current height of the sweep line and can change at event points, a *dynamic comparator* is required (see [2, pp. 24–25]).\n",
    "The keys of the status stucture are line segments, which are compared to other line segments at the current sweep line height for tree insertion and deletion.\n",
    "Additionally, the node keys also need to be comparable with points in order to search for all segments containing the current event point and to determine its neighbouring segments.\n",
    "Therefore the comparator has to support points as items too.\n",
    "\n",
    "Comparing a point to a line segment is easy using an orientation test.\n",
    "The comparison of two line segments can then be reduced to finding the intersection point of one line segment with the current sweep line and comparing this point to the other segment.\n",
    "If this point is contained in the other segment as well, the location of the event point becomes relevant.\n",
    "That's also true for horizontal line segments, which constitute a degenerate case and are dealt with separately.\n",
    "In the other degenerate case we've mentioned before, two overlapping line segments, the order doesn't actually matter as long as it's consistent, so we simply use their coordinates tuples."
   ]
  },
  {
   "cell_type": "code",
   "execution_count": null,
   "metadata": {},
   "outputs": [],
   "source": [
    "class StatusStructureComparator(Comparator[LineSegment]):\n",
    "    def __init__(self):\n",
    "        self._event_point: Optional[Point] = None\n",
    "\n",
    "    def set_event_point(self, event_point: Point):\n",
    "        self._event_point = event_point\n",
    "\n",
    "    def compare(self, item: Any, key: LineSegment) -> CR:\n",
    "        if isinstance(item, Point):\n",
    "            return self._compare_point_with_segment(item, key)\n",
    "        elif isinstance(item, LineSegment):\n",
    "            return self._compare_segment_with_segment(item, key)\n",
    "        else:\n",
    "            raise TypeError(\"Only line segments and points can be compared with status line segments.\")\n",
    "\n",
    "    def _compare_point_with_segment(self, point: Point, segment: LineSegment) -> CR:\n",
    "        if segment.upper.y < point.y or segment.lower.y > point.y:\n",
    "            raise ValueError(f\"Point {point} isn't in y-range of compared segment {segment}.\")\n",
    "        elif segment.upper.y == segment.lower.y:\n",
    "            if point.x < segment.upper.x:\n",
    "                return CR.BEFORE\n",
    "            elif point.x > segment.lower.x:\n",
    "                return CR.AFTER\n",
    "            else:\n",
    "                return CR.MATCH\n",
    "        else:\n",
    "            ort = point.orientation(segment.lower, segment.upper)\n",
    "            if ort is ORT.LEFT:\n",
    "                return CR.BEFORE\n",
    "            elif ort is ORT.RIGHT:\n",
    "                return CR.AFTER\n",
    "            else:\n",
    "                return CR.MATCH\n",
    "\n",
    "    def _compare_segment_with_segment(self, segment1: LineSegment, segment2: LineSegment) -> CR:\n",
    "        special_cr = self._check_special_cases(segment1, segment2)\n",
    "        if special_cr is not None:\n",
    "            return special_cr\n",
    "        else:\n",
    "            left_point = Point(min(segment1.upper.x, segment1.lower.x) - 1.0, self._event_point.y)\n",
    "            right_point = Point(max(segment1.upper.x, segment1.lower.x) + 1.0, self._event_point.y)\n",
    "            segment1_point = segment1.intersection(LineSegment(left_point, right_point))\n",
    "            segment1_point_cr = self._compare_point_with_segment(segment1_point, segment2)\n",
    "            if segment1_point_cr is not CR.MATCH:\n",
    "                return segment1_point_cr\n",
    "            else:\n",
    "                event_point_cr = self._compare_point_with_segment(self._event_point, segment2)\n",
    "                before_ort = ORT.RIGHT if event_point_cr is CR.BEFORE else ORT.LEFT\n",
    "                if segment1.lower.orientation(segment2.lower, self._event_point) is before_ort:\n",
    "                    return CR.BEFORE\n",
    "                else:\n",
    "                    return CR.AFTER\n",
    "\n",
    "    def _check_special_cases(self, segment1: LineSegment, segment2: LineSegment) -> Optional[CR]:\n",
    "        if self._event_point is None:\n",
    "            raise RuntimeError(\"Event point has to be set for line segment comparison\")\n",
    "        elif segment1.upper.y < self._event_point.y or segment1.lower.y > self._event_point.y:\n",
    "            raise ValueError(f\"Event point {self._event_point} isn't in y-range of compared segment {segment1}.\")\n",
    "        elif segment2.upper.y < self._event_point.y or segment2.lower.y > self._event_point.y:\n",
    "            raise ValueError(f\"Event point {self._event_point} isn't in y-range of compared segment {segment2}.\")\n",
    "        elif segment1 == segment2:\n",
    "            return CR.MATCH\n",
    "        elif isinstance(segment1.intersection(segment2), LineSegment):\n",
    "            segment1_tuple = (segment1.upper.x, segment1.upper.y, segment1.lower.x, segment1.lower.y)\n",
    "            segment2_tuple = (segment2.upper.x, segment2.upper.y, segment2.lower.x, segment2.lower.y)\n",
    "            if segment1_tuple < segment2_tuple:\n",
    "                return CR.BEFORE\n",
    "            else:\n",
    "                return CR.AFTER\n",
    "        elif segment1.upper.y == segment1.lower.y:\n",
    "            if self._compare_point_with_segment(self._event_point, segment2) is CR.BEFORE:\n",
    "                return CR.BEFORE\n",
    "            else:\n",
    "                return CR.AFTER\n",
    "        elif segment2.upper.y == segment2.lower.y:\n",
    "            if self._compare_point_with_segment(self._event_point, segment1) is CR.BEFORE:\n",
    "                return CR.AFTER\n",
    "            else:\n",
    "                return CR.BEFORE\n",
    "        else:\n",
    "            return None"
   ]
  },
  {
   "cell_type": "markdown",
   "metadata": {},
   "source": [
    "Now we can implement the plane sweep algorithm itself.\n",
    "We follow the approach from [1, pp. 26–27].\n",
    "\n",
    "At first, the status structure is initialised as an empty binary tree, while the event queue is initialised as a binary tree containing all line segment endpoints as keys.\n",
    "The event queue also stores a *value* for each key that consists of the list of line segments having this key as their upper endpoint.\n",
    "That's why the event queue's type is *BinaryTreeDict* as opposed to the simple *BinaryTree* type used for the status structure, which doesn't support values.\n",
    "\n",
    "During each step of the actual sweep, an event point is popped from the queue along with the segments having it as their upper endpoint.\n",
    "A subsequent search in the status structure yields all other line segments containing the event point, which are promptly deleted from the status structure.\n",
    "Next, those segments having the event point as their upper endpoint or containing it in their interior are inserted into the status structure.\n",
    "This is done according to the new status structure order induced by the event point, as implemented in the comparator above.\n",
    "Note that segments containing the event point in their interior are deleted and re-inserted, so their order in the status structure is reversed.\n",
    "(Except for the relative order of overlapping line segments, which doesn't matter as stated above.)\n",
    "Hence, there's no need for a separate swap procedure and the degenerate case of more than 2 line segments intersecting in one point is handled elegantly (see [1, p. 26]).\n",
    "\n",
    "Then the segments that have become adjacent in the status structure due to the deletions and (re-)insertions are checked for intersections.\n",
    "If there now aren't any line segments in the status structure that contain the event point, the left and right status neighbours of the event point are adjacent.\n",
    "Otherwise, the left status neighbour is adjacent to the leftmost containing segment in the status structure, whereas the right status neighbour is adjacent to the rightmost such segment.\n",
    "In both cases an intersection point of two newly adjacent segments is added to the event queue if it hasn't already been visited by the sweep line.\n",
    "\n",
    "Finally, the event point is reported along with all its containing line segments.\n",
    "If it has at least two such segments, then it's an intersection point."
   ]
  },
  {
   "cell_type": "code",
   "execution_count": null,
   "metadata": {},
   "outputs": [],
   "source": [
    "def plane_sweep_lsi(segments: set[LineSegment]) -> Intersections:\n",
    "    return PlaneSweepLSI(segments).sweep()\n",
    "\n",
    "class PlaneSweepLSI:\n",
    "    def __init__(self, segments: set[LineSegment]):\n",
    "        self._status_structure_comparator = StatusStructureComparator()\n",
    "        self._status_structure: BinaryTree[LineSegment] = BinaryTree(self._status_structure_comparator)\n",
    "\n",
    "        self._event_queue_comparator = EventQueueComparator()\n",
    "        self._event_queue: BinaryTreeDict[Point, list[LineSegment]] = BinaryTreeDict(self._event_queue_comparator)\n",
    "\n",
    "        self._default_value_updater = lambda u_segments: [] if u_segments is None else u_segments\n",
    "        for segment in segments:\n",
    "            def upper_endpoint_value_updater(u_segments: Optional[list[LineSegment]]) -> list[LineSegment]:\n",
    "                u_segments = self._default_value_updater(u_segments)\n",
    "                u_segments.append(segment)\n",
    "                return u_segments\n",
    "            self._event_queue.update(segment.upper, upper_endpoint_value_updater)\n",
    "            self._event_queue.update(segment.lower, self._default_value_updater)\n",
    "\n",
    "    def sweep(self) -> Intersections:\n",
    "        intersections = Intersections()\n",
    "        while not self._event_queue.is_empty():\n",
    "            event_point, containing_segments = self._handle_event()\n",
    "            if len(containing_segments) >= 2:\n",
    "                intersections.add(event_point, containing_segments)\n",
    "            else:\n",
    "                intersections.animate(event_point)      # Also animate event points that aren't intersection points.\n",
    "\n",
    "        return intersections\n",
    "\n",
    "    def _handle_event(self) -> tuple[Point, list[LineSegment]]:\n",
    "        event_point, containing_segments = self._event_queue.pop_first()\n",
    "        for segment in self._status_structure.search_matching(event_point):\n",
    "            self._status_structure.delete(segment)\n",
    "            containing_segments.append(segment)\n",
    "\n",
    "        self._status_structure_comparator.set_event_point(event_point)\n",
    "\n",
    "        for segment in filter(lambda segment: segment.lower != event_point, containing_segments):\n",
    "            self._status_structure.insert(segment)\n",
    "\n",
    "        left_status_neighbour = self._status_structure.search_predecessor(event_point)\n",
    "        containing_status_segments = self._status_structure.search_matching(event_point)\n",
    "        right_status_neighbour = self._status_structure.search_successor(event_point)\n",
    "\n",
    "        if not containing_status_segments:\n",
    "            if left_status_neighbour is not None and right_status_neighbour is not None:\n",
    "                self._find_new_event(left_status_neighbour, right_status_neighbour, event_point)\n",
    "        else:\n",
    "            #left_status_neighbour = self._status_structure.search_predecessor(containing_status_segments[0])\n",
    "            #right_status_neighbour = self._status_structure.search_successor(containing_status_segments[-1])\n",
    "            if left_status_neighbour is not None:\n",
    "                self._find_new_event(left_status_neighbour, containing_status_segments[0], event_point)\n",
    "            if right_status_neighbour is not None:\n",
    "                self._find_new_event(containing_status_segments[-1], right_status_neighbour, event_point)\n",
    "\n",
    "        return event_point, containing_segments\n",
    "\n",
    "    def _find_new_event(self, left_segment: LineSegment, right_segment: LineSegment, event_point: Point):\n",
    "        intersection = left_segment.intersection(right_segment)\n",
    "        if isinstance(intersection, Point):\n",
    "            if self._event_queue_comparator.compare(intersection, event_point) is CR.AFTER:\n",
    "                self._event_queue.update(intersection, self._default_value_updater)\n"
   ]
  },
  {
   "cell_type": "markdown",
   "metadata": {},
   "source": [
    "The running time of Plane Sweep is in $O((n + i) \\log (n))$ and the required space of the data structures is in $O(n + i)$, where $i$ is the number of intersections.\n",
    "Note that the full size of the output is greater than $i$ because the intersecting segments are part of the output as well (see [1, p. 28])."
   ]
  },
  {
   "cell_type": "code",
   "execution_count": null,
   "metadata": {},
   "outputs": [],
   "source": [
    "visualisation.register_algorithm(\"Plane Sweep\", plane_sweep_lsi, SweepLineMode())"
   ]
  },
  {
   "cell_type": "markdown",
   "metadata": {},
   "source": [
    "The animation of this algorithm shows how the sweep line passes over the event points from top to bottom."
   ]
  },
  {
   "cell_type": "code",
   "execution_count": null,
   "metadata": {},
   "outputs": [],
   "source": [
    "visualisation.display()"
   ]
  },
  {
   "cell_type": "markdown",
   "metadata": {},
   "source": [
    "TODO: Actually add sweep line to animation and include image.\n",
    "\n",
    "TODO: Add takeaways and maybe talk about robustness."
   ]
  },
  {
   "cell_type": "markdown",
   "metadata": {},
   "source": [
    "***Takeaways:***\n",
    "\n",
    "* ..."
   ]
  },
  {
   "cell_type": "markdown",
   "metadata": {},
   "source": [
    "# TESTS"
   ]
  },
  {
   "cell_type": "code",
   "execution_count": null,
   "metadata": {},
   "outputs": [],
   "source": [
    "seg1 = LineSegment(Point(6, 1), Point(4, 12))\n",
    "seg2 = LineSegment(Point(3, 6), Point(8, 10))\n",
    "seg3 = LineSegment(Point(2, 10), Point(12, 5))\n",
    "seg4 = LineSegment(Point(8, 4), Point(14, 9))\n",
    "\n",
    "segments = set([seg1, seg2, seg3, seg4])\n",
    "\n",
    "print(seg1.intersection(seg2))\n",
    "print()\n",
    "\n",
    "print(brute_force_lsi(segments))\n",
    "print()\n",
    "\n",
    "intersections = PlaneSweepLSI(segments).sweep()\n",
    "print(intersections)\n",
    "#print(intersections._animation_events)"
   ]
  },
  {
   "cell_type": "code",
   "execution_count": null,
   "metadata": {},
   "outputs": [],
   "source": [
    "print(brute_force_lsi(hor))\n",
    "print()\n",
    "print(PlaneSweepLSI(hor).sweep())"
   ]
  },
  {
   "cell_type": "code",
   "execution_count": null,
   "metadata": {},
   "outputs": [],
   "source": [
    "print(PlaneSweepLSI(mult).sweep())"
   ]
  },
  {
   "cell_type": "code",
   "execution_count": null,
   "metadata": {},
   "outputs": [],
   "source": [
    "print(LineSegment(Point(1,3), Point(3,1)).intersection(LineSegment(Point(1,1), Point(3,3))))\n",
    "print(LineSegment(Point(1,3), Point(2,2)).intersection(LineSegment(Point(1,1), Point(3,3))))\n",
    "\n",
    "print(LineSegment(Point(1,3), Point(1.5,2.5)).intersection(LineSegment(Point(1,1), Point(3,3))))\n",
    "print(LineSegment(Point(4,6), Point(6,4)).intersection(LineSegment(Point(1,1), Point(3,3))))\n",
    "\n",
    "print(LineSegment(Point(1,3), Point(3,1)).intersection(LineSegment(Point(0,2), Point(2,0))))\n",
    "print(LineSegment(Point(1,3), Point(3,1)).intersection(LineSegment(Point(4,0), Point(5,-1))))\n",
    "\n",
    "print(LineSegment(Point(1,3), Point(3,1)).intersection(LineSegment(Point(3,1), Point(4,0))))\n",
    "print(LineSegment(Point(1,3), Point(3,1)).intersection(LineSegment(Point(2,2), Point(4,0))))\n",
    "print(LineSegment(Point(1,3), Point(3,1)).intersection(LineSegment(Point(2,2), Point(0,4))))\n",
    "print(LineSegment(Point(1,3), Point(3,1)).intersection(LineSegment(Point(2,2), Point(1.5,2.5))))"
   ]
  },
  {
   "cell_type": "code",
   "execution_count": null,
   "metadata": {},
   "outputs": [],
   "source": [
    "point = seg1.intersection(seg2)\n",
    "\n",
    "print(point)\n",
    "\n",
    "comp = StatusStructureComparator()\n",
    "print(comp.compare(point, seg1))\n",
    "print(comp.compare(point, seg2))\n",
    "print()\n",
    "\n",
    "import numpy as np\n",
    "\n",
    "for _ in range(100000):\n",
    "    points = [Point(np.random.uniform(0, 400), np.random.uniform(0, 400)) for _ in range(4)]\n",
    "    if points[0] == points[1] or points[2] == points[3]:\n",
    "        continue\n",
    "    segment1 = LineSegment(points[0], points[1])\n",
    "    segment2 = LineSegment(points[2], points[3])\n",
    "    intersection = segment1.intersection(segment2)\n",
    "    if isinstance(intersection, Point):\n",
    "        try:\n",
    "            comp1 = comp.compare(intersection, segment1)\n",
    "        except:\n",
    "            print(f\"Not comparable: {segment1} and {segment2}\")\n",
    "        if comp1 is not CR.MATCH:\n",
    "            print(f\"Not equal: {segment1} and {segment2}\")\n",
    "        try:\n",
    "            comp2 = comp.compare(intersection, segment2)\n",
    "        except:\n",
    "            print(f\"Not comparable: {segment1} and {segment2}\")\n",
    "        if comp2 is not CR.MATCH:\n",
    "            print(f\"Not equal: {segment1} and {segment2}\")"
   ]
  },
  {
   "cell_type": "markdown",
   "metadata": {},
   "source": [
    "## 4. References"
   ]
  },
  {
   "cell_type": "markdown",
   "metadata": {},
   "source": [
    "[1] Mark de Berg, Otfried Cheong, Marc van Kreveld, and Mark Overmars. *Computational Geometry: Algorithms and Applications*, 3rd Edition, 2008.\n",
    "\n",
    "[2] David M. Mount. [*CMSC 754: Computational Geometry*](https://www.cs.umd.edu/class/spring2020/cmsc754/Lects/cmsc754-spring2020-lects.pdf), 2020."
   ]
  }
 ],
 "metadata": {
  "kernelspec": {
   "display_name": "Python 3.9.7 ('base')",
   "language": "python",
   "name": "python3"
  },
  "language_info": {
   "codemirror_mode": {
    "name": "ipython",
    "version": 3
   },
   "file_extension": ".py",
   "mimetype": "text/x-python",
   "name": "python",
   "nbconvert_exporter": "python",
   "pygments_lexer": "ipython3",
   "version": "3.9.7"
  },
  "orig_nbformat": 4,
  "vscode": {
   "interpreter": {
    "hash": "b48264eb95706e162d01c04d685d59c09b9997374e8df34f814a7711d35cc8a0"
   }
  }
 },
 "nbformat": 4,
 "nbformat_minor": 2
}
