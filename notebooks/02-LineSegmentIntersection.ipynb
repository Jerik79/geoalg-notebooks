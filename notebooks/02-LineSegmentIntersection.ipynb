{
 "cells": [
  {
   "cell_type": "markdown",
   "metadata": {},
   "source": [
    "# 02: Line Segment Intersection"
   ]
  },
  {
   "cell_type": "markdown",
   "metadata": {},
   "source": [
    "*Authors: Jan Erik Swiadek, Prof. Dr. Kevin Buchin*"
   ]
  },
  {
   "attachments": {},
   "cell_type": "markdown",
   "metadata": {},
   "source": [
    "This notebook serves as supplementary learning material for the course **Geometric Algorithms**.\n",
    "It showcases and explains implementations of algorithms presented in the corresponding lecture, and elaborates on some practical considerations concerning their use.\n",
    "Furthermore, it offers interactive visualisations and animations."
   ]
  },
  {
   "cell_type": "markdown",
   "metadata": {},
   "source": [
    "## Table of Contents"
   ]
  },
  {
   "cell_type": "markdown",
   "metadata": {},
   "source": [
    "1. Introduction  \n",
    "2. Setup  \n",
    "3. Algorithms  \n",
    "    3.1. Brute Force  \n",
    "    3.2. Plane Sweep  \n",
    "4. References  "
   ]
  },
  {
   "cell_type": "markdown",
   "metadata": {},
   "source": [
    "## 1. Introduction"
   ]
  },
  {
   "attachments": {},
   "cell_type": "markdown",
   "metadata": {},
   "source": [
    "The **line segment intersection problem** was stated in the lecture as follows:\n",
    "Given a set of line segments in the plane, the goal is to compute all points in the intersection of two or more line segments along with these respective segments.\n",
    "Only **closed line segments** are considered here, i.e. each segment contains two distinct bounding endpoints.\n",
    "The endpoints are therefore potential intersection points just like any other point contained in the segments.\n",
    "\n",
    "See the following image for an example.\n",
    "The input line segments are coloured <font color='orange'>orange</font> and their intersection points are marked in <font color='blue'>blue</font>."
   ]
  },
  {
   "attachments": {},
   "cell_type": "markdown",
   "metadata": {},
   "source": [
    "<img style='float: left;' src='./images/02-image00.png'>"
   ]
  },
  {
   "cell_type": "markdown",
   "metadata": {},
   "source": [
    "## 2. Setup"
   ]
  },
  {
   "attachments": {},
   "cell_type": "markdown",
   "metadata": {},
   "source": [
    "First let's do some setup. This is not very interesting, so you can skip to Section 3 if you want.\n",
    "\n",
    "We now import everything we'll need throughout this notebook from external sources, including our module for generic data structures, our module for geometric primitives and operations as well as our module for visualisation purposes. \n",
    "These modules are explained in [notebook no. 00](./00-Basics.ipynb)."
   ]
  },
  {
   "cell_type": "code",
   "execution_count": 1,
   "metadata": {},
   "outputs": [],
   "source": [
    "# Python standard library imports\n",
    "import math\n",
    "from typing import Any, Optional\n",
    "from itertools import combinations\n",
    "\n",
    "# Data structure, geometry and visualisation module imports\n",
    "from modules.data_structures import BinaryTree, BinaryTreeDict, Comparator, ComparisonResult as CR\n",
    "from modules.geometry import Point, LineSegment, PointSequenceDict, Orientation as ORT, EPSILON\n",
    "from modules.visualisation import VisualisationTool, LineSegmentSetInstance, PointsMode, SweepLineMode"
   ]
  },
  {
   "cell_type": "markdown",
   "metadata": {},
   "source": [
    "Additionally, we create an object for our visualisation tool and register a few example instances."
   ]
  },
  {
   "cell_type": "code",
   "execution_count": 2,
   "metadata": {},
   "outputs": [],
   "source": [
    "visualisation_tool = VisualisationTool(400, 400, LineSegmentSetInstance())\n",
    "canvas_size = min(visualisation_tool.width, visualisation_tool.height)\n",
    "\n",
    "c = 0.5 * canvas_size\n",
    "r = 0.75 * c\n",
    "\n",
    "def circle_point(angle: float) -> Point:\n",
    "    return Point(c + r * math.cos(angle), c + r * math.sin(angle))\n",
    "\n",
    "star_vertices = [circle_point(i * 2 * math.pi / 5 + math.pi / 2) for i in range(0, 5)]\n",
    "star_instance = set(LineSegment(star_vertices[i], star_vertices[(i + 2) % 5]) for i in range(0, 5))\n",
    "visualisation_tool.register_example_instance(\"Star\", star_instance)\n",
    "\n",
    "s = 0.1 * c\n",
    "t = 1.9 * c\n",
    "u = (t - s) / 6\n",
    "\n",
    "grid_instance = set((\n",
    "    *(LineSegment(Point(s + i * u, s), Point(s + i * u, t)) for i in range(0, 7)),\n",
    "    *(LineSegment(Point(s, s + i * u), Point(t, s + i * u)) for i in range(0, 7)),\n",
    "    *(LineSegment(Point(s, s + i * u), Point(t - i * u, t)) for i in range(1, 6)),\n",
    "    LineSegment(Point(s, s), Point(t, t)),\n",
    "    *(LineSegment(Point(s + i * u, s), Point(t, t - i * u)) for i in range(1, 6)),\n",
    "    *(LineSegment(Point(t, s + i * u), Point(s + i * u, t)) for i in range(1, 6)),\n",
    "    LineSegment(Point(t, s), Point(s, t)),\n",
    "    *(LineSegment(Point(t - i * u, s), Point(s, t - i * u)) for i in range(1, 6))\n",
    "))\n",
    "visualisation_tool.register_example_instance(\"Grid\", grid_instance)\n",
    "\n",
    "overlap_instance = set((\n",
    "    LineSegment(Point(0.25 * c, c), Point(1.45 * c, c)),\n",
    "    LineSegment(Point(0.55 * c, c), Point(1.75 * c, c)),\n",
    "    LineSegment(Point(0.85 * c, c), Point(1.15 * c, c)),\n",
    "    LineSegment(Point(0.25 * c, c), Point(1.75 * c, c)),\n",
    "    LineSegment(Point(c, 0.25 * c), Point(c, 1.75 * c)),\n",
    "    LineSegment(Point(c, 0.625 * c), Point(c, 1.375 * c)),\n",
    "    LineSegment(Point(0.375 * c, 1.75 * c), Point(0.7 * c, 0.775 * c)),\n",
    "    LineSegment(Point(0.75 * c, 0.625 * c), Point(0.5 * c, 1.375 * c)),\n",
    "    LineSegment(Point(1.125 * c, 0.25 * c), Point(1.275 * c, 0.7 * c)),\n",
    "    LineSegment(Point(1.225 * c, 0.55 * c), Point(1.5 * c, 1.375 * c))\n",
    "))\n",
    "visualisation_tool.register_example_instance(\"Overlap\", overlap_instance)"
   ]
  },
  {
   "cell_type": "markdown",
   "metadata": {},
   "source": [
    "## 3. Algorithms"
   ]
  },
  {
   "cell_type": "markdown",
   "metadata": {},
   "source": [
    "The lecture presented two algorithms for the given problem:\n",
    "A simple Brute Force algorithm and a more sophisticated Plane Sweep method."
   ]
  },
  {
   "attachments": {},
   "cell_type": "markdown",
   "metadata": {},
   "source": [
    "### 3.1. Brute Force"
   ]
  },
  {
   "attachments": {},
   "cell_type": "markdown",
   "metadata": {},
   "source": [
    "The easiest way to solve the line segment intersection problem is to test each pair of line segments in the input for their intersection.\n",
    "There are three possibilities for the intersection of two line segments:\n",
    "They don't intersect, in which case nothing needs to be done, or they intersect in exactly one point, which is then added to the output together with the segments, or they're **overlapping line segments** and their intersection is again a line segment.\n",
    "As we would technically need to report infinitely many intersection points in the third case, it's considered degenerate and we choose to report just the endpoints.\n",
    "The used intersection computation is further explained in [notebook no. 00](./00-Basics.ipynb)."
   ]
  },
  {
   "cell_type": "code",
   "execution_count": 3,
   "metadata": {},
   "outputs": [],
   "source": [
    "def brute_force_lsi(segments: set[LineSegment]) -> PointSequenceDict:\n",
    "    intersections = PointSequenceDict()\n",
    "    for segment1, segment2 in combinations(segments, 2):\n",
    "        intersection = segment1.intersection(segment2)\n",
    "        if isinstance(intersection, Point):\n",
    "            intersections.add(intersection, (segment1, segment2))\n",
    "        elif isinstance(intersection, LineSegment):\n",
    "            intersections.add(intersection.upper, (segment1, segment2))\n",
    "            intersections.add(intersection.lower, (segment1, segment2))\n",
    "\n",
    "    return intersections"
   ]
  },
  {
   "attachments": {},
   "cell_type": "markdown",
   "metadata": {},
   "source": [
    "The asymptotic running time complexity of Brute Force is obviously in $\\Theta(n^2)$, where $n$ denotes the number of line segments.\n",
    "This is worst-case optimal, the worst case being that all pairs of line segments intersect in a distinct point.\n",
    "However, the algorithm performs many \"unnecessary\" tests if the input line segments have few intersection points.\n",
    "\n",
    "We now register Brute Force for visualisation."
   ]
  },
  {
   "cell_type": "code",
   "execution_count": 4,
   "metadata": {},
   "outputs": [],
   "source": [
    "visualisation_tool.register_algorithm(\"Brute Force\", brute_force_lsi, PointsMode())"
   ]
  },
  {
   "attachments": {},
   "cell_type": "markdown",
   "metadata": {},
   "source": [
    "If you haven't used our interactive visualisation tool before, see [notebook no. 00](./00-Basics.ipynb) for an explanation.\n",
    "The instance size is not equal to the number of points here, because an input instance consists of line segments that are each comprised of two points.\n",
    "Creating $m$ points by clicking on the canvas or using the *Random* button will thus result in $\\lfloor m / 2 \\rfloor$ line segments, where every (non-overlapping) pair of added points forms a line segment and is displayed as such."
   ]
  },
  {
   "cell_type": "code",
   "execution_count": 5,
   "metadata": {},
   "outputs": [
    {
     "data": {
      "text/html": [
       "<img style='float: left;' src='./images/02-image01.png'>"
      ]
     },
     "metadata": {},
     "output_type": "display_data"
    }
   ],
   "source": [
    "visualisation_tool.display()"
   ]
  },
  {
   "cell_type": "markdown",
   "metadata": {},
   "source": [
    "__*Takeaways:*__\n",
    "\n",
    "* The simplest algorithm can already be worst-case optimal.\n",
    "\n",
    "* In practice, the worst case isn't the only case to consider."
   ]
  },
  {
   "attachments": {},
   "cell_type": "markdown",
   "metadata": {},
   "source": [
    "### 3.2. Plane Sweep"
   ]
  },
  {
   "attachments": {},
   "cell_type": "markdown",
   "metadata": {},
   "source": [
    "Considering that for most practical puporses only few intersections occur in relation to the number of input segments, an output-sensitive algorithm that depends on the number of intersections is of interest.\n",
    "We've already seen examples for such algorithms: Gift Wrapping and Chan's Hull for the convex hull problem.\n",
    "The output-sensitive algorithm from the line segment intersection lecture uses the **plane sweep technique**, which is a general technique suitable to solving various problems in computational geometry.\n",
    "It simulates a **sweep line** to pass through the input elements while maintaining the status at the current sweep line position and the event points that are yet to be visited by the sweep line.\n",
    "The versatility of this technique partly comes from the fact that new event points can be computed on the fly during the course of the sweep.\n",
    "\n",
    "Here, the **status structure** consists of all line segments currently intersected by the sweep line, while the **event queue** contains line segment endpoints and previously computed intersection points.\n",
    "Like suggested in the lecture, we implement both as a balanced binary tree.\n",
    "For this purpose, we define an order on each set of possible tree keys through a *comparator class*.\n",
    "The used binary tree implementation is further explained in [notebook no. 00](./00-Basics.ipynb).\n",
    "\n",
    "The keys of the event queue are event points, and items to be compared with them are also always points.\n",
    "Since we want the sweep line to go from top to bottom, we prioritise points with a greater $y$-coordinate.\n",
    "Such points should thus come first in the event queue order (see \\[1, p. 24\\]).\n",
    "Moreover, we deal with the degenerate case of event points having the same $y$-coordinate by prioritising smaller $x$-coordinates, i.e. the corresponding events are handled from left to right.\n",
    "Note that, in order to somewhat compensate for the inaccuracy of floating-point arithmetic, we use comparisons involving a small epsilon value throughout this notebook.\n",
    "More on that can be found in [notebook no. 00](./00-Basics.ipynb)."
   ]
  },
  {
   "cell_type": "code",
   "execution_count": 6,
   "metadata": {},
   "outputs": [],
   "source": [
    "class EventQueueComparator(Comparator[Point]):\n",
    "    def compare(self, item: Any, key: Point) -> CR:\n",
    "        if not isinstance(item, Point):\n",
    "            raise TypeError(\"Only points can be compared with event points.\")\n",
    "        elif abs(item.x - key.x) <= EPSILON and abs(item.y - key.y) <= EPSILON:\n",
    "            return CR.MATCH\n",
    "        elif item.y - key.y > EPSILON or (key.y - item.y <= EPSILON and item.x < key.x):\n",
    "            return CR.BEFORE\n",
    "        else:\n",
    "            return CR.AFTER"
   ]
  },
  {
   "attachments": {},
   "cell_type": "markdown",
   "metadata": {},
   "source": [
    "The comparator class for the status structure is less straightforward.\n",
    "Because the left-to-right order of stored line segments depends on the current height of the sweep line and can change at event points, a **dynamic comparator** is required (see \\[2, pp. 24–25\\]).\n",
    "The keys of the status stucture are line segments, which are compared to other line segments at the current sweep line height for tree insertion and deletion.\n",
    "Additionally, the node keys also need to be comparable with points in order to search for all segments containing an event point and to determine its neighbouring segments.\n",
    "Therefore, the comparator has to support points as items too.\n",
    "\n",
    "Comparing a point to a line segment is easy using an orientation test (see [notebook no. 00](./00-Basics.ipynb)).\n",
    "The comparison of two line segments can then be reduced to finding the intersection point of one line segment with the current sweep line and comparing this point to the other segment.\n",
    "If this point is contained in the other segment as well, the location of the event point becomes relevant.\n",
    "That's also true for horizontal line segments, which constitute a degenerate case and are dealt with separately.\n",
    "In the other degenerate case we've mentioned before, two overlapping line segments, the order doesn't actually matter as long as it's consistent, so we simply use their coordinates tuples."
   ]
  },
  {
   "cell_type": "code",
   "execution_count": 7,
   "metadata": {},
   "outputs": [],
   "source": [
    "class StatusStructureComparator(Comparator[LineSegment]):\n",
    "    def __init__(self):\n",
    "        self._event_point: Optional[Point] = None\n",
    "\n",
    "    def set_event_point(self, event_point: Point):\n",
    "        self._event_point = event_point\n",
    "\n",
    "    def compare(self, item: Any, key: LineSegment) -> CR:\n",
    "        if isinstance(item, Point):\n",
    "            return self._compare_point_with_segment(item, key)\n",
    "        elif isinstance(item, LineSegment):\n",
    "            return self._compare_segment_with_segment(item, key)\n",
    "        else:\n",
    "            raise TypeError(\"Only line segments and points can be compared with status line segments.\")\n",
    "\n",
    "    def _compare_point_with_segment(self, point: Point, segment: LineSegment) -> CR:\n",
    "        if point.y - segment.upper.y > EPSILON or segment.lower.y - point.y > EPSILON:\n",
    "            raise ValueError(f\"Point {point} isn't in y-range of compared segment {segment}.\")\n",
    "        elif abs(segment.upper.y - segment.lower.y) <= EPSILON:\n",
    "            if segment.upper.x - point.x > EPSILON:\n",
    "                return CR.BEFORE\n",
    "            elif point.x - segment.lower.x > EPSILON:\n",
    "                return CR.AFTER\n",
    "            else:\n",
    "                return CR.MATCH\n",
    "        else:\n",
    "            ort = point.orientation(segment.lower, segment.upper)\n",
    "            if ort is ORT.LEFT:\n",
    "                return CR.BEFORE\n",
    "            elif ort is ORT.RIGHT:\n",
    "                return CR.AFTER\n",
    "            else:\n",
    "                return CR.MATCH\n",
    "\n",
    "    def _compare_segment_with_segment(self, segment1: LineSegment, segment2: LineSegment) -> CR:\n",
    "        special_cr = self._check_special_cases(segment1, segment2)\n",
    "        if special_cr is not None:\n",
    "            return special_cr\n",
    "\n",
    "        x_coordinates = (segment1.upper.x, segment1.lower.x, segment2.upper.x, segment2.lower.x)\n",
    "        left_point = Point(min(x_coordinates) - 1.0, self._event_point.y)\n",
    "        right_point = Point(max(x_coordinates) + 1.0, self._event_point.y)\n",
    "        segment1_point = segment1.intersection(LineSegment(left_point, right_point))\n",
    "        segment1_point_cr = self._compare_point_with_segment(segment1_point, segment2)\n",
    "        if segment1_point_cr is not CR.MATCH:\n",
    "            # Check other direction as well to ensure consistency and increase robustness.\n",
    "            segment2_point = segment2.intersection(LineSegment(left_point, right_point))\n",
    "            if self._compare_point_with_segment(segment2_point, segment1) is not CR.MATCH:\n",
    "                return segment1_point_cr\n",
    "\n",
    "        event_point_cr = self._compare_point_with_segment(self._event_point, segment1)\n",
    "        segment1_endpoint = segment1.upper if event_point_cr is CR.BEFORE else segment1.lower\n",
    "        if segment1_endpoint.orientation(segment2.lower, segment2.upper) is ORT.LEFT:\n",
    "            return CR.BEFORE\n",
    "        else:\n",
    "            return CR.AFTER\n",
    "\n",
    "    def _check_special_cases(self, segment1: LineSegment, segment2: LineSegment) -> Optional[CR]:\n",
    "        if self._event_point is None:\n",
    "            raise RuntimeError(\"Event point has to be set for line segment comparison\")\n",
    "        elif self._event_point.y - segment1.upper.y > EPSILON or segment1.lower.y - self._event_point.y > EPSILON:\n",
    "            raise ValueError(f\"Event point {self._event_point} isn't in y-range of compared segment {segment1}.\")\n",
    "        elif self._event_point.y - segment2.upper.y > EPSILON or segment2.lower.y - self._event_point.y > EPSILON:\n",
    "            raise ValueError(f\"Event point {self._event_point} isn't in y-range of compared segment {segment2}.\")\n",
    "        elif segment1 == segment2:\n",
    "            return CR.MATCH\n",
    "        elif isinstance(segment1.intersection(segment2), LineSegment):\n",
    "            segment1_coordinates = (segment1.upper.x, segment1.upper.y, segment1.lower.x, segment1.lower.y)\n",
    "            segment2_coordinates = (segment2.upper.x, segment2.upper.y, segment2.lower.x, segment2.lower.y)\n",
    "            if segment1_coordinates == segment2_coordinates:\n",
    "                return CR.MATCH\n",
    "            elif segment1_coordinates < segment2_coordinates:\n",
    "                return CR.BEFORE\n",
    "            else:\n",
    "                return CR.AFTER\n",
    "        elif abs(segment1.upper.y - segment1.lower.y) <= EPSILON:\n",
    "            if self._compare_point_with_segment(self._event_point, segment2) is CR.BEFORE:\n",
    "                return CR.BEFORE\n",
    "            else:\n",
    "                return CR.AFTER\n",
    "        elif abs(segment2.upper.y - segment2.lower.y) <= EPSILON:\n",
    "            if self._compare_point_with_segment(self._event_point, segment1) is CR.BEFORE:\n",
    "                return CR.AFTER\n",
    "            else:\n",
    "                return CR.BEFORE\n",
    "        else:\n",
    "            return None"
   ]
  },
  {
   "attachments": {},
   "cell_type": "markdown",
   "metadata": {},
   "source": [
    "Now we can implement Plane Sweep itself.\n",
    "We follow the approach from \\[1, pp. 26–27\\].\n",
    "\n",
    "At first, the status structure is initialised as an empty binary tree, while the event queue is initialised as a binary tree containing all line segment endpoints as keys.\n",
    "The event queue also stores a value for each key that consists of the list of line segments having this key as their upper endpoint.\n",
    "That's why the event queue's type is <tt>BinaryTreeDict</tt> as opposed to the simple <tt>BinaryTree</tt> type used for the status structure, which doesn't support values.\n",
    "\n",
    "During each step of the actual sweep, an event point is popped from the queue along with the segments having it as their upper endpoint.\n",
    "A subsequent search in the status structure yields all other line segments containing the event point, which are promptly deleted from the status structure.\n",
    "Next, those segments having the event point as their upper endpoint or containing it in their interior are inserted into the status structure.\n",
    "This is done according to the new status structure order induced by the event point, as implemented in the comparator above.\n",
    "Note that segments containing the event point in their interior are deleted and re-inserted, so their order in the status structure is reversed.\n",
    "(Except for the relative order of overlapping line segments, which doesn't matter as stated above.)\n",
    "Hence, there's no need for a separate swap procedure and the degenerate case of more than 2 line segments intersecting in one point is handled elegantly (see \\[1, p. 26\\]).\n",
    "\n",
    "Then the segments that have become adjacent in the status structure due to the deletions and (re-)insertions are checked for intersections.\n",
    "If there now aren't any line segments in the status structure that contain the event point, the left and right status neighbours of the event point are adjacent.\n",
    "Otherwise, the left status neighbour is adjacent to the leftmost containing segment in the status structure, whereas the right status neighbour is adjacent to the rightmost such segment.\n",
    "In both cases, an intersection point of two newly adjacent segments is added to the event queue if it hasn't already been visited by the sweep line.\n",
    "\n",
    "Finally, the event point is reported along with all its containing line segments.\n",
    "Points with at least two containing segments are intersection points."
   ]
  },
  {
   "cell_type": "code",
   "execution_count": 8,
   "metadata": {},
   "outputs": [],
   "source": [
    "def plane_sweep_lsi(segments: set[LineSegment]) -> PointSequenceDict:\n",
    "    return PlaneSweepLSI(segments).sweep()\n",
    "\n",
    "class PlaneSweepLSI:\n",
    "    def __init__(self, segments: set[LineSegment]):\n",
    "        self._status_structure_comparator = StatusStructureComparator()\n",
    "        self._event_queue_comparator = EventQueueComparator()\n",
    "\n",
    "        self._status_structure: BinaryTree[LineSegment] = BinaryTree(self._status_structure_comparator)\n",
    "        self._event_queue: BinaryTreeDict[Point, list[LineSegment]] = BinaryTreeDict(self._event_queue_comparator)\n",
    "\n",
    "        self._default_value_updater = lambda u_segments: [] if u_segments is None else u_segments\n",
    "        for segment in segments:\n",
    "            def upper_endpoint_value_updater(u_segments: Optional[list[LineSegment]]) -> list[LineSegment]:\n",
    "                u_segments = self._default_value_updater(u_segments)\n",
    "                u_segments.append(segment)\n",
    "                return u_segments\n",
    "            self._event_queue.update(segment.upper, upper_endpoint_value_updater)\n",
    "            self._event_queue.update(segment.lower, self._default_value_updater)\n",
    "\n",
    "    def sweep(self) -> PointSequenceDict:\n",
    "        intersections = PointSequenceDict()\n",
    "        while not self._event_queue.is_empty():\n",
    "            event_point, containing_segments = self._handle_event()\n",
    "            if len(containing_segments) >= 2:\n",
    "                intersections.add(event_point, containing_segments)\n",
    "            else:\n",
    "                intersections.animate(event_point)    # Animate event_point even if it's not an intersection point.\n",
    "\n",
    "        return intersections\n",
    "\n",
    "    def _handle_event(self) -> tuple[Point, list[LineSegment]]:\n",
    "        event_point, containing_segments = self._event_queue.pop_first()\n",
    "        for segment in self._status_structure.search_matching(event_point):\n",
    "            self._status_structure.delete(segment)\n",
    "            containing_segments.append(segment)\n",
    "\n",
    "        self._status_structure_comparator.set_event_point(event_point)\n",
    "\n",
    "        def lower_endpoint_is_not_event_point(segment: LineSegment) -> bool:\n",
    "            return self._event_queue_comparator.compare(segment.lower, event_point) is not CR.MATCH\n",
    "        for segment in filter(lower_endpoint_is_not_event_point, containing_segments):\n",
    "            self._status_structure.insert(segment)\n",
    "\n",
    "        left_status_neighbour = self._status_structure.search_predecessor(event_point)\n",
    "        containing_status_segments = self._status_structure.search_matching(event_point)\n",
    "        right_status_neighbour = self._status_structure.search_successor(event_point)\n",
    "        if not containing_status_segments:\n",
    "            if left_status_neighbour is not None and right_status_neighbour is not None:\n",
    "                self._find_new_event(left_status_neighbour, right_status_neighbour, event_point)\n",
    "        else:\n",
    "            if left_status_neighbour is not None:\n",
    "                self._find_new_event(left_status_neighbour, containing_status_segments[0], event_point)\n",
    "            if right_status_neighbour is not None:\n",
    "                self._find_new_event(containing_status_segments[-1], right_status_neighbour, event_point)\n",
    "\n",
    "        return event_point, containing_segments\n",
    "\n",
    "    def _find_new_event(self, left_segment: LineSegment, right_segment: LineSegment, event_point: Point):\n",
    "        intersection = left_segment.intersection(right_segment)\n",
    "        if isinstance(intersection, Point):\n",
    "            if self._event_queue_comparator.compare(intersection, event_point) is CR.AFTER:\n",
    "                self._event_queue.update(intersection, self._default_value_updater)"
   ]
  },
  {
   "attachments": {},
   "cell_type": "markdown",
   "metadata": {},
   "source": [
    "The running time of Plane Sweep is in $O((n + i) \\log(n))$ and the required space for its data structures is in $O(n + i)$, where $i$ is the number of intersection points.\n",
    "Note that the full size of the output can be considerably greater than $i$ because the intersecting segments are part of the output as well (see \\[1, p. 28\\]).\n",
    "\n",
    "Obviously, this algorithm performs worse the closer $i$ gets to the worst case of $n^2$ intersections, eventually losing out to Brute Force.\n",
    "Another weakness of Plane Sweep is its sensitivity to robustness issues:\n",
    "If the status structure becomes erroneous at any step, e.g. due to a wrong order of segments or a missed deletion of one segment, then the status invariants are violated at subsequents steps, likely resulting in a halt of execution.\n",
    "Although the given implementation has a high success rate on well-behaved inputs, it's possible to find inputs that make it fail.\n",
    "In such cases Brute Force could be used as a fallback method."
   ]
  },
  {
   "cell_type": "code",
   "execution_count": 9,
   "metadata": {},
   "outputs": [],
   "source": [
    "visualisation_tool.register_algorithm(\"Plane Sweep\", plane_sweep_lsi, SweepLineMode())"
   ]
  },
  {
   "attachments": {},
   "cell_type": "markdown",
   "metadata": {},
   "source": [
    "The animations of Plane Sweep show how the sweep line passes the event points from top to bottom."
   ]
  },
  {
   "cell_type": "code",
   "execution_count": 10,
   "metadata": {},
   "outputs": [
    {
     "data": {
      "text/html": [
       "<img style='float: left;' src='./images/02-image02.png'>"
      ]
     },
     "metadata": {},
     "output_type": "display_data"
    }
   ],
   "source": [
    "visualisation_tool.display()"
   ]
  },
  {
   "cell_type": "markdown",
   "metadata": {},
   "source": [
    "__*Takeaways:*__\n",
    "\n",
    "* The plane sweep technique is useful and conceptually simple, but implementation details can get tricky.\n",
    "\n",
    "* A dynamic comparator is required for the status structure, and comparisons of line segments are numerically fragile."
   ]
  },
  {
   "cell_type": "markdown",
   "metadata": {},
   "source": [
    "## 4. References"
   ]
  },
  {
   "attachments": {},
   "cell_type": "markdown",
   "metadata": {},
   "source": [
    "\\[1\\] Mark de Berg, Otfried Cheong, Marc van Kreveld, and Mark Overmars. *Computational Geometry: Algorithms and Applications*, 3rd edition. 2008.\n",
    "\n",
    "\\[2\\] David M. Mount. *[CMSC 754: Computational Geometry (Spring 2020)](https://www.cs.umd.edu/class/spring2020/cmsc754/Lects/cmsc754-spring2020-lects.pdf)*. 2020."
   ]
  }
 ],
 "metadata": {
  "kernelspec": {
   "display_name": "geoalg-nb",
   "language": "python",
   "name": "python3"
  },
  "language_info": {
   "codemirror_mode": {
    "name": "ipython",
    "version": 3
   },
   "file_extension": ".py",
   "mimetype": "text/x-python",
   "name": "python",
   "nbconvert_exporter": "python",
   "pygments_lexer": "ipython3",
   "version": "3.11.2"
  }
 },
 "nbformat": 4,
 "nbformat_minor": 2
}
