{
 "cells": [
  {
   "cell_type": "markdown",
   "metadata": {},
   "source": [
    "# 02: Line Segment Intersection"
   ]
  },
  {
   "cell_type": "markdown",
   "metadata": {},
   "source": [
    "*Authors: Jan Erik Swiadek, Prof. Dr. Kevin Buchin*"
   ]
  },
  {
   "cell_type": "markdown",
   "metadata": {},
   "source": [
    "This notebook serves as supplementary learning material for the course **Geometric Algorithms**.\n",
    "It showcases implementations of algorithms and data structures presented in the lecture, and it elaborates on some practical considerations concerning their use.\n",
    "Furthermore, it provides interactive visualisations and animations."
   ]
  },
  {
   "cell_type": "markdown",
   "metadata": {},
   "source": [
    "## Table of Contents"
   ]
  },
  {
   "cell_type": "markdown",
   "metadata": {},
   "source": [
    "1. Setup  \n",
    "2. Introduction  \n",
    "3. Algorithms  \n",
    "    3.1. Brute Force  \n",
    "    3.2. Plane Sweep  \n",
    "4. References  "
   ]
  },
  {
   "cell_type": "markdown",
   "metadata": {},
   "source": [
    "## 1. Setup"
   ]
  },
  {
   "cell_type": "markdown",
   "metadata": {},
   "source": [
    "First let's import everything we need throughout this notebook, including our module for common geometry operations and data structures as well as our module for visualisation purposes.\n",
    "The geometry module will probably receive its own notebook later.\n",
    "\n",
    "TODO: Include generic data structure module (maybe also write 'common geometry primitives and operations' for distinction)"
   ]
  },
  {
   "cell_type": "code",
   "execution_count": null,
   "metadata": {},
   "outputs": [],
   "source": [
    "# Make our modules available for importing\n",
    "import os\n",
    "import sys\n",
    "modules_dir = os.path.abspath(\"../modules\")\n",
    "if modules_dir not in sys.path:\n",
    "    sys.path.append(modules_dir)\n",
    "\n",
    "# xxx module imports\n",
    "from data_structures import BinaryTree, Comparator, ComparisonResult\n",
    "from geometry import Point, LineSegment, Intersections\n",
    "from visualisation import Visualisation, LineSegmentsMode, PointsMode"
   ]
  },
  {
   "cell_type": "markdown",
   "metadata": {},
   "source": [
    "Additionally, we create a Visualisation object and register a few test instances for it."
   ]
  },
  {
   "cell_type": "code",
   "execution_count": null,
   "metadata": {},
   "outputs": [],
   "source": [
    "visualisation = Visualisation(400, 400, LineSegment, LineSegmentsMode(draw_vertices = True), PointsMode())\n",
    "\n",
    "from decimal import Decimal, getcontext\n",
    "\"\"\" getcontext().prec = 20 \"\"\"\n",
    "\n",
    "seg1 = LineSegment(Point(Decimal(150), Decimal(25)), Point(Decimal(100), Decimal(300)))\n",
    "seg2 = LineSegment(Point(Decimal(75), Decimal(150)), Point(Decimal(200), Decimal(250)))\n",
    "seg3 = LineSegment(Point(Decimal(50), Decimal(250)), Point(Decimal(300), Decimal(125)))\n",
    "seg4 = LineSegment(Point(Decimal(200), Decimal(100)), Point(Decimal(350), Decimal(225)))\n",
    "segments = set([seg1, seg2, seg3, seg4])\n",
    "\n",
    "visualisation.register_example_instance(\"test\", segments)"
   ]
  },
  {
   "cell_type": "code",
   "execution_count": null,
   "metadata": {},
   "outputs": [],
   "source": [
    "visualisation.display()"
   ]
  },
  {
   "cell_type": "markdown",
   "metadata": {},
   "source": [
    "## 2. Introduction"
   ]
  },
  {
   "cell_type": "markdown",
   "metadata": {},
   "source": [
    "Set $S = \\{s_1,\\dotsc,s_n\\}$ of (closed) line segments.\n",
    "Search for all intersection points and the corresponding intersecting segments.\n",
    "\n",
    "TODO: Explain more, include image."
   ]
  },
  {
   "cell_type": "markdown",
   "metadata": {},
   "source": [
    "## 3. Algorithms"
   ]
  },
  {
   "cell_type": "markdown",
   "metadata": {},
   "source": [
    "### 3.1 Brute Force"
   ]
  },
  {
   "cell_type": "markdown",
   "metadata": {},
   "source": [
    "Simple brute force algorithm: Just test each line segment pair for intersection.\n",
    "Running time is obviously $\\Theta(n^2)$, which is worst-case optimal."
   ]
  },
  {
   "cell_type": "code",
   "execution_count": null,
   "metadata": {},
   "outputs": [],
   "source": [
    "from itertools import combinations\n",
    "\n",
    "def brute_force_lsi(segments: set[LineSegment]) -> Intersections:\n",
    "    intersections = Intersections()\n",
    "    segments = list(segments)\n",
    "    #for i, segment1 in enumerate(segments):\n",
    "    #    for segment2 in segments[i+1:]:\n",
    "    for segment1, segment2 in combinations(segments, 2):\n",
    "        intersection = segment1.intersection(segment2)\n",
    "        if isinstance(intersection, Point):         # simply ignore the degenerate case (this doesn't work for plane sweep, I think...)\n",
    "            intersections.add(intersection, (segment1, segment2))\n",
    "    \n",
    "    return intersections"
   ]
  },
  {
   "cell_type": "code",
   "execution_count": null,
   "metadata": {},
   "outputs": [],
   "source": [
    "visualisation.register_algorithm(\"Brute Force\", brute_force_lsi)"
   ]
  },
  {
   "cell_type": "code",
   "execution_count": null,
   "metadata": {},
   "outputs": [],
   "source": [
    "visualisation.display()"
   ]
  },
  {
   "cell_type": "markdown",
   "metadata": {},
   "source": [
    "TODO: Include takeaways"
   ]
  },
  {
   "cell_type": "markdown",
   "metadata": {},
   "source": [
    "### 3.2 Plane Sweep"
   ]
  },
  {
   "cell_type": "markdown",
   "metadata": {},
   "source": [
    "Most of the time, not all segment pairs intersect.\n",
    "Output-sensitive algorithm using the *plane sweep* technique.\n",
    "\n",
    "TODO: Add explanations. What about degenerate cases?"
   ]
  },
  {
   "cell_type": "markdown",
   "metadata": {},
   "source": [
    "First, define comparators for data structures. The status structure needs a *dynamic comparator* (TODO: explain; see [Mount, pp. 24--25])."
   ]
  },
  {
   "cell_type": "code",
   "execution_count": null,
   "metadata": {},
   "outputs": [],
   "source": [
    "from typing import Any, Optional\n",
    "import sys\n",
    "\n",
    "class EventQueueComparator(Comparator[Point]):\n",
    "    def __call__(self, key: Point, item: Any) -> ComparisonResult:\n",
    "        if not isinstance(item, Point):\n",
    "            raise TypeError(\"Event points can only be compared with other points.\")\n",
    "        if key.y > item.y or (key.y == item.y and key.x < item.x):      # TODO: maybe make is_upper method or similar (see [CG, p. 24] for order)\n",
    "            return ComparisonResult.SMALLER\n",
    "        elif key == item:\n",
    "            return ComparisonResult.EQUAL\n",
    "        else:\n",
    "            return ComparisonResult.GREATER\n",
    "\n",
    "class StatusStructureComparator(Comparator[LineSegment]):\n",
    "    def __init__(self):\n",
    "        self.event_point: Point = None\n",
    "\n",
    "    def set_event_point(self, event_point: Point):\n",
    "        self.event_point = event_point\n",
    "\n",
    "    def compare_segments(self, key: LineSegment, item: LineSegment) -> ComparisonResult:\n",
    "        if self.event_point is None:\n",
    "            raise RuntimeError(\"Event point not set...\")        # Do this differently?\n",
    "        elif min(key.upper.y, item.upper.y) < self.event_point.y or max(key.lower.y, item.lower.y) > self.event_point.y:\n",
    "            raise ValueError(\"Event point has to be in y-ranges of both line segments.\")\n",
    "        elif key.upper.y == key.lower.y:\n",
    "            if item.upper.y != item.lower.y or (key.upper.x > item.upper.x and key.lower.x > item.lower.x):\n",
    "                return ComparisonResult.GREATER\n",
    "            elif key.upper.x < item.upper.x and key.lower.x < item.lower.x:\n",
    "                return ComparisonResult.SMALLER\n",
    "            else:\n",
    "                pass    # TODO: What if one segment is contained in another one? (-> degenerate case)\n",
    "        elif item.upper.y == item.lower.y:\n",
    "            return ComparisonResult.SMALLER\n",
    "        else:\n",
    "            key_point = key.get_point_at_same_height(self.event_point)\n",
    "            item_point = item.get_point_at_same_height(self.event_point)\n",
    "            if abs(key_point.x - item_point.x) < sys.float_info.epsilon:        # Works with Decimal in the example. TODO: Check general case.\n",
    "                if key.lower.x < item.lower.x:\n",
    "                    return ComparisonResult.SMALLER\n",
    "                elif key.lower.x > item.lower.x:\n",
    "                    return ComparisonResult.GREATER\n",
    "                else:\n",
    "                    return ComparisonResult.EQUAL\n",
    "            elif key_point.x < item_point.x:\n",
    "                return ComparisonResult.SMALLER\n",
    "            #elif key_point.x > item_point.x:\n",
    "            else:\n",
    "                return ComparisonResult.GREATER\n",
    "\n",
    "    def __call__(self, key: LineSegment, item: Any) -> ComparisonResult:\n",
    "        if isinstance(item, LineSegment):\n",
    "            return self.compare_segments(key, item)\n",
    "        elif isinstance(item, Point):\n",
    "            if key.upper.y < item.y or key.lower.y > item.y:\n",
    "                print(key)\n",
    "                print(item)\n",
    "                raise ValueError(\"Point has to be in y-range of line segment.\")\n",
    "            elif key.upper.y == key.lower.y:\n",
    "                if key.lower.x < item.x:\n",
    "                    return ComparisonResult.SMALLER\n",
    "                elif key.upper.x > item.x:\n",
    "                    return ComparisonResult.GREATER\n",
    "                else:\n",
    "                    return ComparisonResult.EQUAL\n",
    "            else:\n",
    "                point = key.get_point_at_same_height(item)\n",
    "                if abs(point.x - item.x) < sys.float_info.epsilon:      # Works with Decimal in the example. TODO: Check general case.\n",
    "                    return ComparisonResult.EQUAL\n",
    "                if point.x < item.x:\n",
    "                    return ComparisonResult.SMALLER\n",
    "                #elif point.x > item.x:\n",
    "                else:\n",
    "                    return ComparisonResult.GREATER\n",
    "        else:\n",
    "            raise TypeError(\"Status line segments can only be compared with line segments or points.\")\n"
   ]
  },
  {
   "cell_type": "markdown",
   "metadata": {},
   "source": [
    "Now we can implement the plane sweep algorithm."
   ]
  },
  {
   "cell_type": "code",
   "execution_count": null,
   "metadata": {},
   "outputs": [],
   "source": [
    "class PlaneSweepLSI:\n",
    "    def __init__(self, segments: set[LineSegment]):\n",
    "        self.event_queue: BinaryTree[Point, list[LineSegment]] = BinaryTree(EventQueueComparator())\n",
    "        for segment in segments:\n",
    "            def updater(segments: Optional[list[LineSegment]]) -> list[LineSegment]:\n",
    "                if segments is None:\n",
    "                    return [segment]\n",
    "                segments.append(segment)\n",
    "                return segments\n",
    "            self.event_queue.update(segment.upper, updater)\n",
    "            self.event_queue.update(segment.lower, lambda value: value or [])\n",
    "        self.status_structure_comparator = StatusStructureComparator()\n",
    "        self.status_structure: BinaryTree[LineSegment, None] = BinaryTree(self.status_structure_comparator)\n",
    "\n",
    "    def sweep(self) -> Intersections:\n",
    "        intersections = Intersections()\n",
    "\n",
    "        while not self.event_queue.is_empty():\n",
    "            event_point, intersecting_segs = self._handle_event_point()\n",
    "            if intersecting_segs:\n",
    "                intersections.add(event_point, intersecting_segs)\n",
    "\n",
    "        return intersections\n",
    "\n",
    "    def _handle_event_point(self) -> tuple[Point, set[LineSegment]]:\n",
    "        result_segments: set[LineSegment] = set()\n",
    "\n",
    "        \"\"\" print(f\"Event queue: {event_queue}\")\n",
    "        print(f\"Status structure: {status_structure}\") \"\"\"\n",
    "\n",
    "        p, segments_u = self.event_queue.pop_smallest()\n",
    "\n",
    "        \"\"\" print(f\"Event point: {p}\")\n",
    "        print(f\"Event queue after pop: {event_queue}\")\n",
    "        print() \"\"\"\n",
    "\n",
    "        segments_c, segments_l = [], []\n",
    "\n",
    "        for seg in self.status_structure.range_between_neighbours(p):\n",
    "            if seg.lower == p:\n",
    "                segments_l.append(seg)\n",
    "            else:\n",
    "                segments_c.append(seg)\n",
    "\n",
    "        if len(segments_u) + len(segments_c) + len(segments_l) >= 2:\n",
    "            result_segments = set((*segments_u, *segments_c, *segments_l))\n",
    "        for seg in *segments_c, *segments_l:\n",
    "            self.status_structure.delete(seg)\n",
    "\n",
    "        self.status_structure_comparator.set_event_point(p)\n",
    "        for seg in *segments_u, *segments_c:\n",
    "            self.status_structure.insert(seg, None)\n",
    "\n",
    "        if not segments_u and not segments_c:\n",
    "            seg_l = self.status_structure.smaller_neighbour(p)\n",
    "            seg_r = self.status_structure.greater_neighbour(p)\n",
    "            if seg_l is not None and seg_r is not None:\n",
    "                self._find_new_event(seg_l, seg_r, p)\n",
    "        else:\n",
    "            seg_dash = self.status_structure.range_between_neighbours(p)[0]          # TODO: maybe we don't need the status structure here...\n",
    "            seg_l = self.status_structure.smaller_neighbour(seg_dash)\n",
    "            if seg_l is not None:\n",
    "                self._find_new_event(seg_l, seg_dash, p)\n",
    "            seg_dashdash = self.status_structure.range_between_neighbours(p)[-1]     # TODO: maybe we don't need the status structure here...\n",
    "            seg_r = self.status_structure.greater_neighbour(seg_dashdash)\n",
    "            if seg_r is not None:\n",
    "                self._find_new_event(seg_dashdash, seg_r, p)\n",
    "\n",
    "        return p, result_segments\n",
    "\n",
    "\n",
    "    def _find_new_event(self, left_segment: LineSegment, right_segment: LineSegment, point: Point):\n",
    "        intersection = left_segment.intersection(right_segment)\n",
    "        if isinstance(intersection, Point):         # TODO: What if segments overlap? (-> edge case)\n",
    "            if intersection.y < point.y or (intersection.y == point.y and intersection.x > point.x):\n",
    "                self.event_queue.update(intersection, lambda value: value or [])    # TODO: Might already be inserted. Alternatively, use deletion strategy.\n"
   ]
  },
  {
   "cell_type": "code",
   "execution_count": null,
   "metadata": {},
   "outputs": [],
   "source": [
    "visualisation.register_algorithm(\"Plane Sweep\", lambda x: PlaneSweepLSI(x).sweep())     # TODO: Change this?"
   ]
  },
  {
   "cell_type": "code",
   "execution_count": null,
   "metadata": {},
   "outputs": [],
   "source": [
    "visualisation.display()"
   ]
  },
  {
   "cell_type": "markdown",
   "metadata": {},
   "source": [
    "TODO: Include Takeaways"
   ]
  },
  {
   "cell_type": "markdown",
   "metadata": {},
   "source": [
    "# TESTS"
   ]
  },
  {
   "cell_type": "code",
   "execution_count": null,
   "metadata": {},
   "outputs": [],
   "source": [
    "\"\"\" seg1 = LineSegment(Point(6, 1), Point(4, 12))\n",
    "seg2 = LineSegment(Point(3, 6), Point(8, 10))\n",
    "seg3 = LineSegment(Point(2, 10), Point(12, 5))\n",
    "seg4 = LineSegment(Point(8, 4), Point(14, 9))\n",
    "segments = set([seg1, seg2, seg3, seg4]) \"\"\"\n",
    "\n",
    "seg1 = LineSegment(Point(Decimal(6), Decimal(1)), Point(Decimal(4), Decimal(12)))\n",
    "seg2 = LineSegment(Point(Decimal(3), Decimal(6)), Point(Decimal(8), Decimal(10)))\n",
    "seg3 = LineSegment(Point(Decimal(2), Decimal(10)), Point(Decimal(12), Decimal(5)))\n",
    "seg4 = LineSegment(Point(Decimal(8), Decimal(4)), Point(Decimal(14), Decimal(9)))\n",
    "segments = set([seg1, seg2, seg3, seg4])\n",
    "\n",
    "print(seg1.intersection(seg2))\n",
    "print()\n",
    "\n",
    "print(brute_force_lsi(segments))\n",
    "print()\n",
    "\n",
    "print(PlaneSweepLSI(segments).sweep())"
   ]
  },
  {
   "cell_type": "code",
   "execution_count": null,
   "metadata": {},
   "outputs": [],
   "source": [
    "point = seg1.intersection(seg2)\n",
    "\n",
    "print(point)\n",
    "\n",
    "comp = StatusStructureComparator()\n",
    "print(comp(seg1, point))\n",
    "print(comp(seg2, point))\n",
    "\n",
    "print(seg1.get_point_at_same_height(point))\n",
    "print(seg2.get_point_at_same_height(point))"
   ]
  },
  {
   "cell_type": "markdown",
   "metadata": {},
   "source": [
    "## 4. References"
   ]
  },
  {
   "cell_type": "markdown",
   "metadata": {},
   "source": [
    "[1] Mark de Berg, Otfried Cheong, Marc van Kreveld, and Mark Overmars. *Computational Geometry: Algorithms and Applications*, 3rd Edition, 2008.\n",
    "\n",
    "[2] David M. Mount. [*CMSC 754: Computational Geometry*](https://www.cs.umd.edu/class/spring2020/cmsc754/Lects/cmsc754-spring2020-lects.pdf), 2020."
   ]
  }
 ],
 "metadata": {
  "kernelspec": {
   "display_name": "Python 3.9.7 ('base')",
   "language": "python",
   "name": "python3"
  },
  "language_info": {
   "codemirror_mode": {
    "name": "ipython",
    "version": 3
   },
   "file_extension": ".py",
   "mimetype": "text/x-python",
   "name": "python",
   "nbconvert_exporter": "python",
   "pygments_lexer": "ipython3",
   "version": "3.9.7"
  },
  "orig_nbformat": 4,
  "vscode": {
   "interpreter": {
    "hash": "b48264eb95706e162d01c04d685d59c09b9997374e8df34f814a7711d35cc8a0"
   }
  }
 },
 "nbformat": 4,
 "nbformat_minor": 2
}
