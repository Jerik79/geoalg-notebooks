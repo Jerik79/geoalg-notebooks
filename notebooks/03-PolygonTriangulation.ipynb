{
 "cells": [
  {
   "attachments": {},
   "cell_type": "markdown",
   "metadata": {},
   "source": [
    "# 03: Polygon Triangulation"
   ]
  },
  {
   "attachments": {},
   "cell_type": "markdown",
   "metadata": {},
   "source": [
    "*Authors: Jan Erik Swiadek, Prof. Dr. Kevin Buchin*"
   ]
  },
  {
   "attachments": {},
   "cell_type": "markdown",
   "metadata": {},
   "source": [
    "This notebook serves as supplementary learning material for the course **Geometric Algorithms**.\n",
    "It showcases implementations of algorithms and data structures presented in the lecture, and it elaborates on some practical considerations concerning their use.\n",
    "Furthermore, it provides interactive visualisations and animations."
   ]
  },
  {
   "attachments": {},
   "cell_type": "markdown",
   "metadata": {},
   "source": [
    "## Table of Contents"
   ]
  },
  {
   "attachments": {},
   "cell_type": "markdown",
   "metadata": {},
   "source": [
    "1. Introduction  \n",
    "2. Setup  \n",
    "3. Algorithms  \n",
    "    3.1. Recursive Triangulation  \n",
    "    3.2. Monotone Partitioning  \n",
    "    3.3. Piecewise Triangulation  \n",
    "4. Art Gallery Problem  \n",
    "5. References  "
   ]
  },
  {
   "attachments": {},
   "cell_type": "markdown",
   "metadata": {},
   "source": [
    "## 1. Introduction"
   ]
  },
  {
   "attachments": {},
   "cell_type": "markdown",
   "metadata": {},
   "source": [
    "A **polygon triangulation** is ..."
   ]
  },
  {
   "attachments": {},
   "cell_type": "markdown",
   "metadata": {},
   "source": [
    "## 2. Setup"
   ]
  },
  {
   "attachments": {},
   "cell_type": "markdown",
   "metadata": {},
   "source": [
    "First let's do some setup. This is not very interesting, so you can skip to Section 3 if you want.\n",
    "\n",
    "We now import everything we'll need throughout this notebook from external modules, including our module for generic data structures, our module for common geometric primitives and operations as well as our module for visualisation purposes. (The data structure and geometry modules will probably receive their own notebook later.)"
   ]
  },
  {
   "cell_type": "code",
   "execution_count": null,
   "metadata": {},
   "outputs": [],
   "source": [
    "from typing import Optional\n",
    "\n",
    "# Data structure, geometry and visualisation module imports\n",
    "from modules.geometry import Point, LineSegment, DoublyConnectedPolygon, Vertex, HalfEdge\n",
    "from modules.visualisation import VisualisationTool, SimplePolygonInstance, LineSegmentsMode"
   ]
  },
  {
   "attachments": {},
   "cell_type": "markdown",
   "metadata": {},
   "source": [
    "Additionally, we create an object for our visualisation tool and register a few example instances."
   ]
  },
  {
   "cell_type": "code",
   "execution_count": null,
   "metadata": {},
   "outputs": [],
   "source": [
    "visualisation_tool = VisualisationTool(400, 400, SimplePolygonInstance())   # TODO: Probably should change PolygonMode behaviour...\n",
    "\n",
    "square = DoublyConnectedPolygon()\n",
    "square.add_vertex(Point(150, 150))\n",
    "square.add_vertex(Point(150, 250))\n",
    "square.add_vertex(Point(250, 250))\n",
    "square.add_vertex(Point(250, 150))\n",
    "square.close()\n",
    "visualisation_tool.register_example_instance(\"square\", square)"
   ]
  },
  {
   "attachments": {},
   "cell_type": "markdown",
   "metadata": {},
   "source": [
    "## 3. Algorithms"
   ]
  },
  {
   "attachments": {},
   "cell_type": "markdown",
   "metadata": {},
   "source": [
    "..."
   ]
  },
  {
   "attachments": {},
   "cell_type": "markdown",
   "metadata": {},
   "source": [
    "### 3.1. Recursive Triangulation"
   ]
  },
  {
   "attachments": {},
   "cell_type": "markdown",
   "metadata": {},
   "source": [
    "Explanations ..."
   ]
  },
  {
   "cell_type": "code",
   "execution_count": null,
   "metadata": {},
   "outputs": [],
   "source": [
    "# TODO: Input polygon should be simple, closed, have at least 3 vertices and no diagonals (maybe encode in type). Should the input be copied?\n",
    "def recursive_pt(polygon: DoublyConnectedPolygon) -> DoublyConnectedPolygon:\n",
    "    if polygon._number_of_vertices <= 3:\n",
    "        return polygon\n",
    "    anchor_edges = [polygon._root_vertex._edge]\n",
    "    while anchor_edges:\n",
    "        leftmost_edge = get_leftmost_edge(anchor_edges.pop())\n",
    "        connection_edges = get_connection_edges(leftmost_edge)\n",
    "        if connection_edges is not None:\n",
    "            diagonal = polygon.add_diagonal(connection_edges[0], connection_edges[1])\n",
    "            anchor_edges.extend((diagonal, diagonal._twin))\n",
    "    return polygon\n",
    "\n",
    "def get_leftmost_edge(anchor_edge: HalfEdge) -> HalfEdge:\n",
    "    leftmost_edge, leftmost_vertex = anchor_edge, anchor_edge._origin\n",
    "    edge = anchor_edge._next\n",
    "    while edge is not anchor_edge:\n",
    "        vertex = edge._origin\n",
    "        if vertex.x < leftmost_vertex.x or (vertex.x == leftmost_vertex.x and vertex.y < leftmost_vertex.y):\n",
    "            leftmost_edge, leftmost_vertex = edge, vertex\n",
    "        edge = edge._next\n",
    "    return leftmost_edge\n",
    "\n",
    "def get_connection_edges(leftmost_edge: HalfEdge) -> Optional[tuple[HalfEdge, HalfEdge]]:\n",
    "    edge = leftmost_edge._next._next\n",
    "    if edge is leftmost_edge._prev:\n",
    "        return None\n",
    "\n",
    "    triangle = (leftmost_edge._prev._origin, leftmost_edge._origin, leftmost_edge._next._origin)\n",
    "    connection_edge, max_coordinate = None, 0.0\n",
    "    while edge is not leftmost_edge._prev:\n",
    "        area_coordinates = get_area_coordinates(edge._origin, triangle)\n",
    "        if all(0.0 <= coordinate <= 1.0 for coordinate in area_coordinates):\n",
    "            if connection_edge is None or area_coordinates[1] > max_coordinate:\n",
    "                connection_edge, max_coordinate = edge, area_coordinates[1]\n",
    "        edge = edge._next\n",
    "    if connection_edge is not None:\n",
    "        return leftmost_edge, connection_edge\n",
    "\n",
    "    return leftmost_edge._prev, leftmost_edge._next\n",
    "\n",
    "def get_area_coordinates(vertex: Vertex, triangle: tuple[Vertex, Vertex, Vertex]) -> tuple[float, float, float]:\n",
    "    parallelogram_area = signed_area(triangle[0], triangle[1], triangle[2])\n",
    "    return (\n",
    "        signed_area(vertex, triangle[1], triangle[2]) / parallelogram_area,\n",
    "        signed_area(triangle[0], vertex, triangle[2]) / parallelogram_area,\n",
    "        signed_area(triangle[0], triangle[1], vertex) / parallelogram_area\n",
    "    )\n",
    "\n",
    "def signed_area(u: Vertex, v: Vertex, w: Vertex) -> float:\n",
    "    p, q, r = u._point, v._point, w._point\n",
    "    return (q - p).cross(r - p)"
   ]
  },
  {
   "cell_type": "code",
   "execution_count": null,
   "metadata": {},
   "outputs": [],
   "source": [
    "#recursive_pt(square)"
   ]
  },
  {
   "attachments": {},
   "cell_type": "markdown",
   "metadata": {},
   "source": [
    "Runs in $O(n^2)$.\n",
    "\n",
    "Now visualisation."
   ]
  },
  {
   "cell_type": "code",
   "execution_count": null,
   "metadata": {},
   "outputs": [],
   "source": [
    "visualisation_tool.register_algorithm(\"rec\", recursive_pt, LineSegmentsMode(endpoint_radius = 0.0))\n",
    "# TODO: Implement appropriate mode. Maybe make Triangulation object."
   ]
  },
  {
   "attachments": {},
   "cell_type": "markdown",
   "metadata": {},
   "source": [
    "If you haven't used our interactive visualisation tool before, see the convex hull notebook for an explanation. ..."
   ]
  },
  {
   "cell_type": "code",
   "execution_count": null,
   "metadata": {},
   "outputs": [],
   "source": [
    "visualisation_tool.display()"
   ]
  },
  {
   "attachments": {},
   "cell_type": "markdown",
   "metadata": {},
   "source": [
    "### 3.2. Monotone Partitioning"
   ]
  },
  {
   "attachments": {},
   "cell_type": "markdown",
   "metadata": {},
   "source": [
    "..."
   ]
  },
  {
   "attachments": {},
   "cell_type": "markdown",
   "metadata": {},
   "source": [
    "### 3.3. Piecewise Triangulation"
   ]
  },
  {
   "attachments": {},
   "cell_type": "markdown",
   "metadata": {},
   "source": [
    "..."
   ]
  },
  {
   "attachments": {},
   "cell_type": "markdown",
   "metadata": {},
   "source": [
    "## 4. Art Gallery Problem"
   ]
  },
  {
   "attachments": {},
   "cell_type": "markdown",
   "metadata": {},
   "source": [
    "Maybe use the simple approach from [3] to solve the *Art Gallery Problem* ... the dual graph approach is explained in [1] but it's more involved."
   ]
  },
  {
   "attachments": {},
   "cell_type": "markdown",
   "metadata": {},
   "source": [
    "## 5. References"
   ]
  },
  {
   "attachments": {},
   "cell_type": "markdown",
   "metadata": {},
   "source": [
    "[1] Mark de Berg, Otfried Cheong, Marc van Kreveld, and Mark Overmars. *Computational Geometry: Algorithms and Applications*, 3rd Edition, 2008.\n",
    "\n",
    "[2] David M. Mount. [*CMSC 754: Computational Geometry*](https://www.cs.umd.edu/class/spring2020/cmsc754/Lects/cmsc754-spring2020-lects.pdf), 2020.\n",
    "\n",
    "[3] Ali A. Kooshesh, and Bernard M. E. Moret. *Three-coloring the Vertices of a Triangulated Simple Polygon*, Pattern Recognition 25(4), p. 443, 1992."
   ]
  }
 ],
 "metadata": {
  "kernelspec": {
   "display_name": "base",
   "language": "python",
   "name": "python3"
  },
  "language_info": {
   "codemirror_mode": {
    "name": "ipython",
    "version": 3
   },
   "file_extension": ".py",
   "mimetype": "text/x-python",
   "name": "python",
   "nbconvert_exporter": "python",
   "pygments_lexer": "ipython3",
   "version": "3.9.7 (default, Sep 16 2021, 13:09:58) \n[GCC 7.5.0]"
  },
  "orig_nbformat": 4,
  "vscode": {
   "interpreter": {
    "hash": "b48264eb95706e162d01c04d685d59c09b9997374e8df34f814a7711d35cc8a0"
   }
  }
 },
 "nbformat": 4,
 "nbformat_minor": 2
}
