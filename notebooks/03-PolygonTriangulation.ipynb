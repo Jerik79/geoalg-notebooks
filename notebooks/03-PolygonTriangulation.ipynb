{
 "cells": [
  {
   "attachments": {},
   "cell_type": "markdown",
   "metadata": {},
   "source": [
    "# 03: Polygon Triangulation"
   ]
  },
  {
   "attachments": {},
   "cell_type": "markdown",
   "metadata": {},
   "source": [
    "*Authors: Jan Erik Swiadek, Prof. Dr. Kevin Buchin*"
   ]
  },
  {
   "attachments": {},
   "cell_type": "markdown",
   "metadata": {},
   "source": [
    "This notebook serves as supplementary learning material for the course **Geometric Algorithms**.\n",
    "It showcases implementations of algorithms and data structures presented in the lecture, and it elaborates on some practical considerations concerning their use.\n",
    "Furthermore, it provides interactive visualisations and animations."
   ]
  },
  {
   "attachments": {},
   "cell_type": "markdown",
   "metadata": {},
   "source": [
    "## Table of Contents"
   ]
  },
  {
   "attachments": {},
   "cell_type": "markdown",
   "metadata": {},
   "source": [
    "1. Introduction  \n",
    "2. Setup  \n",
    "3. Algorithms  \n",
    "    3.1. Recursive Triangulation  \n",
    "    3.2. Monotone Partitioning  \n",
    "    3.3. Piecewise Triangulation  \n",
    "4. Art Gallery Problem  \n",
    "5. References  "
   ]
  },
  {
   "attachments": {},
   "cell_type": "markdown",
   "metadata": {},
   "source": [
    "## 1. Introduction"
   ]
  },
  {
   "attachments": {},
   "cell_type": "markdown",
   "metadata": {},
   "source": [
    "A **polygon triangulation** is ..."
   ]
  },
  {
   "attachments": {},
   "cell_type": "markdown",
   "metadata": {},
   "source": [
    "## 2. Setup"
   ]
  },
  {
   "attachments": {},
   "cell_type": "markdown",
   "metadata": {},
   "source": [
    "First let's do some setup. This is not very interesting, so you can skip to Section 3 if you want.\n",
    "\n",
    "We now import everything we'll need throughout this notebook from external modules, including our module for generic data structures, our module for common geometric primitives and operations as well as our module for visualisation purposes. (The data structure and geometry modules will probably receive their own notebook later.)"
   ]
  },
  {
   "cell_type": "code",
   "execution_count": null,
   "metadata": {},
   "outputs": [],
   "source": [
    "from typing import Any, Callable, Optional\n",
    "from enum import Enum, auto\n",
    "import copy\n",
    "\n",
    "# Data structure, geometry and visualisation module imports\n",
    "from modules.data_structures import BinaryTreeDict, Comparator, ComparisonResult as CR\n",
    "from modules.geometry import Point, LineSegment, DoublyConnectedSimplePolygon, Vertex, HalfEdge, Orientation as ORT\n",
    "from modules.visualisation import VisualisationTool, SimplePolygonInstance, LineSegmentsMode"
   ]
  },
  {
   "attachments": {},
   "cell_type": "markdown",
   "metadata": {},
   "source": [
    "Additionally, we create an object for our visualisation tool and register a few example instances."
   ]
  },
  {
   "cell_type": "code",
   "execution_count": null,
   "metadata": {},
   "outputs": [],
   "source": [
    "visualisation_tool = VisualisationTool(400, 400, SimplePolygonInstance())   # TODO: Probably should change PolygonMode behaviour...\n",
    "\n",
    "square = DoublyConnectedSimplePolygon()\n",
    "square.add_vertex(Point(150, 150))\n",
    "square.add_vertex(Point(150, 250))\n",
    "square.add_vertex(Point(250, 250))\n",
    "square.add_vertex(Point(250, 150))\n",
    "visualisation_tool.register_example_instance(\"square\", square)\n",
    "\n",
    "mouse = DoublyConnectedSimplePolygon()\n",
    "mouse.add_vertex(Point(116.75, 176))\n",
    "mouse.add_vertex(Point(43.75, 116))\n",
    "mouse.add_vertex(Point(46.75, 51))\n",
    "mouse.add_vertex(Point(102.75, 23))\n",
    "mouse.add_vertex(Point(135.75, 53))\n",
    "mouse.add_vertex(Point(191.75, 73))\n",
    "mouse.add_vertex(Point(211.75, 34))\n",
    "mouse.add_vertex(Point(289.75, 13))\n",
    "mouse.add_vertex(Point(354.75, 50))\n",
    "mouse.add_vertex(Point(308.75, 74))\n",
    "mouse.add_vertex(Point(253.75, 97))\n",
    "mouse.add_vertex(Point(237.75, 124))\n",
    "mouse.add_vertex(Point(299.75, 145))\n",
    "mouse.add_vertex(Point(370.75, 182))\n",
    "mouse.add_vertex(Point(379.75, 265))\n",
    "mouse.add_vertex(Point(328.75, 291))\n",
    "mouse.add_vertex(Point(280.75, 270))\n",
    "mouse.add_vertex(Point(264.75, 229))\n",
    "mouse.add_vertex(Point(233.75, 186))\n",
    "mouse.add_vertex(Point(193.75, 193))\n",
    "mouse.add_vertex(Point(186.75, 238))\n",
    "mouse.add_vertex(Point(177.75, 286))\n",
    "mouse.add_vertex(Point(148.75, 306))\n",
    "mouse.add_vertex(Point(92.75, 285))\n",
    "mouse.add_vertex(Point(82.75, 236))\n",
    "visualisation_tool.register_example_instance(\"mouse\", mouse)\n",
    "\n",
    "wicked = DoublyConnectedSimplePolygon()\n",
    "wicked.add_vertex(Point(58.75, 308))\n",
    "wicked.add_vertex(Point(43.75, 356))\n",
    "wicked.add_vertex(Point(73.75, 388))\n",
    "wicked.add_vertex(Point(21.75, 385))\n",
    "wicked.add_vertex(Point(10.75, 359))\n",
    "wicked.add_vertex(Point(19.75, 322))\n",
    "wicked.add_vertex(Point(33.75, 259))\n",
    "wicked.add_vertex(Point(39.75, 229))\n",
    "wicked.add_vertex(Point(106.75, 244))\n",
    "wicked.add_vertex(Point(175.75, 236))\n",
    "wicked.add_vertex(Point(167.75, 207))\n",
    "wicked.add_vertex(Point(112.75, 208))\n",
    "wicked.add_vertex(Point(70.75, 193))\n",
    "wicked.add_vertex(Point(27.75, 167))\n",
    "wicked.add_vertex(Point(57.75, 112))\n",
    "wicked.add_vertex(Point(9.75, 78))\n",
    "wicked.add_vertex(Point(25.75, 26))\n",
    "wicked.add_vertex(Point(34.75, 71))\n",
    "wicked.add_vertex(Point(100.75, 59))\n",
    "wicked.add_vertex(Point(61.75, 30))\n",
    "wicked.add_vertex(Point(102.75, 7))\n",
    "wicked.add_vertex(Point(154.75, 18))\n",
    "wicked.add_vertex(Point(126.75, 30))\n",
    "wicked.add_vertex(Point(177.75, 64))\n",
    "wicked.add_vertex(Point(231.75, 99))\n",
    "wicked.add_vertex(Point(235.75, 71))\n",
    "wicked.add_vertex(Point(212.75, 55))\n",
    "wicked.add_vertex(Point(232.75, 22))\n",
    "wicked.add_vertex(Point(304.75, 17))\n",
    "wicked.add_vertex(Point(362.75, 39))\n",
    "wicked.add_vertex(Point(360.75, 76))\n",
    "wicked.add_vertex(Point(339.75, 80))\n",
    "wicked.add_vertex(Point(277.75, 85))\n",
    "wicked.add_vertex(Point(264.75, 111))\n",
    "wicked.add_vertex(Point(247.75, 179))\n",
    "wicked.add_vertex(Point(235.75, 129))\n",
    "wicked.add_vertex(Point(195.75, 98))\n",
    "wicked.add_vertex(Point(125.75, 115))\n",
    "wicked.add_vertex(Point(107.75, 151))\n",
    "wicked.add_vertex(Point(124.75, 181))\n",
    "wicked.add_vertex(Point(173.75, 146))\n",
    "wicked.add_vertex(Point(210.75, 174))\n",
    "wicked.add_vertex(Point(234.75, 224))\n",
    "wicked.add_vertex(Point(267.75, 234))\n",
    "wicked.add_vertex(Point(282.75, 212))\n",
    "wicked.add_vertex(Point(278.75, 167))\n",
    "wicked.add_vertex(Point(307.75, 120))\n",
    "wicked.add_vertex(Point(382.75, 130))\n",
    "wicked.add_vertex(Point(377.75, 221))\n",
    "wicked.add_vertex(Point(349.75, 185))\n",
    "wicked.add_vertex(Point(335.75, 233))\n",
    "wicked.add_vertex(Point(380.75, 301))\n",
    "wicked.add_vertex(Point(359.75, 351))\n",
    "wicked.add_vertex(Point(327.75, 329))\n",
    "wicked.add_vertex(Point(297.75, 273))\n",
    "wicked.add_vertex(Point(213.75, 274))\n",
    "wicked.add_vertex(Point(228.75, 326))\n",
    "wicked.add_vertex(Point(295.75, 300))\n",
    "wicked.add_vertex(Point(288.75, 353))\n",
    "wicked.add_vertex(Point(227.75, 362))\n",
    "wicked.add_vertex(Point(174.75, 342))\n",
    "wicked.add_vertex(Point(136.75, 272))\n",
    "wicked.add_vertex(Point(118.75, 353))\n",
    "wicked.add_vertex(Point(93.75, 308))\n",
    "wicked.add_vertex(Point(71.75, 347))\n",
    "visualisation_tool.register_example_instance(\"wicked\", wicked)\n",
    "\n",
    "irreg = DoublyConnectedSimplePolygon()\n",
    "irreg.add_vertex(Point(150, 200))\n",
    "irreg.add_vertex(Point(200, 200))\n",
    "irreg.add_vertex(Point(250, 200))\n",
    "visualisation_tool.register_example_instance(\"irreg\", irreg)"
   ]
  },
  {
   "attachments": {},
   "cell_type": "markdown",
   "metadata": {},
   "source": [
    "## 3. Algorithms"
   ]
  },
  {
   "attachments": {},
   "cell_type": "markdown",
   "metadata": {},
   "source": [
    "..."
   ]
  },
  {
   "attachments": {},
   "cell_type": "markdown",
   "metadata": {},
   "source": [
    "### 3.1. Recursive Triangulation"
   ]
  },
  {
   "attachments": {},
   "cell_type": "markdown",
   "metadata": {},
   "source": [
    "Explanations: Algorithm from proof (see also [1, Theorem 3.1]), diagonal connection via edges and area coordinates for triangle tests (containment check is possible with orientation test, but we need the contained vertex that is \"farthest\") ...\n",
    "\n",
    "Note that, currently, the algorithm inputs are copied if used via the visualisation tool. Maybe this should be done in the algorithms themselves to make it more transparent?"
   ]
  },
  {
   "cell_type": "code",
   "execution_count": null,
   "metadata": {},
   "outputs": [],
   "source": [
    "def recursive_pt(polygon: DoublyConnectedSimplePolygon) -> DoublyConnectedSimplePolygon:\n",
    "    if not polygon.is_simple():\n",
    "        raise ValueError(\"Input polygon is not simple.\")\n",
    "\n",
    "    representative_edges = [polygon.topmost_vertex.edge]\n",
    "    while representative_edges:\n",
    "        leftmost_edge = _get_leftmost_edge(representative_edges.pop())\n",
    "        connection_edges = _get_connection_edges(leftmost_edge)\n",
    "        if connection_edges is not None:\n",
    "            diagonal = polygon.add_diagonal(connection_edges[0], connection_edges[1])\n",
    "            representative_edges.extend((diagonal, diagonal.twin))\n",
    "    return polygon\n",
    "\n",
    "def _get_leftmost_edge(representative_edge: HalfEdge) -> HalfEdge:\n",
    "    leftmost_edge, leftmost_vertex = representative_edge, representative_edge.origin\n",
    "    edge = representative_edge.next\n",
    "    while edge is not representative_edge:\n",
    "        vertex = edge.origin\n",
    "        if vertex.x < leftmost_vertex.x or (vertex.x == leftmost_vertex.x and vertex.y < leftmost_vertex.y):\n",
    "            leftmost_edge, leftmost_vertex = edge, vertex\n",
    "        edge = edge.next\n",
    "    return leftmost_edge\n",
    "\n",
    "def _get_connection_edges(leftmost_edge: HalfEdge) -> Optional[tuple[HalfEdge, HalfEdge]]:\n",
    "    edge = leftmost_edge.next.next\n",
    "    if edge is leftmost_edge.prev:\n",
    "        return None\n",
    "\n",
    "    triangle = (leftmost_edge.prev.origin, leftmost_edge.origin, leftmost_edge.next.origin)\n",
    "    connection_edge, max_coordinate = None, 0.0\n",
    "    while edge is not leftmost_edge.prev:\n",
    "        area_coordinates = _get_area_coordinates(edge.origin, triangle)\n",
    "        if all(0.0 <= coordinate <= 1.0 for coordinate in area_coordinates):\n",
    "            if connection_edge is None or area_coordinates[1] > max_coordinate:\n",
    "                connection_edge, max_coordinate = edge, area_coordinates[1]\n",
    "        edge = edge.next\n",
    "\n",
    "    if connection_edge is None:\n",
    "        return leftmost_edge.prev, leftmost_edge.next\n",
    "\n",
    "    return leftmost_edge, connection_edge\n",
    "    \n",
    "\n",
    "def _get_area_coordinates(vertex: Vertex, triangle: tuple[Vertex, Vertex, Vertex]) -> tuple[float, float, float]:\n",
    "    parallelogram_area = _signed_area(triangle[0], triangle[1], triangle[2])\n",
    "    return (\n",
    "        _signed_area(vertex, triangle[1], triangle[2]) / parallelogram_area,\n",
    "        _signed_area(triangle[0], vertex, triangle[2]) / parallelogram_area,\n",
    "        _signed_area(triangle[0], triangle[1], vertex) / parallelogram_area\n",
    "    )\n",
    "\n",
    "def _signed_area(u: Vertex, v: Vertex, w: Vertex) -> float:\n",
    "    p, q, r = u.point, v.point, w.point\n",
    "    return (q - p).cross(r - p)"
   ]
  },
  {
   "attachments": {},
   "cell_type": "markdown",
   "metadata": {},
   "source": [
    "Runs in $O(n^2)$.\n",
    "\n",
    "Now visualisation."
   ]
  },
  {
   "cell_type": "code",
   "execution_count": null,
   "metadata": {},
   "outputs": [],
   "source": [
    "visualisation_tool.register_algorithm(\"Rec\", recursive_pt, LineSegmentsMode(endpoint_radius = 0.0))\n",
    "# TODO: Implement appropriate mode. Maybe make Triangulation object."
   ]
  },
  {
   "attachments": {},
   "cell_type": "markdown",
   "metadata": {},
   "source": [
    "If you haven't used our interactive visualisation tool before, see the convex hull notebook for an explanation. ..."
   ]
  },
  {
   "cell_type": "code",
   "execution_count": null,
   "metadata": {},
   "outputs": [],
   "source": [
    "visualisation_tool.display()"
   ]
  },
  {
   "attachments": {},
   "cell_type": "markdown",
   "metadata": {},
   "source": [
    "### 3.2. Monotone Partitioning"
   ]
  },
  {
   "attachments": {},
   "cell_type": "markdown",
   "metadata": {},
   "source": [
    "Partition polygon into $y$-monotone subpolygons using a plane sweep algorithm (cf. LSI notebook). ...\n",
    "\n",
    "Comparators again.\n",
    "The event queue comparator is the same as usual."
   ]
  },
  {
   "cell_type": "code",
   "execution_count": null,
   "metadata": {},
   "outputs": [],
   "source": [
    "# TODO: Do we need EPSILON for robustness?\n",
    "class EventQueueComparator(Comparator[Vertex]):\n",
    "    def compare(self, item: Any, key: Vertex) -> CR:\n",
    "        if not isinstance(item, Vertex):\n",
    "            raise TypeError(\"Only vertices can be compared with event vertices.\")\n",
    "        elif item.point == key.point:\n",
    "            return CR.MATCH\n",
    "        elif item.y > key.y or (item.y == key.y and item.x < key.x):\n",
    "            return CR.BEFORE\n",
    "        else:\n",
    "            return CR.AFTER"
   ]
  },
  {
   "attachments": {},
   "cell_type": "markdown",
   "metadata": {},
   "source": [
    "The status structure comparator is similar to the one from the LSI notebook, but simpler since there are no intersections or overlaps.\n",
    "Furthermore, horizontal edges in the status structure should be deleted in the next step and thus don't make much of a problem... I hope.\n",
    "Also, the status structure shouldn't ever contain two adjacent edges... I think.\n",
    "Overall, the comparator doesn't (seem to) need a dynamic dependency on the current event point."
   ]
  },
  {
   "cell_type": "code",
   "execution_count": null,
   "metadata": {},
   "outputs": [],
   "source": [
    "# TODO: Do we need EPSILON for robustness?\n",
    "class StatusStructureComparator(Comparator[HalfEdge]):\n",
    "    def compare(self, item: Any, key: HalfEdge) -> CR:\n",
    "        if isinstance(item, Vertex):\n",
    "            return self._compare_vertex_with_edge(item, key)\n",
    "        elif isinstance(item, HalfEdge):\n",
    "            return self._compare_edge_with_edge(item, key)\n",
    "        else:\n",
    "            raise TypeError(\"Only vertices and edges can be compared with status edges.\")\n",
    "\n",
    "    def _compare_vertex_with_edge(self, vertex: Vertex, edge: HalfEdge) -> CR:  # This should suffice in all possible cases.\n",
    "        upper, lower = edge.upper_and_lower\n",
    "        ort = vertex.point.orientation(lower.point, upper.point)\n",
    "        if ort is ORT.LEFT:\n",
    "            return CR.BEFORE\n",
    "        elif ort is ORT.RIGHT:\n",
    "            return CR.AFTER\n",
    "        else:\n",
    "            return CR.MATCH\n",
    "\n",
    "    def _compare_edge_with_edge(self, edge1: HalfEdge, edge2: HalfEdge) -> CR:    # This should suffice in all possible cases.\n",
    "        upper1, lower1 = edge1.upper_and_lower\n",
    "        upper2, lower2 = edge2.upper_and_lower\n",
    "        if upper1.y <= upper2.y:\n",
    "            return self._compare_vertex_with_edge(upper1, edge2)\n",
    "        else:\n",
    "            cr = self._compare_vertex_with_edge(upper2, edge1)\n",
    "            if cr is CR.BEFORE:\n",
    "                return CR.AFTER\n",
    "            elif cr is CR.AFTER:\n",
    "                return CR.BEFORE\n",
    "            else:\n",
    "                return CR.MATCH"
   ]
  },
  {
   "attachments": {},
   "cell_type": "markdown",
   "metadata": {},
   "source": [
    "Enum for the different vertex types and class for helper vertices."
   ]
  },
  {
   "cell_type": "code",
   "execution_count": null,
   "metadata": {},
   "outputs": [],
   "source": [
    "class VertexType(Enum):\n",
    "    START = auto()\n",
    "    END = auto()\n",
    "    SPLIT = auto()\n",
    "    MERGE = auto()\n",
    "    REGULAR = auto()\n",
    "\n",
    "VT = VertexType\n",
    "\n",
    "class VertexInfo:\n",
    "    event_queue_comparator = EventQueueComparator()\n",
    "\n",
    "    def __init__(self, vertex: Vertex):\n",
    "        self.incoming_edge: HalfEdge = vertex.edge.prev\n",
    "        self.outgoing_edge: HalfEdge = vertex.edge\n",
    "\n",
    "        prev_neighbour = self.incoming_edge.origin\n",
    "        next_neighbour = self.outgoing_edge.destination\n",
    "        prev_cr = self.event_queue_comparator.compare(prev_neighbour, vertex)\n",
    "        next_cr = self.event_queue_comparator.compare(next_neighbour, vertex)\n",
    "        if prev_cr is CR.AFTER and next_cr is CR.AFTER:\n",
    "            if vertex.point.orientation(prev_neighbour.point, next_neighbour.point) is ORT.RIGHT:\n",
    "                self.vertex_type = VT.START\n",
    "            else:\n",
    "                self.vertex_type = VT.SPLIT\n",
    "        elif prev_cr is CR.BEFORE and next_cr is CR.BEFORE:\n",
    "            if vertex.point.orientation(prev_neighbour.point, next_neighbour.point) is ORT.RIGHT:\n",
    "                self.vertex_type = VT.END\n",
    "            else:\n",
    "                self.vertex_type = VT.MERGE\n",
    "        else:\n",
    "            self.vertex_type = VT.REGULAR"
   ]
  },
  {
   "attachments": {},
   "cell_type": "markdown",
   "metadata": {},
   "source": [
    "Determine vertex types and handle vertices accordingly..."
   ]
  },
  {
   "cell_type": "code",
   "execution_count": null,
   "metadata": {},
   "outputs": [],
   "source": [
    "class Monotoniser:\n",
    "    def __init__(self, polygon: DoublyConnectedSimplePolygon):\n",
    "        if not polygon.is_simple():\n",
    "            raise ValueError(\"Input polygon is not simple.\")\n",
    "        self._polygon = polygon\n",
    "\n",
    "        self._status_structure: BinaryTreeDict[HalfEdge, VertexInfo] = BinaryTreeDict(StatusStructureComparator())\n",
    "\n",
    "        self._event_queue: BinaryTreeDict[Vertex, VertexInfo] = BinaryTreeDict(VertexInfo.event_queue_comparator)\n",
    "        for vertex in self._polygon._vertices():    # How is this supposed to take O(n) time?\n",
    "            self._event_queue.insert(vertex, VertexInfo(vertex))\n",
    "\n",
    "        self.representative_edges: list[HalfEdge] = []\n",
    "\n",
    "    def make_monotone(self) -> DoublyConnectedSimplePolygon:\n",
    "        while not self._event_queue.is_empty():\n",
    "            event_vertex, event_vertex_info = self._event_queue.pop_first()\n",
    "            handler_name = f\"_handle_{str.lower(event_vertex_info.vertex_type.name)}_vertex\"\n",
    "            handler: Callable[[Vertex, VertexInfo], None] = getattr(self, handler_name)\n",
    "            handler(event_vertex, event_vertex_info)\n",
    "\n",
    "        return self._polygon\n",
    "\n",
    "    def _handle_start_vertex(self, _: Vertex, event_vertex_info: VertexInfo):\n",
    "        self._status_structure.insert(event_vertex_info.outgoing_edge, event_vertex_info)\n",
    "\n",
    "    def _handle_end_vertex(self, _: Vertex, event_vertex_info: VertexInfo):\n",
    "        _, helper_info = self._status_structure.delete(event_vertex_info.incoming_edge)\n",
    "        if helper_info.vertex_type is VT.MERGE:\n",
    "            diagonal = self._polygon.add_diagonal(event_vertex_info.outgoing_edge, helper_info.outgoing_edge)  # No update should be necessary.\n",
    "            self.representative_edges.append(diagonal)             # But it should be an anchor edge.\n",
    "        self.representative_edges.append(event_vertex_info.outgoing_edge)      # And the outgoing edge should always be an anchor edge.\n",
    "\n",
    "    def _handle_split_vertex(self, event_vertex: Vertex, event_vertex_info: VertexInfo):\n",
    "        edge_left_of_vertex, helper_info = self._status_structure.search_predecessor(event_vertex)\n",
    "        diagonal = self._polygon.add_diagonal(event_vertex_info.outgoing_edge, helper_info.outgoing_edge)\n",
    "        copied_event_vertex_info = copy.copy(event_vertex_info)     # This copy and update combination should suffice.\n",
    "        copied_event_vertex_info.outgoing_edge = diagonal\n",
    "        self._status_structure.update(edge_left_of_vertex, lambda _: copied_event_vertex_info)\n",
    "        self._status_structure.insert(event_vertex_info.outgoing_edge, event_vertex_info)\n",
    "\n",
    "    def _handle_merge_vertex(self, event_vertex: Vertex, event_vertex_info: VertexInfo):\n",
    "        _, helper_info = self._status_structure.delete(event_vertex_info.incoming_edge)\n",
    "        if helper_info.vertex_type is VT.MERGE:\n",
    "            diagonal = self._polygon.add_diagonal(event_vertex_info.outgoing_edge, helper_info.outgoing_edge)  # No update should be necessary.\n",
    "            self.representative_edges.append(diagonal)             # But it should be an anchor edge.\n",
    "        edge_left_of_vertex, helper_info = self._status_structure.search_predecessor(event_vertex)\n",
    "        if helper_info.vertex_type is VT.MERGE:\n",
    "            diagonal = self._polygon.add_diagonal(event_vertex_info.outgoing_edge, helper_info.outgoing_edge)\n",
    "            event_vertex_info.outgoing_edge = diagonal      # This update should suffice.\n",
    "            self.representative_edges.append(diagonal.twin)    # And the twin should be an anchor edge.\n",
    "        self._status_structure.update(edge_left_of_vertex, lambda _: event_vertex_info)\n",
    "\n",
    "    def _handle_regular_vertex(self, event_vertex: Vertex, event_vertex_info: VertexInfo):\n",
    "        is_interior_to_the_right, helper_info = self._status_structure.delete(event_vertex_info.incoming_edge)\n",
    "        if is_interior_to_the_right:\n",
    "            if helper_info.vertex_type is VT.MERGE:\n",
    "                diagonal = self._polygon.add_diagonal(event_vertex_info.outgoing_edge, helper_info.outgoing_edge)    # No update should be necessary.\n",
    "                self.representative_edges.append(diagonal)             # But it should be an anchor edge.\n",
    "            self._status_structure.insert(event_vertex_info.outgoing_edge, event_vertex_info)\n",
    "        else:\n",
    "            edge_left_of_vertex, helper_info = self._status_structure.search_predecessor(event_vertex)\n",
    "            if helper_info.vertex_type is VT.MERGE:\n",
    "                diagonal = self._polygon.add_diagonal(event_vertex_info.outgoing_edge, helper_info.outgoing_edge)\n",
    "                event_vertex_info.outgoing_edge = diagonal   # This update should suffice.\n",
    "                self.representative_edges.append(diagonal.twin)    # And the twin should be an anchor edge.\n",
    "            self._status_structure.update(edge_left_of_vertex, lambda _: event_vertex_info)"
   ]
  },
  {
   "attachments": {},
   "cell_type": "markdown",
   "metadata": {},
   "source": [
    "Let's register this as a standalone algorithm."
   ]
  },
  {
   "cell_type": "code",
   "execution_count": null,
   "metadata": {},
   "outputs": [],
   "source": [
    "visualisation_tool.register_algorithm(\"Mon\", lambda x: Monotoniser(x).make_monotone(), LineSegmentsMode(endpoint_radius = 0.0))\n",
    "# TODO: Implement appropriate mode. Maybe make Triangulation object."
   ]
  },
  {
   "attachments": {},
   "cell_type": "markdown",
   "metadata": {},
   "source": [
    "Visualisation incoming."
   ]
  },
  {
   "cell_type": "code",
   "execution_count": null,
   "metadata": {},
   "outputs": [],
   "source": [
    "visualisation_tool.display()"
   ]
  },
  {
   "attachments": {},
   "cell_type": "markdown",
   "metadata": {},
   "source": [
    "### 3.3. Piecewise Triangulation"
   ]
  },
  {
   "attachments": {},
   "cell_type": "markdown",
   "metadata": {},
   "source": [
    "Nice description from [2]:\n",
    "\"The idea behind the triangulation algorithm is quite simple:\n",
    "Try to triangulate *everything* you can [above] the current vertex by adding diagonals, and then remove the triangulated region from further consideration.\n",
    "The trickiest aspect of implementing this idea is finding a clean invariant that characterizes the *untriangulated region* that lies [above the current vertex].\" ..."
   ]
  },
  {
   "cell_type": "code",
   "execution_count": null,
   "metadata": {},
   "outputs": [],
   "source": [
    "def triangulate_polygon(polygon: DoublyConnectedSimplePolygon) -> DoublyConnectedSimplePolygon:\n",
    "    monotoniser = Monotoniser(polygon)\n",
    "    polygon = monotoniser.make_monotone()\n",
    "\n",
    "    for anchor_edge in monotoniser.representative_edges:\n",
    "        topmost_edge = anchor_edge          # unify style with recursive algorithm.\n",
    "        edge = anchor_edge.next\n",
    "        while edge is not anchor_edge:\n",
    "            if VertexInfo.event_queue_comparator.compare(edge.origin, topmost_edge.origin) is CR.BEFORE:\n",
    "                topmost_edge = edge\n",
    "            edge = edge.next\n",
    "\n",
    "        edges: list[tuple[HalfEdge, bool]] = []      # TODO: Use namedtuple?\n",
    "        left_chain_edge = topmost_edge\n",
    "        right_chain_edge = topmost_edge.prev\n",
    "        cr = VertexInfo.event_queue_comparator.compare(left_chain_edge.origin, right_chain_edge.origin)\n",
    "        while True:\n",
    "            if cr is CR.BEFORE:\n",
    "                edges.append((left_chain_edge, True))\n",
    "                left_chain_edge = left_chain_edge.next\n",
    "            elif cr is CR.AFTER:\n",
    "                edges.append((right_chain_edge, False))\n",
    "                right_chain_edge = right_chain_edge.prev\n",
    "            else:\n",
    "                edges.append((left_chain_edge, True))\n",
    "                break\n",
    "            cr = VertexInfo.event_queue_comparator.compare(left_chain_edge.origin, right_chain_edge.origin)\n",
    "\n",
    "        stack = edges[0:2]\n",
    "        for edge in edges[2:-1]:\n",
    "            if edge[1] != stack[-1][1]:\n",
    "                prev_edge = stack[-1]\n",
    "                while len(stack) >= 2:\n",
    "                    polygon.add_diagonal(edge[0], stack.pop()[0])\n",
    "                stack.pop()\n",
    "                stack.extend((prev_edge, edge))\n",
    "            else:\n",
    "                ort = ORT.LEFT if edge[1] else ORT.RIGHT\n",
    "                popped_edge = stack.pop()\n",
    "                while stack and popped_edge[0].origin.point.orientation(edge[0].origin.point, stack[-1][0].origin.point) is ort:\n",
    "                    popped_edge = stack.pop()\n",
    "                    polygon.add_diagonal(edge[0], popped_edge[0])\n",
    "                stack.append(popped_edge)\n",
    "                stack.append(edge)\n",
    "\n",
    "        for stack_edge in stack[1:-1]:\n",
    "            polygon.add_diagonal(edges[-1][0], stack_edge[0])\n",
    "    \n",
    "    return polygon"
   ]
  },
  {
   "attachments": {},
   "cell_type": "markdown",
   "metadata": {},
   "source": [
    "Register."
   ]
  },
  {
   "cell_type": "code",
   "execution_count": null,
   "metadata": {},
   "outputs": [],
   "source": [
    "visualisation_tool.register_algorithm(\"Mon + Tri\", triangulate_polygon, LineSegmentsMode(endpoint_radius = 0.0))\n",
    "# TODO: Implement appropriate mode. Maybe make Triangulation object."
   ]
  },
  {
   "attachments": {},
   "cell_type": "markdown",
   "metadata": {},
   "source": [
    "Visualise."
   ]
  },
  {
   "cell_type": "code",
   "execution_count": null,
   "metadata": {},
   "outputs": [],
   "source": [
    "visualisation_tool.display()"
   ]
  },
  {
   "attachments": {},
   "cell_type": "markdown",
   "metadata": {},
   "source": [
    "## 4. Art Gallery Problem"
   ]
  },
  {
   "attachments": {},
   "cell_type": "markdown",
   "metadata": {},
   "source": [
    "Maybe use the simple approach from [3] to solve the *Art Gallery Problem* ... the more illustrative dual graph approach is explained in [1] but its implementation is more involved."
   ]
  },
  {
   "cell_type": "code",
   "execution_count": null,
   "metadata": {},
   "outputs": [],
   "source": [
    "from modules.geometry import Polygon\n",
    "\n",
    "def art_gallery(polygon: DoublyConnectedSimplePolygon, triangulation_alg) -> Polygon:    # TODO: Add a PointSet object (or rename Intersections to PointDict).    \n",
    "    polygon = triangulation_alg(polygon)\n",
    "\n",
    "    vertex1 = polygon.topmost_vertex\n",
    "    vertex2 = vertex1.edge.destination\n",
    "    coloured_vertices = ([vertex1], [vertex2], [])\n",
    "    prev_prev_colour, prev_colour = 0, 1\n",
    "\n",
    "    vertex = vertex2\n",
    "    while vertex is not vertex1:\n",
    "        is_vertex_degree_odd = True\n",
    "        incident_edge = vertex.edge.prev.twin\n",
    "        while incident_edge is not vertex.edge:\n",
    "            is_vertex_degree_odd = not is_vertex_degree_odd\n",
    "            incident_edge = incident_edge.prev.twin\n",
    "        \n",
    "        vertex = vertex.edge.destination\n",
    "        if vertex is vertex1:\n",
    "            break\n",
    "\n",
    "        vertex_colour = prev_prev_colour if is_vertex_degree_odd else 3 - prev_prev_colour - prev_colour\n",
    "        coloured_vertices[vertex_colour].append(vertex)\n",
    "        prev_prev_colour, prev_colour = prev_colour, vertex_colour\n",
    "\n",
    "    positions = min(coloured_vertices, key = lambda vertices: len(vertices))\n",
    "\n",
    "    return Polygon(positions)\n"
   ]
  },
  {
   "attachments": {},
   "cell_type": "markdown",
   "metadata": {},
   "source": [
    "Register."
   ]
  },
  {
   "cell_type": "code",
   "execution_count": null,
   "metadata": {},
   "outputs": [],
   "source": [
    "from modules.visualisation import PointsMode\n",
    "\n",
    "visualisation_tool.register_algorithm(\"Art Gallery (Rec)\", lambda x: art_gallery(x, recursive_pt), PointsMode())\n",
    "visualisation_tool.register_algorithm(\"Art Gallery (Mon)\", lambda x: art_gallery(x, triangulate_polygon), PointsMode())"
   ]
  },
  {
   "attachments": {},
   "cell_type": "markdown",
   "metadata": {},
   "source": [
    "Visualise."
   ]
  },
  {
   "cell_type": "code",
   "execution_count": null,
   "metadata": {},
   "outputs": [],
   "source": [
    "visualisation_tool.display()"
   ]
  },
  {
   "attachments": {},
   "cell_type": "markdown",
   "metadata": {},
   "source": [
    "## 5. References"
   ]
  },
  {
   "attachments": {},
   "cell_type": "markdown",
   "metadata": {},
   "source": [
    "[1] Mark de Berg, Otfried Cheong, Marc van Kreveld, and Mark Overmars. *Computational Geometry: Algorithms and Applications*, 3rd Edition, 2008.\n",
    "\n",
    "[2] David M. Mount. [*CMSC 754: Computational Geometry*](https://www.cs.umd.edu/class/spring2020/cmsc754/Lects/cmsc754-spring2020-lects.pdf), 2020.\n",
    "\n",
    "[3] Ali A. Kooshesh, and Bernard M. E. Moret. *Three-coloring the Vertices of a Triangulated Simple Polygon*, Pattern Recognition 25(4), p. 443, 1992."
   ]
  }
 ],
 "metadata": {
  "kernelspec": {
   "display_name": "base",
   "language": "python",
   "name": "python3"
  },
  "language_info": {
   "codemirror_mode": {
    "name": "ipython",
    "version": 3
   },
   "file_extension": ".py",
   "mimetype": "text/x-python",
   "name": "python",
   "nbconvert_exporter": "python",
   "pygments_lexer": "ipython3",
   "version": "3.9.7 (default, Sep 16 2021, 13:09:58) \n[GCC 7.5.0]"
  },
  "orig_nbformat": 4,
  "vscode": {
   "interpreter": {
    "hash": "b48264eb95706e162d01c04d685d59c09b9997374e8df34f814a7711d35cc8a0"
   }
  }
 },
 "nbformat": 4,
 "nbformat_minor": 2
}
