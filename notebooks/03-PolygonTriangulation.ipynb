{
 "cells": [
  {
   "attachments": {},
   "cell_type": "markdown",
   "metadata": {},
   "source": [
    "# 03: Polygon Triangulation"
   ]
  },
  {
   "attachments": {},
   "cell_type": "markdown",
   "metadata": {},
   "source": [
    "*Authors: Jan Erik Swiadek, Prof. Dr. Kevin Buchin*"
   ]
  },
  {
   "attachments": {},
   "cell_type": "markdown",
   "metadata": {},
   "source": [
    "This notebook serves as supplementary learning material for the course **Geometric Algorithms**.\n",
    "It showcases implementations of algorithms and data structures presented in the lecture, and it elaborates on some practical considerations concerning their use.\n",
    "Furthermore, it provides interactive visualisations and animations."
   ]
  },
  {
   "attachments": {},
   "cell_type": "markdown",
   "metadata": {},
   "source": [
    "## Table of Contents"
   ]
  },
  {
   "attachments": {},
   "cell_type": "markdown",
   "metadata": {},
   "source": [
    "1. Introduction  \n",
    "2. Setup  \n",
    "3. Algorithms  \n",
    "    3.1. Recursive Triangulation  \n",
    "    3.2. Monotone Partitioning  \n",
    "    3.3. Monotone Triangulation  \n",
    "    3.4. Gallery Guarding  \n",
    "4. References  "
   ]
  },
  {
   "attachments": {},
   "cell_type": "markdown",
   "metadata": {},
   "source": [
    "## 1. Introduction"
   ]
  },
  {
   "attachments": {},
   "cell_type": "markdown",
   "metadata": {},
   "source": [
    "We start by giving an overview of the essential definitions and facts:\n",
    "\n",
    "* A **(simple) polygon** is a non-empty subset of $\\mathbb{R}^2$ that's a union of two parts:\n",
    "  The first part is a **boundary** in the form of a single closed path of line segments, which follows a sequence of points such that the segments have no intersections except for each pair of two consecutive segments sharing an endpoint.\n",
    "  These characterising line segments and points are called the polygon's **edges** and **vertices**, respectively.\n",
    "  The second part of the polygon is its **interior**, the open region enclosed by its boundary.\n",
    "\n",
    "* A **triangulation** of a polygon is a decomposition into triangles with non-intersecting interiors, where all triangle vertices correspond to vertices of the original polygon.\n",
    "  Of course, a triangle is a polygon with three vertices.\n",
    "\n",
    "* According to the lecture, any simple polygon can be triangulated by adding line segments between polygon vertices such that the segments are contained in the polygon and don't intersect with each other or with the polygon edges anywhere except in their endpoints.\n",
    "  These connecting line segments are called **diagonals**.\n",
    "\n",
    "* A polygon is **$y$-monotone** if every horizontal line has a connected (or empty) intersection with the polygon.\n",
    "\n",
    "See the following image for an example.\n",
    "\n",
    "TODO: Add and describe image."
   ]
  },
  {
   "attachments": {},
   "cell_type": "markdown",
   "metadata": {},
   "source": [
    "## 2. Setup"
   ]
  },
  {
   "attachments": {},
   "cell_type": "markdown",
   "metadata": {},
   "source": [
    "First let's do some setup. This is not very interesting, so you can skip to Section 3 if you want.\n",
    "\n",
    "We now import everything we'll need throughout this notebook from external modules, including our module for generic data structures, our module for common geometric primitives and operations as well as our module for visualisation purposes. (The data structure and geometry modules will probably receive their own notebook later.)"
   ]
  },
  {
   "cell_type": "code",
   "execution_count": null,
   "metadata": {},
   "outputs": [],
   "source": [
    "# Python standard library imports\n",
    "from typing import Any, Optional, Callable, Iterator\n",
    "from enum import Enum, auto\n",
    "import copy\n",
    "\n",
    "# External library imports\n",
    "import numpy as np\n",
    "\n",
    "# Data structure, geometry and visualisation module imports\n",
    "from modules.data_structures import BinaryTreeDict, Comparator, ComparisonResult as CR\n",
    "from modules.geometry import Point, PointSequence, DoublyConnectedSimplePolygon, Vertex, HalfEdge, Orientation as ORT\n",
    "from modules.visualisation import (\n",
    "    VisualisationTool, SimplePolygonInstance, LineSegmentsMode, MonotonePartitioningMode, ArtGalleryMode\n",
    ")"
   ]
  },
  {
   "attachments": {},
   "cell_type": "markdown",
   "metadata": {},
   "source": [
    "Additionally, we create an object for our visualisation tool and register a few example instances."
   ]
  },
  {
   "cell_type": "code",
   "execution_count": null,
   "metadata": {},
   "outputs": [],
   "source": [
    "visualisation_tool = VisualisationTool(400, 400, SimplePolygonInstance())\n",
    "canvas_size = min(visualisation_tool.width, visualisation_tool.height)\n",
    "\n",
    "c = 0.5 * canvas_size\n",
    "r = 0.75 * c\n",
    "\n",
    "def rotate(point: Point, angle: float) -> Point:\n",
    "    x = point.x * np.cos(angle) - point.y * np.sin(angle)\n",
    "    y = point.x * np.sin(angle) + point.y * np.cos(angle)\n",
    "    return Point(x, y)\n",
    "\n",
    "clover_offsets = [\n",
    "    Point(-0.4 * r, 0.4 * r), Point(-0.8 * r, 0.6 * r), Point(-r, 0.4 * r), Point(-r, 0.2 * r),\n",
    "    Point(-0.9 * r, 0.0), Point(-r, -0.2 * r), Point(-r, -0.4 * r), Point(-0.8 * r, -0.6 * r)\n",
    "]\n",
    "clover_path = [Point(c, c) + rotate(offset, i * np.pi / 2) for i in range(0, 4) for offset in clover_offsets]\n",
    "visualisation_tool.register_example_instance(\"Clover\", DoublyConnectedSimplePolygon(clover_path))\n",
    "\n",
    "s = c - r\n",
    "t = c + r\n",
    "u = (t - s) / 12\n",
    "\n",
    "art_gallery_path = [\n",
    "    Point(s, t), Point(s + 2 * u, t), Point(s + 2 * u, s + 9 * u), Point(s + 3 * u, s + 9 * u), Point(s + 3 * u, t),\n",
    "    Point(s + 7 * u, t), Point(s + 7 * u, s + 7 * u), Point(s + 10 * u, s + 7 * u), Point(s + 10 * u, s + 8 * u),\n",
    "    Point(s + 8 * u, s + 8 * u), Point(s + 8 * u, t), Point(t, t), Point(t, s + 4 * u), Point(s + 6 * u, s + 4 * u),\n",
    "    Point(s + 6 * u, s + 3 * u), Point(t, s + 3 * u), Point(t, s), Point(s + 6 * u, s), Point(s + 6 * u, s + u),\n",
    "    Point(s + 2 * u, s + u), Point(s + 2 * u, s), Point(s, s), Point(s, s + 3 * u), Point(s + 2 * u, s + 3 * u),\n",
    "    Point(s + 2 * u, s + 4 * u), Point(s, s + 4 * u)\n",
    "]\n",
    "visualisation_tool.register_example_instance(\"Art Gallery\", DoublyConnectedSimplePolygon(art_gallery_path))\n",
    "\n",
    "def prongs_point(i: int) -> Point:\n",
    "    return Point(s + ((i // 3) * 0.225 + (i % 3) * 0.05) * (t - s), t if i % 3 == 1 else s + 0.25 * (t - s))\n",
    "\n",
    "prongs_path = [*(prongs_point(i) for i in range(1, 14)), Point(t, s), Point(s, s)]\n",
    "visualisation_tool.register_example_instance(\"Prongs\", DoublyConnectedSimplePolygon(prongs_path))\n",
    "\n",
    "d = 0.2 * r\n",
    "\n",
    "teeth_offsets = [Point(i * d, scale * r) for i, scale in zip(range(0, 6), (0.1, 1, 0.2, 1, 0.9, 1))]\n",
    "shark_teeth_offsets = [*(Point(-offset.x, offset.y) for offset in reversed(teeth_offsets[1:])), *teeth_offsets]\n",
    "shark_teeth_path = [Point(c, c) + rotate(offset, i * np.pi) for i in (0, 1) for offset in shark_teeth_offsets]\n",
    "visualisation_tool.register_example_instance(\"Shark Teeth\", DoublyConnectedSimplePolygon(shark_teeth_path))"
   ]
  },
  {
   "attachments": {},
   "cell_type": "markdown",
   "metadata": {},
   "source": [
    "## 3. Algorithms"
   ]
  },
  {
   "attachments": {},
   "cell_type": "markdown",
   "metadata": {},
   "source": [
    "The first algorithm in this notebook triangulates a polygon by recursively adding diagonals.\n",
    "This is followed by an implementation of the more elaborate two-step triangulation procedure presented in the lecture.\n",
    "Finally, the computed triangulations will be used for guarding art galleries."
   ]
  },
  {
   "attachments": {},
   "cell_type": "markdown",
   "metadata": {},
   "source": [
    "### 3.1. Recursive Triangulation"
   ]
  },
  {
   "attachments": {},
   "cell_type": "markdown",
   "metadata": {},
   "source": [
    "In detail, the algorithm yielded by the proof of existence from the lecture (see also \\[1, Theorem 3.1\\]) works as follows:\n",
    "It first searches for the leftmost vertex of the polygon.\n",
    "Then it considers the triangle defined by this leftmost vertex and its two neighbouring vertices.\n",
    "If there are no other polygon vertices inside the triangle or on the triangle edge between the neighbours, then that very edge is a valid diagonal and thus the neighbours get connected.\n",
    "Otherwise, the algorithm connects the conflicting vertex farthest from said triangle edge to the leftmost vertex via a diagonal.\n",
    "This process is repeated recursively on the subpolygons separated by added diagonals until all of them are triangles.\n",
    "\n",
    "Checking whether a conflicting vertex exists and, if so, finding the desired one can be achieved by means of [area coordinates](https://en.wikipedia.org/wiki/Area_coordinates) with respect to the considered triangle.\n",
    "The three area coordinate values of a point are easily computable using signed areas and they intuitively describe normalised distances to each of the triangle edges:\n",
    "A coordinate value of $0$ indicates that the point lies on the line through the corresponding triangle edge, while a value of $1$ means that the point lies on the parallel line through the remaining triangle vertex.\n",
    "Points inside the triangle or on its boundary are characterised by all coordinate values being contained in the closed interval $[0,1]$.\n",
    "\n",
    "We've implemented an iterative variant of the algorithm that receives a simple polygon as a *doubly-connected edge list*, or *DCEL* for short.\n",
    "This data structure was covered in the lecture on the line segment intersection problem and is, as its name implies, centered around edges.\n",
    "Each edge is split into two *half-edges* pointing into opposite directions such that every half-edge is incident to exactly one face and is oriented with that face to its left.\n",
    "This enables anticlockwise traversals of bounded faces, which correspond to the interiors of subpolygons in the scenario on hand.\n",
    "Our implementation keeps track of each subpolygon that hasn't been handled yet through a representative half-edge incident to its interior.\n",
    "The used DCEL admits adding a diagonal in asymptotically constant time, and the associated half-edges are then used as representatives.\n",
    "\n",
    "Note that, unlike half-edges, vertices can be incident to the interiors of multiple subpolygons.\n",
    "That's why our implementation operates on half-edges when adding a diagonal or searching for a vertex.\n",
    "For instance, when searching for the leftmost vertex of a subpolygon, it rather searches for the unique half-edge that has the sought-after vertex as its origin and is incident to the subpolygon's interior — the leftmost edge of the subpolygon, so to speak."
   ]
  },
  {
   "cell_type": "code",
   "execution_count": null,
   "metadata": {},
   "outputs": [],
   "source": [
    "def recursive_triangulation(polygon: DoublyConnectedSimplePolygon) -> PointSequence:\n",
    "    if polygon.has_diagonals():\n",
    "        raise ValueError(\"Input polygon already has diagonals.\")\n",
    "    elif not polygon.is_simple():\n",
    "        raise ValueError(\"Input polygon isn't simple.\")\n",
    "\n",
    "    diagonal_points = PointSequence()\n",
    "    representative_edges = [polygon.topmost_vertex.edge]\n",
    "    while representative_edges:\n",
    "        leftmost_edge = get_leftmost_edge(representative_edges.pop())\n",
    "        connection_edges = get_connection_edges(leftmost_edge)\n",
    "        if connection_edges is not None:\n",
    "            diagonal = polygon.add_diagonal(connection_edges[0], connection_edges[1])\n",
    "            diagonal_points.append(diagonal.origin.point)\n",
    "            diagonal_points.append(diagonal.destination.point)\n",
    "            representative_edges.append(diagonal)\n",
    "            representative_edges.append(diagonal.twin)\n",
    "\n",
    "    return diagonal_points\n",
    "\n",
    "def get_leftmost_edge(representative_edge: HalfEdge) -> HalfEdge:\n",
    "    leftmost_edge, leftmost_vertex = representative_edge, representative_edge.origin\n",
    "    edge = representative_edge.next\n",
    "    while edge is not representative_edge:\n",
    "        vertex = edge.origin\n",
    "        if vertex.x < leftmost_vertex.x or (vertex.x == leftmost_vertex.x and vertex.y < leftmost_vertex.y):\n",
    "            leftmost_edge, leftmost_vertex = edge, vertex\n",
    "        edge = edge.next\n",
    "\n",
    "    return leftmost_edge\n",
    "\n",
    "def get_connection_edges(leftmost_edge: HalfEdge) -> Optional[tuple[HalfEdge, HalfEdge]]:\n",
    "    edge = leftmost_edge.next.next\n",
    "    if edge is leftmost_edge.prev:\n",
    "        return None\n",
    "\n",
    "    triangle = (leftmost_edge.prev.origin, leftmost_edge.origin, leftmost_edge.next.origin)\n",
    "    conflicting_edge, max_coordinate = None, 0.0\n",
    "    while edge is not leftmost_edge.prev:\n",
    "        area_coordinates = calculate_area_coordinates(edge.origin, triangle)\n",
    "        if all(0.0 <= coordinate <= 1.0 for coordinate in area_coordinates):\n",
    "            if conflicting_edge is None or area_coordinates[1] > max_coordinate:\n",
    "                conflicting_edge, max_coordinate = edge, area_coordinates[1]\n",
    "        edge = edge.next\n",
    "\n",
    "    if conflicting_edge is None:\n",
    "        return leftmost_edge.prev, leftmost_edge.next\n",
    "    return leftmost_edge, conflicting_edge\n",
    "\n",
    "def calculate_area_coordinates(vertex: Vertex, triangle: tuple[Vertex, Vertex, Vertex]) -> tuple[float, float, float]:\n",
    "    parallelogram_area = calculate_signed_area(triangle[0], triangle[1], triangle[2])\n",
    "    return (\n",
    "        calculate_signed_area(vertex, triangle[1], triangle[2]) / parallelogram_area,\n",
    "        calculate_signed_area(triangle[0], vertex, triangle[2]) / parallelogram_area,\n",
    "        calculate_signed_area(triangle[0], triangle[1], vertex) / parallelogram_area\n",
    "    )\n",
    "\n",
    "def calculate_signed_area(u: Vertex, v: Vertex, w: Vertex) -> float:\n",
    "    p, q, r = u.point, v.point, w.point\n",
    "    return (q - p).cross(r - p)"
   ]
  },
  {
   "attachments": {},
   "cell_type": "markdown",
   "metadata": {},
   "source": [
    "Traversing a polygon with $n$ vertices to search for the leftmost vertex and for potential conflicting vertices takes $O(n)$ operations.\n",
    "Moreover, it can happen that no conflicting vertices are ever encountered and every step splits off a triangle.\n",
    "Therefore, the worst-case running time complexity of Recursive Triangulation is in $O(n^2)$.\n",
    "\n",
    "We now register the algorithm for visualisation."
   ]
  },
  {
   "cell_type": "code",
   "execution_count": null,
   "metadata": {},
   "outputs": [],
   "source": [
    "visualisation_tool.register_algorithm(\n",
    "    \"Rec. Triangulation\", recursive_triangulation,\n",
    "    LineSegmentsMode(vertex_radius = 0, highlight_radius = 0)\n",
    ")"
   ]
  },
  {
   "attachments": {},
   "cell_type": "markdown",
   "metadata": {},
   "source": [
    "If you haven't used our interactive visualisation tool before, see the convex hull notebook for an explanation.\n",
    "Note that generating random simple polygons is currently done using [2-opt](https://en.wikipedia.org/wiki/2-opt), which may take some time for polygons with many vertices.\n",
    "Clicking on the canvas adds a vertex to the end of the existing polygon boundary path, except when doing so would lead to irreversible intersections in the path.\n",
    "The provisional edge between the two vertices added first and last is displayed transparently.\n",
    "\n",
    "TODO: Add static image."
   ]
  },
  {
   "cell_type": "code",
   "execution_count": null,
   "metadata": {},
   "outputs": [],
   "source": [
    "visualisation_tool.display()"
   ]
  },
  {
   "attachments": {},
   "cell_type": "markdown",
   "metadata": {},
   "source": [
    "***Takeaways:***\n",
    "\n",
    "* A constructive proof of existence can result in an easily implementable algorithm.\n",
    "\n",
    "* Area coordinates are a powerful tool for dealing with triangles."
   ]
  },
  {
   "attachments": {},
   "cell_type": "markdown",
   "metadata": {},
   "source": [
    "### 3.2. Monotone Partitioning"
   ]
  },
  {
   "attachments": {},
   "cell_type": "markdown",
   "metadata": {},
   "source": [
    "Instead of splitting the input polygon into two arbitrary subpolygons and triangulating those recursively, a more careful approach is to partition it into subpolygons that admit a specialised triangulation algorithm.\n",
    "One might first think of convex subpolygons, but finding such a partitioning is as hard as triangulating (see \\[1, p. 49\\]).\n",
    "A suitable partitioning, as covered in the lecture and implemented in this section, yields $y$-monotone subpolygons.\n",
    "The next section then presents how to triangulate those $y$-monotone subpolygons.\n",
    "\n",
    "The partitioning algorithm employs the plane sweep technique, which we've already explained in the line segment intersection notebook.\n",
    "This time, the event queue contains polygon vertices.\n",
    "The status structure consists of all half-edges that are currently intersected by the sweep line and have the polygon interior to their right (see \\[1, p. 52\\]).\n",
    "We again implement both as a balanced binary tree by writing respective comparator classes.\n",
    "Because we want the sweep line to go from top to bottom like in the line segment intersection notebook, the event queue comparator is basically the same (see \\[1, p. 50\\]).\n",
    "Though we don't use epsilon comparisons here, as this algorithm is quite robust."
   ]
  },
  {
   "cell_type": "code",
   "execution_count": null,
   "metadata": {},
   "outputs": [],
   "source": [
    "class EventQueueComparator(Comparator[Vertex]):\n",
    "    def compare(self, item: Any, key: Vertex) -> CR:\n",
    "        if not isinstance(item, Vertex):\n",
    "            raise TypeError(\"Only vertices can be compared with event vertices.\")\n",
    "        elif item.point == key.point:\n",
    "            return CR.MATCH\n",
    "        elif item.y > key.y or (item.y == key.y and item.x < key.x):\n",
    "            return CR.BEFORE\n",
    "        else:\n",
    "            return CR.AFTER"
   ]
  },
  {
   "attachments": {},
   "cell_type": "markdown",
   "metadata": {},
   "source": [
    "The status structure comparator is also similar to the one from the line segment intersection notebook, but less complicated since the edges of a simple polygon don't intersect or overlap.\n",
    "In particular, two half-edges never change left-to-right order as long as they're in the status structure together.\n",
    "That's why this comparator doesn't need a dynamic dependency on the current event vertex, and instead it's sufficient to compare an origin or destination vertex of one half-edge to the other half-edge if the vertex is contained in the latter half-edge's $y$-range.\n",
    "Furthermore, the status structure will never contain two adjacent half-edges during the algorithm, while horizontal half-edges will always be deleted immediately after insertion.\n",
    "Overall, we thus don't really need to consider any degenerate cases separately, making this comparator pretty straightforward as well."
   ]
  },
  {
   "cell_type": "code",
   "execution_count": null,
   "metadata": {},
   "outputs": [],
   "source": [
    "class StatusStructureComparator(Comparator[HalfEdge]):\n",
    "    def compare(self, item: Any, key: HalfEdge) -> CR:\n",
    "        if isinstance(item, Vertex):\n",
    "            return self._compare_vertex_with_edge(item, key)\n",
    "        elif isinstance(item, HalfEdge):\n",
    "            return self._compare_edge_with_edge(item, key)\n",
    "        else:\n",
    "            raise TypeError(\"Only vertices and half-edges can be compared with status half-edges.\")\n",
    "\n",
    "    def _compare_vertex_with_edge(self, vertex: Vertex, edge: HalfEdge) -> CR:\n",
    "        upper, lower = edge.upper_and_lower\n",
    "        ort = vertex.point.orientation(lower.point, upper.point)\n",
    "        if ort is ORT.LEFT:\n",
    "            return CR.BEFORE\n",
    "        elif ort is ORT.RIGHT:\n",
    "            return CR.AFTER\n",
    "        else:\n",
    "            return CR.MATCH\n",
    "\n",
    "    def _compare_edge_with_edge(self, edge1: HalfEdge, edge2: HalfEdge) -> CR:\n",
    "        upper1, lower1 = edge1.upper_and_lower\n",
    "        upper2, lower2 = edge2.upper_and_lower\n",
    "        if upper1.point == upper2.point and lower1.point == lower2.point:\n",
    "            return CR.MATCH\n",
    "        elif lower2.y <= upper1.y <= upper2.y:\n",
    "            return self._compare_vertex_with_edge(upper1, edge2)\n",
    "        elif lower1.y <= upper2.y <= upper1.y:\n",
    "            upper2_cr = self._compare_vertex_with_edge(upper2, edge1)\n",
    "            if upper2_cr is CR.BEFORE:\n",
    "                return CR.AFTER\n",
    "            elif upper2_cr is CR.AFTER:\n",
    "                return CR.BEFORE\n",
    "            else:\n",
    "                return CR.MATCH\n",
    "        else:\n",
    "            raise ValueError(f\"The y-ranges of half-edges {edge1} and {edge2} don't intersect.\")"
   ]
  },
  {
   "attachments": {},
   "cell_type": "markdown",
   "metadata": {},
   "source": [
    "Next, we define a [Python Enum](https://docs.python.org/3.9/library/enum.html) to distinguish between the different vertex types introduced in the lecture.\n",
    "Intuitively, the types are named after what happens at vertex events during the downward plane sweep with respect to the intersection of the horizontal sweep line with the input polygon (see \\[1, p. 50\\]):\n",
    "A vertex is called ...\n",
    "\n",
    "* a *start vertex* if a new connected component of that intersection starts,\n",
    "\n",
    "* an *end vertex* if one such component ends,\n",
    "\n",
    "* a *split vertex* if one such component splits into two,\n",
    "\n",
    "* a *merge vertex* if two such components merge into one,\n",
    "\n",
    "* a *regular vertex* in all other cases.\n",
    "\n",
    "For convenience, we write a class that computes the type of a vertex and stores it along with the vertex's incoming and outgoing polygon half-edges in anticlockwise direction.\n",
    "Note that \\[1\\] refers to the incoming and outcoming edge of a vertex $v_i$ as $e_{i-1}$ and $e_i$, respectively (see \\[1, p. 51\\]).\n",
    "The class additionally stores a half-edge that can be used for connecting the vertex to another via a diagonal.\n",
    "It's initially set to the outgoing half-edge, but may be changed by the upcoming algorithm depending on context."
   ]
  },
  {
   "cell_type": "code",
   "execution_count": null,
   "metadata": {},
   "outputs": [],
   "source": [
    "class VertexType(Enum):\n",
    "    START = auto()\n",
    "    END = auto()\n",
    "    SPLIT = auto()\n",
    "    MERGE = auto()\n",
    "    REGULAR = auto()\n",
    "\n",
    "VT = VertexType\n",
    "\n",
    "class VertexInfo:\n",
    "    event_queue_comparator = EventQueueComparator()\n",
    "\n",
    "    def __init__(self, vertex: Vertex):\n",
    "        self.incoming_edge: HalfEdge = vertex.edge.prev\n",
    "        self.outgoing_edge: HalfEdge = vertex.edge\n",
    "        self.connection_edge: HalfEdge = vertex.edge\n",
    "\n",
    "        prev_neighbour = self.incoming_edge.origin\n",
    "        next_neighbour = self.outgoing_edge.destination\n",
    "        prev_cr = self.event_queue_comparator.compare(prev_neighbour, vertex)\n",
    "        next_cr = self.event_queue_comparator.compare(next_neighbour, vertex)\n",
    "        if prev_cr is CR.AFTER and next_cr is CR.AFTER:\n",
    "            if vertex.point.orientation(prev_neighbour.point, next_neighbour.point) is ORT.RIGHT:\n",
    "                self.vertex_type = VT.START\n",
    "            else:\n",
    "                self.vertex_type = VT.SPLIT\n",
    "        elif prev_cr is CR.BEFORE and next_cr is CR.BEFORE:\n",
    "            if vertex.point.orientation(prev_neighbour.point, next_neighbour.point) is ORT.RIGHT:\n",
    "                self.vertex_type = VT.END\n",
    "            else:\n",
    "                self.vertex_type = VT.MERGE\n",
    "        else:\n",
    "            self.vertex_type = VT.REGULAR"
   ]
  },
  {
   "attachments": {},
   "cell_type": "markdown",
   "metadata": {},
   "source": [
    "Let's finally dive into the actual plane sweep partitioning algorithm, whose goal is to create $y$-monotone subpolygons by adding diagonals that remove split and merge vertices.\n",
    "\n",
    "First the algorithm initialises the status structure and the event queue using the BinaryTreeDict type.\n",
    "That enables the event queue to store the discussed information for each of the promptly inserted polygon vertices.\n",
    "The yet empty status structure will in turn store the information of every inserted half-edge's *helper*, i.e. the lowest vertex above the current sweep line position such that the horizontal line segment between the half-edge and the vertex is contained in the polygon (see \\[1, p. 52\\]).\n",
    "\n",
    "After initialisation, the downward plane sweep handles all event vertices depending on their types using the approach from the lecture, which was adopted from \\[1, pp. 53–54\\].\n",
    "There are two additional implementation details to take note of:\n",
    "\n",
    "* Adding diagonals is done using half-edges, as explained in the previous section on Recursive Triangulation.\n",
    "  Here, the connection half-edges come from the stored vertex information.\n",
    "  These half-edges need to be changed in certain scenarios:\n",
    "  Consider the case that an event vertex gets connected to a vertex above it via a diagonal.\n",
    "  The added diagonal then partitions the polygon into two subpolygons, which both contain the event vertex.\n",
    "  However, the connection half-edge from the event vertex information is incident to only one of the two subpolygon interiors, meaning the event vertex needs a different connection half-edge from the perspective of the other subpolygon.\n",
    "  In order to support this, the *MonotonePartitioning._add_diagonal(...)* method returns not only the diagonal half-edge originating in the event vertex, but also a new version of the event vertex information with that half-edge as its connection half-edge.\n",
    "  The handler methods for event vertices use the new version whenever appropriate.\n",
    "\n",
    "* In preparation for the triangulation step in the next section, we again keep track of each subpolygon through a half-edge incident to its interior.\n",
    "  To this end, notice that every subpolygon created by the downward plane sweep either contains the outgoing half-edge of an end vertex or gets closed off from containing any such half-edges.\n",
    "  The latter happens if and only if an end vertex, a merge vertex or a regular vertex is connected to an above merge vertex via a diagonal.\n",
    "  So taking suitable half-edges corresponding to those diagonals as well as the outgoing half-edges of all end vertices yields exactly one representative half-edge for each subpolygon."
   ]
  },
  {
   "cell_type": "code",
   "execution_count": null,
   "metadata": {},
   "outputs": [],
   "source": [
    "def monotone_partitioning(polygon: DoublyConnectedSimplePolygon) -> PointSequence:\n",
    "    return MonotonePartitioning(polygon).partition()[0]\n",
    "\n",
    "class MonotonePartitioning:\n",
    "    def __init__(self, polygon: DoublyConnectedSimplePolygon):\n",
    "        if polygon.has_diagonals():\n",
    "            raise ValueError(\"Input polygon already has diagonals.\")\n",
    "        elif not polygon.is_simple():\n",
    "            raise ValueError(\"Input polygon isn't simple.\")\n",
    "        self._polygon = polygon\n",
    "\n",
    "        self._diagonal_points = PointSequence()\n",
    "        self._representative_edges: list[HalfEdge] = []\n",
    "\n",
    "        self._status_structure: BinaryTreeDict[HalfEdge, VertexInfo] = BinaryTreeDict(StatusStructureComparator())\n",
    "        self._event_queue: BinaryTreeDict[Vertex, VertexInfo] = BinaryTreeDict(VertexInfo.event_queue_comparator)\n",
    "\n",
    "        for vertex in self._polygon.vertices():\n",
    "            self._event_queue.insert(vertex, VertexInfo(vertex))\n",
    "\n",
    "    def partition(self) -> tuple[PointSequence, list[HalfEdge]]:\n",
    "        while not self._event_queue.is_empty():\n",
    "            event_vertex, event_vertex_info = self._event_queue.pop_first()\n",
    "            handler_name = f\"_handle_{str.lower(event_vertex_info.vertex_type.name)}_vertex\"\n",
    "            handler: Callable[[Vertex, VertexInfo], None] = getattr(self, handler_name)\n",
    "            handler(event_vertex, event_vertex_info)\n",
    "            if event_vertex_info.incoming_edge is event_vertex_info.outgoing_edge.prev:\n",
    "                self._diagonal_points.animate(event_vertex.point)    # Animate point even if no diagonal was added.\n",
    "\n",
    "        return self._diagonal_points, self._representative_edges\n",
    "\n",
    "    def _handle_start_vertex(self, _: Vertex, event_vertex_info: VertexInfo):\n",
    "        self._status_structure.insert(event_vertex_info.outgoing_edge, event_vertex_info)\n",
    "\n",
    "    def _handle_end_vertex(self, _: Vertex, event_vertex_info: VertexInfo):\n",
    "        _, inc_helper_info = self._status_structure.delete(event_vertex_info.incoming_edge)\n",
    "        if inc_helper_info.vertex_type is VT.MERGE:\n",
    "            diagonal, _ = self._add_diagonal(event_vertex_info, inc_helper_info)\n",
    "            self._representative_edges.append(diagonal)\n",
    "        self._representative_edges.append(event_vertex_info.outgoing_edge)\n",
    "\n",
    "    def _handle_split_vertex(self, event_vertex: Vertex, event_vertex_info: VertexInfo):\n",
    "        left_status_edge, left_helper_info = self._status_structure.search_predecessor(event_vertex)\n",
    "        _, new_event_vertex_info = self._add_diagonal(event_vertex_info, left_helper_info)\n",
    "        self._status_structure.update(left_status_edge, lambda _: new_event_vertex_info)\n",
    "        self._status_structure.insert(event_vertex_info.outgoing_edge, event_vertex_info)\n",
    "\n",
    "    def _handle_merge_vertex(self, event_vertex: Vertex, event_vertex_info: VertexInfo):\n",
    "        _, inc_helper_info = self._status_structure.delete(event_vertex_info.incoming_edge)\n",
    "        if inc_helper_info.vertex_type is VT.MERGE:\n",
    "            diagonal, _ = self._add_diagonal(event_vertex_info, inc_helper_info)\n",
    "            self._representative_edges.append(diagonal)\n",
    "        left_status_edge, left_helper_info = self._status_structure.search_predecessor(event_vertex)\n",
    "        if left_helper_info.vertex_type is VT.MERGE:\n",
    "            diagonal, event_vertex_info = self._add_diagonal(event_vertex_info, left_helper_info)\n",
    "            self._representative_edges.append(diagonal.twin)\n",
    "        self._status_structure.update(left_status_edge, lambda _: event_vertex_info)\n",
    "\n",
    "    def _handle_regular_vertex(self, event_vertex: Vertex, event_vertex_info: VertexInfo):\n",
    "        is_interior_to_the_right, inc_helper_info = self._status_structure.delete(event_vertex_info.incoming_edge)\n",
    "        if is_interior_to_the_right:\n",
    "            if inc_helper_info.vertex_type is VT.MERGE:\n",
    "                diagonal, _ = self._add_diagonal(event_vertex_info, inc_helper_info)\n",
    "                self._representative_edges.append(diagonal)\n",
    "            self._status_structure.insert(event_vertex_info.outgoing_edge, event_vertex_info)\n",
    "        else:\n",
    "            left_status_edge, left_helper_info = self._status_structure.search_predecessor(event_vertex)\n",
    "            if left_helper_info.vertex_type is VT.MERGE:\n",
    "                diagonal, event_vertex_info = self._add_diagonal(event_vertex_info, left_helper_info)\n",
    "                self._representative_edges.append(diagonal.twin)\n",
    "            self._status_structure.update(left_status_edge, lambda _: event_vertex_info)\n",
    "\n",
    "    def _add_diagonal(self, event_vertex_info: VertexInfo, helper_info: VertexInfo) -> tuple[HalfEdge, VertexInfo]:\n",
    "        diagonal = self._polygon.add_diagonal(event_vertex_info.connection_edge, helper_info.connection_edge)\n",
    "        self._diagonal_points.append(diagonal.origin.point)\n",
    "        self._diagonal_points.append(diagonal.destination.point)\n",
    "        new_event_vertex_info = copy.copy(event_vertex_info)\n",
    "        new_event_vertex_info.connection_edge = diagonal\n",
    "        return diagonal, new_event_vertex_info"
   ]
  },
  {
   "attachments": {},
   "cell_type": "markdown",
   "metadata": {},
   "source": [
    "The asymptotic running time of Monotone Partitioning is in $O(n \\log(n))$ and its data structures require space in $O(n)$."
   ]
  },
  {
   "cell_type": "code",
   "execution_count": null,
   "metadata": {},
   "outputs": [],
   "source": [
    "visualisation_tool.register_algorithm(\n",
    "    \"Mon. Partitioning\", monotone_partitioning,\n",
    "    MonotonePartitioningMode(animate_sweep_line = True, vertex_radius = 0)\n",
    ")"
   ]
  },
  {
   "attachments": {},
   "cell_type": "markdown",
   "metadata": {},
   "source": [
    "Animating this algorithm on its own shows how diagonals are added as the sweep line passes the event vertices.\n",
    "\n",
    "TODO: Add static image."
   ]
  },
  {
   "cell_type": "code",
   "execution_count": null,
   "metadata": {},
   "outputs": [],
   "source": [
    "visualisation_tool.display()"
   ]
  },
  {
   "attachments": {},
   "cell_type": "markdown",
   "metadata": {},
   "source": [
    "***Takeaways:***\n",
    "\n",
    "* This time, we've encountered a plane sweep algorithm that knows all event vertices beforehand and doesn't require a dynamic status structure comparator.\n",
    "\n",
    "* The DCEL is a flexible data structure, though one should be careful about possible changes in its internal structure when adding new edges."
   ]
  },
  {
   "attachments": {},
   "cell_type": "markdown",
   "metadata": {},
   "source": [
    "### 3.3. Monotone Triangulation"
   ]
  },
  {
   "attachments": {},
   "cell_type": "markdown",
   "metadata": {},
   "source": [
    "We'll now tackle the missing piece, that is triangulating the $y$-monotone subpolygons.\n",
    "For each subpolygon, the vertices on its left and right boundary chains are sorted from top to bottom thanks to the $y$-monotonicity.\n",
    "The algorithm first merges both chains into a single descending vertex sequence.\n",
    "A nice description for the next steps is provided by \\[2, p. 32\\]:\n",
    "\"The idea behind the triangulation algorithm is quite simple:\n",
    "Try to triangulate *everything* you can \\[above\\] the current vertex by adding diagonals, and then remove the triangulated region from further consideration.\n",
    "The trickiest aspect of implementing this idea is finding a clean invariant that characterizes the *untriangulated region* that lies \\[above the current vertex\\].\"\n",
    "Note that this quote has been slightly adapted, since \\[2\\] uses $x$-monotone subpolygons rather than $y$-monotone ones.\n",
    "\n",
    "As seen in the lecture, a suitable invariant for the untriangulated region is that it has the shape of an upside-down funnel.\n",
    "To be more specific, it consists of a single subpolygon edge on one side and a chain of vertices with interior angles above $180^\\circ$ on the other side (see also \\[1, p. 56\\]).\n",
    "This funnel is maintained through a *stack*.\n",
    "Because we need to use appropriate connection half-edges for diagonals just like in the previous sections, our implementation stores half-edges on the stack instead of vertices.\n",
    "For each half-edge, an orientation that signifies whether the half-edge is on the left or right boundary chain of the subpolygon is stored too.\n",
    "This orientation is used to compare the current half-edge with the half-edge on top of the stack as well as to determine connection half-edges.\n",
    "Here, the *MonotoneSupporter.add_diagonal(...)* method returns the correct half-edge for a potential connection with the next half-edge on top of the stack, which depends on the orientation of the half-edge previously popped from the stack."
   ]
  },
  {
   "cell_type": "code",
   "execution_count": null,
   "metadata": {},
   "outputs": [],
   "source": [
    "def monotone_triangulation(polygon: DoublyConnectedSimplePolygon) -> PointSequence:\n",
    "    diagonal_points, representative_edges = MonotonePartitioning(polygon).partition()\n",
    "    supporter = MonotoneSupporter(polygon, diagonal_points)\n",
    "\n",
    "    for edge_sequence in supporter.get_edge_sequences(representative_edges):\n",
    "        stack = edge_sequence[0:2]\n",
    "\n",
    "        for current_edge, current_ort in edge_sequence[2:-1]:\n",
    "            connection_edge = current_edge\n",
    "            popped_edge, popped_ort = stack.pop()\n",
    "            if current_ort is not popped_ort:\n",
    "                cached_edge, cached_ort = popped_edge, popped_ort\n",
    "                while stack:\n",
    "                    connection_edge = supporter.add_diagonal(connection_edge, popped_edge, popped_ort)\n",
    "                    popped_edge, popped_ort = stack.pop()\n",
    "            else:\n",
    "                current_point = current_edge.origin.point\n",
    "                while stack:\n",
    "                    ort = popped_edge.origin.point.orientation(current_point, stack[-1][0].origin.point)\n",
    "                    if ort is not current_ort:\n",
    "                        break\n",
    "                    popped_edge, popped_ort = stack.pop()\n",
    "                    connection_edge = supporter.add_diagonal(connection_edge, popped_edge, popped_ort)\n",
    "                cached_edge, cached_ort = popped_edge, popped_ort\n",
    "            if current_ort is ORT.LEFT:\n",
    "                stack.append((current_edge.prev, cached_ort))\n",
    "                stack.append((current_edge, current_ort))\n",
    "            else:\n",
    "                stack.append((cached_edge, cached_ort))\n",
    "                stack.append((cached_edge.prev, current_ort))\n",
    "\n",
    "        connection_edge = edge_sequence[-1][0]\n",
    "        stack.pop()\n",
    "        popped_edge, popped_ort = stack.pop()\n",
    "        while stack:\n",
    "            connection_edge = supporter.add_diagonal(connection_edge, popped_edge, popped_ort)\n",
    "            popped_edge, popped_ort = stack.pop()\n",
    "\n",
    "    return diagonal_points\n",
    "\n",
    "class MonotoneSupporter:\n",
    "    def __init__(self, polygon: DoublyConnectedSimplePolygon, diagonal_points: PointSequence):\n",
    "        self._polygon = polygon\n",
    "        self._diagonal_points = diagonal_points\n",
    "        self._diagonal_points.reset_animations()    # Remove animations of points with no diagonal.\n",
    "\n",
    "    def get_edge_sequences(self, representative_edges: list[HalfEdge]) -> Iterator[list[tuple[HalfEdge, ORT]]]:\n",
    "        for representative_edge in representative_edges:\n",
    "            topmost_edge = representative_edge\n",
    "            edge = representative_edge.next\n",
    "            while edge is not representative_edge:\n",
    "                if VertexInfo.event_queue_comparator.compare(edge.origin, topmost_edge.origin) is CR.BEFORE:\n",
    "                    topmost_edge = edge\n",
    "                edge = edge.next\n",
    "\n",
    "            edge_sequence: list[tuple[HalfEdge, ORT]] = [(topmost_edge, ORT.LEFT)]\n",
    "            left_chain_edge = topmost_edge.next\n",
    "            right_chain_edge = topmost_edge.prev\n",
    "            while True:\n",
    "                cr = VertexInfo.event_queue_comparator.compare(left_chain_edge.origin, right_chain_edge.origin)\n",
    "                if cr is CR.BEFORE:\n",
    "                    edge_sequence.append((left_chain_edge, ORT.LEFT))\n",
    "                    left_chain_edge = left_chain_edge.next\n",
    "                else:\n",
    "                    edge_sequence.append((right_chain_edge, ORT.RIGHT))\n",
    "                    if cr is CR.MATCH:\n",
    "                        break\n",
    "                    right_chain_edge = right_chain_edge.prev\n",
    "\n",
    "            yield edge_sequence\n",
    "\n",
    "    def add_diagonal(self, connection_edge: HalfEdge, popped_edge: HalfEdge, popped_ort: ORT) -> HalfEdge:\n",
    "        diagonal = self._polygon.add_diagonal(connection_edge, popped_edge)\n",
    "        self._diagonal_points.append(diagonal.origin.point)\n",
    "        self._diagonal_points.append(diagonal.destination.point)\n",
    "\n",
    "        if popped_ort is ORT.LEFT:\n",
    "            return connection_edge\n",
    "        return diagonal"
   ]
  },
  {
   "attachments": {},
   "cell_type": "markdown",
   "metadata": {},
   "source": [
    "The presented algorithm can triangulate a $y$-monotone polygon using $O(n)$ operations.\n",
    "Its overall running time for general polygons is in $O(n \\log(n))$, since it uses Monotone Partitioning as a preprocessing step to compute $y$-monotone subpolygons."
   ]
  },
  {
   "cell_type": "code",
   "execution_count": null,
   "metadata": {},
   "outputs": [],
   "source": [
    "visualisation_tool.register_algorithm(\n",
    "    \"Mon. Triangulation\", monotone_triangulation,\n",
    "    MonotonePartitioningMode(animate_sweep_line = False, vertex_radius = 0)\n",
    ")"
   ]
  },
  {
   "attachments": {},
   "cell_type": "markdown",
   "metadata": {},
   "source": [
    "The animations of Monotone Triangulation show the diagonals added by Monotone Partitioning before triangulating the resulting subpolygons one after another.\n",
    "\n",
    "TODO: Add static image."
   ]
  },
  {
   "cell_type": "code",
   "execution_count": null,
   "metadata": {},
   "outputs": [],
   "source": [
    "visualisation_tool.display()"
   ]
  },
  {
   "attachments": {},
   "cell_type": "markdown",
   "metadata": {},
   "source": [
    "***Takeaways:***\n",
    "\n",
    "* Special cases have a greater potential for simple and efficient algorithms. Sometimes, this can be leveraged by reducing the general case to a special one.\n",
    "\n",
    "* Even when designing a conceptually simple algorithm, translating an intuitive idea into a formal invariant can be somewhat tricky."
   ]
  },
  {
   "attachments": {},
   "cell_type": "markdown",
   "metadata": {},
   "source": [
    "### 3.4. Gallery Guarding"
   ]
  },
  {
   "attachments": {},
   "cell_type": "markdown",
   "metadata": {},
   "source": [
    "We conclude this notebook by applying the presented polygon triangulation algorithms to the **art gallery problem**:\n",
    "A gallery in the form of a simple polygon is to be guarded by security cameras.\n",
    "Such a camera can be placed anywhere in the polygon and is able to rotate, guarding every point within the polygon such that the line segment between the camera and the point is contained in the polygon.\n",
    "The goal is to find a small set of camera positions that together guard the whole polygon.\n",
    "Finding a solution with as few cameras as possible is unfortunately NP-hard.\n",
    "Hence, the lecture proposed finding a worst-case optimal solution with at most $\\lfloor n/3 \\rfloor$ cameras for polygons with $n$ vertices.\n",
    "\n",
    "A solution of that kind is straightforward to compute using a triangulation of the input polygon:\n",
    "First construct a **3-colouring** of the triangulated polygon, which assigns one of three colours to each polygon vertex such that all triangles have exactly one vertex of every colour.\n",
    "Then place the cameras at those vertices whose colour appears the least.\n",
    "Constructing a 3-colouring can be done with the help of the triangulation's *dual graph*, which is explained by \\[1, pp. 47–48\\].\n",
    "The following implementation is based on a less illustrative but easier to implement approach from \\[3\\].\n",
    "Essentially, it traverses the polygon vertices in anticlockwise order and assigns colours based on their degree parity."
   ]
  },
  {
   "cell_type": "code",
   "execution_count": null,
   "metadata": {},
   "outputs": [],
   "source": [
    "Triangulator = Callable[[DoublyConnectedSimplePolygon], PointSequence]\n",
    "\n",
    "def recursive_guarding(polygon: DoublyConnectedSimplePolygon) -> PointSequence:\n",
    "    return guarding(polygon, recursive_triangulation)\n",
    "\n",
    "def monotone_guarding(polygon: DoublyConnectedSimplePolygon) -> PointSequence:\n",
    "    return guarding(polygon, monotone_triangulation)\n",
    "\n",
    "def guarding(polygon: DoublyConnectedSimplePolygon, triangulator: Triangulator) -> PointSequence:\n",
    "    diagonal_points = triangulator(polygon)\n",
    "    diagonal_points.clear()    # Clear diagonal points without removing animation information.\n",
    "\n",
    "    topmost_vertex = polygon.topmost_vertex\n",
    "    current_vertex = topmost_vertex.edge.destination\n",
    "    coloured_vertices = ([topmost_vertex], [current_vertex], [])\n",
    "    prev_colour, current_colour = 0, 1\n",
    "\n",
    "    next_vertex = current_vertex.edge.destination\n",
    "    while next_vertex is not topmost_vertex:\n",
    "        has_current_vertex_odd_degree = True\n",
    "        incident_edge = current_vertex.edge.prev.twin\n",
    "        while incident_edge is not current_vertex.edge:\n",
    "            has_current_vertex_odd_degree = not has_current_vertex_odd_degree\n",
    "            incident_edge = incident_edge.prev.twin\n",
    "\n",
    "        next_colour = prev_colour if has_current_vertex_odd_degree else 3 - prev_colour - current_colour\n",
    "        coloured_vertices[next_colour].append(next_vertex)\n",
    "\n",
    "        prev_colour, current_colour = current_colour, next_colour\n",
    "        current_vertex, next_vertex = next_vertex, next_vertex.edge.destination\n",
    "\n",
    "    camera_vertices = min(coloured_vertices, key = lambda vertices: len(vertices))\n",
    "    camera_points = get_camera_points(camera_vertices, polygon.vertices_acw())\n",
    "\n",
    "    return diagonal_points + camera_points\n",
    "\n",
    "def get_camera_points(camera_vertices: list[Vertex], all_vertices: Iterator[Vertex]) -> PointSequence:\n",
    "    camera_points = PointSequence()\n",
    "    i = 0\n",
    "    for vertex in all_vertices:\n",
    "        if i < len(camera_vertices) and vertex.point == camera_vertices[i].point:\n",
    "            camera_points.append(vertex.point)\n",
    "            i += 1\n",
    "        else:\n",
    "            camera_points.animate(vertex.point)    # Animate point even if no camera is placed there.\n",
    "\n",
    "    return camera_points"
   ]
  },
  {
   "attachments": {},
   "cell_type": "markdown",
   "metadata": {},
   "source": [
    "The 3-colouring algorithm visits all $n$ vertices and all edges, of which there are $n$ polygon edges and $n - 3$ diagonals, at most twice.\n",
    "Thus, the overall worst-case running time complexity of (Gallery) Guarding is dominated by the used triangulation algorithm:\n",
    "It's in $O(n^2)$ for Recursive Triangulation and in $O(n \\log(n))$ for Monotone Triangulation."
   ]
  },
  {
   "cell_type": "code",
   "execution_count": null,
   "metadata": {},
   "outputs": [],
   "source": [
    "visualisation_tool.register_algorithm(\"Rec. Guarding\", recursive_guarding, ArtGalleryMode())\n",
    "visualisation_tool.register_algorithm(\"Mon. Guarding\", monotone_guarding, ArtGalleryMode())"
   ]
  },
  {
   "attachments": {},
   "cell_type": "markdown",
   "metadata": {},
   "source": [
    "Having registered both variants for visualisation, you can use our tool to see how the underlying triangulation affects camera positions.\n",
    "It's possible to find polygons in which Recursive Guarding places less cameras than Monotone Guarding and vice versa.\n",
    "The *Prongs* example instance is the worst case presented in the lecture, where the 3-colouring approach optimally places one camera per prong (see also \\[1, p. 48\\]).\n",
    "Then again, there exist polygons in which it places far more cameras than necessary.\n",
    "\n",
    "TODO: Add static image."
   ]
  },
  {
   "cell_type": "code",
   "execution_count": null,
   "metadata": {},
   "outputs": [],
   "source": [
    "visualisation_tool.display()"
   ]
  },
  {
   "attachments": {},
   "cell_type": "markdown",
   "metadata": {},
   "source": [
    "## 4. References"
   ]
  },
  {
   "attachments": {},
   "cell_type": "markdown",
   "metadata": {},
   "source": [
    "\\[1\\] Mark de Berg, Otfried Cheong, Marc van Kreveld, and Mark Overmars. *Computational Geometry: Algorithms and Applications*, 3rd Edition, 2008.\n",
    "\n",
    "\\[2\\] David M. Mount. [*CMSC 754: Computational Geometry*](https://www.cs.umd.edu/class/spring2020/cmsc754/Lects/cmsc754-spring2020-lects.pdf), 2020.\n",
    "\n",
    "\\[3\\] Ali A. Kooshesh, and Bernard M. E. Moret. *Three-coloring the Vertices of a Triangulated Simple Polygon*, Pattern Recognition 25(4), p. 443, 1992."
   ]
  }
 ],
 "metadata": {
  "kernelspec": {
   "display_name": "base",
   "language": "python",
   "name": "python3"
  },
  "language_info": {
   "codemirror_mode": {
    "name": "ipython",
    "version": 3
   },
   "file_extension": ".py",
   "mimetype": "text/x-python",
   "name": "python",
   "nbconvert_exporter": "python",
   "pygments_lexer": "ipython3",
   "version": "3.9.7"
  },
  "orig_nbformat": 4,
  "vscode": {
   "interpreter": {
    "hash": "b48264eb95706e162d01c04d685d59c09b9997374e8df34f814a7711d35cc8a0"
   }
  }
 },
 "nbformat": 4,
 "nbformat_minor": 2
}
