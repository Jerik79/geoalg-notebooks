{
 "cells": [
  {
   "attachments": {},
   "cell_type": "markdown",
   "metadata": {},
   "source": [
    "# 00: Basics"
   ]
  },
  {
   "attachments": {},
   "cell_type": "markdown",
   "metadata": {},
   "source": [
    "*Authors: Jan Erik Swiadek, Prof. Dr. Kevin Buchin*"
   ]
  },
  {
   "attachments": {},
   "cell_type": "markdown",
   "metadata": {},
   "source": [
    "This notebook serves as supplementary learning material for the course **Geometric Algorithms**.\n",
    "It explains how to use an interactive tool employed by subsequent notebooks for visualising and animating algorithms.\n",
    "Furthermore, it introduces a few important basics that are frequently needed in algorithm implementations."
   ]
  },
  {
   "attachments": {},
   "cell_type": "markdown",
   "metadata": {},
   "source": [
    "## Table of Contents"
   ]
  },
  {
   "attachments": {},
   "cell_type": "markdown",
   "metadata": {},
   "source": [
    "1. Introduction and Setup  \n",
    "2. Visualisation  \n",
    "3. Geometry  \n",
    "    3.1. Robustness  \n",
    "    3.2. Orientation Test  \n",
    "    3.3. Intersection Computation for Two Line Segments  \n",
    "4. Data Structures  \n",
    "    4.1. Balanced Binary Tree  \n",
    "    4.2. Doubly-Connected Edge List for a Simple Polygon  \n",
    "5. References  "
   ]
  },
  {
   "attachments": {},
   "cell_type": "markdown",
   "metadata": {},
   "source": [
    "## 1. Introduction and Setup"
   ]
  },
  {
   "attachments": {},
   "cell_type": "markdown",
   "metadata": {},
   "source": [
    "This notebook reimplements some of the elements living in modules to be reused in subsequent notebooks:\n",
    "\n",
    "* <tt>modules.visualisation:</tt> Module for visualisation purposes.\n",
    "\n",
    "* <tt>modules.geometry:</tt> Module for geometric primitives and operations.\n",
    "\n",
    "* <tt>modules.data_structures:</tt> Module for generic data structures.\n",
    "\n",
    "We now import everything we'll need throughout this notebook from the [Python Standard Library](https://docs.python.org/3/library/)."
   ]
  },
  {
   "cell_type": "code",
   "execution_count": 1,
   "metadata": {},
   "outputs": [],
   "source": [
    "from __future__ import annotations\n",
    "from abc import ABC, abstractmethod\n",
    "from enum import auto, Enum\n",
    "from itertools import count\n",
    "import math\n",
    "from typing import Any, Generic, Optional, SupportsFloat, TypeVar, Union"
   ]
  },
  {
   "attachments": {},
   "cell_type": "markdown",
   "metadata": {},
   "source": [
    "## 2. Visualisation"
   ]
  },
  {
   "attachments": {},
   "cell_type": "markdown",
   "metadata": {},
   "source": [
    "The main part of our <tt>visualisation</tt> module is the <tt>VisualisationTool</tt> class.\n",
    "See below for an example image of the tool as it appears in [notebook no. 02](./02-LineSegmentIntersection.ipynb) about the line segment intersection problem.\n",
    "The input (here, a set of line segments) is coloured <font color='orange'>orange</font> and the algorithm output (here, a set of intersection points) is marked in <font color='blue'>blue</font>.\n",
    "\n",
    "Furthermore, the <tt>visualisation</tt> module exports some other elements that support the tool.\n",
    "These elements include instance handles (e.g. <tt>LineSegmentSetInstance</tt>) specifying input types and interactions as well as drawing modes (e.g. <tt>PointsMode</tt>) specifying the mechanics of drawings and animations.\n",
    "Drawing modes have customisation parameters, such as the radius of drawn points/vertices.\n",
    "All subsequent notebooks employ appropriate instance handles and drawing modes with reasonable defaults."
   ]
  },
  {
   "attachments": {},
   "cell_type": "markdown",
   "metadata": {},
   "source": [
    "<img style='float: left;' src='./images/00-image00.png'>"
   ]
  },
  {
   "attachments": {},
   "cell_type": "markdown",
   "metadata": {},
   "source": [
    "Invoking the tool is done by calling the <tt>display()</tt> method of a <tt>VisualisationTool</tt> object.\n",
    "Cells with this method call are already included in subsequent notebooks.\n",
    "Before executing such a cell, a static image is displayed in place of the tool.\n",
    "These images serve as animation previews by depicting an algorithm step on a random input instance.\n",
    "In order to successfully invoke the tool, all prior notebook cells should be executed beforehand to make sure everything works.\n",
    "Obviously, you also need a suitable environment including a Python kernel.\n",
    "If you don't know how to access the notebooks within an execution environment, you can consult the [README](/README.md) for different access possibilities.\n",
    "\n",
    "The visualisation tool contains an interactive canvas on its left side.\n",
    "Width and height of the canvas are choosable during tool initialisation.\n",
    "Input instances can be constructed by clicking on the canvas.\n",
    "This adds a point to the current instance, up to a maximum of 999 points.\n",
    "The instance size (usually given the name $n$ when analysing algorithm running time) is shown beneath the canvas.\n",
    "It can differ from the number of added points, which is then indicated separately as seen in the image.\n",
    "Here, that distinction applies since every line segment comprises two points.\n",
    "On the right side of the tool are control widgets divided into multiple sections, which will be described next.\n",
    "\n",
    "* **Canvas:**\n",
    "\n",
    "  * The *Clear* button clears the current instance, removing it from the canvas.\n",
    "\n",
    "  * The *Random* button generates a new random instance, replacing the current instance on the canvas.\n",
    "    During generation a message saying \"GENERATING\" is displayed next to the *Points* option.\n",
    "\n",
    "* **Options:**\n",
    "\n",
    "  * The *Animations* checkbox toggles whether to animate algorithms instead of directly drawing algorithm outputs onto the canvas.\n",
    "\n",
    "  * The *Speed* option is only visible if the *Animations* checkbox is checked.\n",
    "    It controls the animation speed on a scale from 1 to 10, where an exponential function is applied to the chosen value.\n",
    "    Note that it's not possible to pause or stop a running animation, so animations on large instances should best be started with a high speed value.\n",
    "    (If you're stuck in a long animation or something unforeseen happens, you can still always restart the execution kernel.)\n",
    "\n",
    "  * The *Points* option controls how many points the random instances generated by the *Random* button consist of.\n",
    "\n",
    "* **Examples:** Each example instance registered with the <tt>VisualisationTool.register_example_instance(...)</tt> method receives its own button.\n",
    "  Clicking on such a button loads the corresponding instance, replacing the current instance on the canvas.\n",
    "\n",
    "* **Algorithms:** Each algorithm registered with the <tt>VisualisationTool.register_algorithm(...)</tt> method receives its own button.\n",
    "  Clicking on such a button executes the corresponding algorithm on the current instance, optionally animates algorithm steps and finally draws the algorithm output onto the canvas.\n",
    "  The algorithm output is removed from the canvas whenever another algorithm execution starts or the input instance changes.\n",
    "\n",
    "* **Messages:** After clicking on an algorithm button, a message regarding the execution of the algorithm is displayed next to the button.\n",
    "  During execution it says \"RUNNING\", while during animation it says \"<font color='blue'>ANIMATING</font>\".\n",
    "  After that, the running time of the algorithm execution (not including animation) is displayed until the algorithm is executed again or the input instance changes.\n",
    "  Should the execution fail for some reason, then the message says \"<font color='red'>ERROR</font>\" instead and hovering over it yields an error description."
   ]
  },
  {
   "attachments": {},
   "cell_type": "markdown",
   "metadata": {},
   "source": [
    "## 3. Geometry"
   ]
  },
  {
   "attachments": {},
   "cell_type": "markdown",
   "metadata": {},
   "source": [
    "The <tt>geometry</tt> module contains the primitives <tt>Point</tt> and <tt>LineSegment</tt> for 2D geometry, which subsequent notebooks are based on.\n",
    "It also exports classes acting as interfaces for the visualisation tool, namely <tt>PointSequence</tt> (essentially a [list](https://docs.python.org/3/library/stdtypes.html#lists) of points) and <tt>PointSequenceDict</tt> (essentially an [OrderedDict](https://docs.python.org/3/library/collections.html#collections.OrderedDict) with points as keys and arbitrary values).\n",
    "Those classes support only basic operations but implicitly store animation events for the tool.\n",
    "Every registered algorithm thus needs to return such a class object.\n",
    "\n",
    "In this section, we'll reimplement operations for the geometric primitives that are provided by the <tt>geometry</tt> module:\n",
    "The *orientation test* for a point with respect to a directed line segment, and the *intersection computation* for two line segments.\n",
    "These operations are fundamental in computational geometry and used frequently in subsequent notebooks, especially the orientation test.\n",
    "Hence, the notion of *robustness* is very relevant for their implementations, so let's take a quick look at that first."
   ]
  },
  {
   "attachments": {},
   "cell_type": "markdown",
   "metadata": {},
   "source": [
    "### 3.1. Robustness"
   ]
  },
  {
   "attachments": {},
   "cell_type": "markdown",
   "metadata": {},
   "source": [
    "Implementations of geometric algorithms might return wrong outputs for specific inputs.\n",
    "This can happen for **degenerate cases**, which are annoying edge cases often ignored in algorithm descriptions (see \\[1, pp. 8–9\\]).\n",
    "But even if all cases are handled correctly, errors are still able to arise because [floating-point arithmetic](https://en.wikipedia.org/wiki/Floating-point_arithmetic) isn't exact.\n",
    "Some algorithms particularly suffer from so-called **robustness issues**, where small rounding errors can lead to big deviations in the output (see \\[1, p. 5 and pp. 9–10\\]).\n",
    "\n",
    "The easiest solution for these issues is to perform comparisons using an absolute epsilon value, i.e. two floating-point numbers are considered equal as long as their difference isn't greater than the chosen epsilon value.\n",
    "We use this approach throughout our modules and notebooks."
   ]
  },
  {
   "cell_type": "code",
   "execution_count": 2,
   "metadata": {},
   "outputs": [],
   "source": [
    "EPSILON: float = 1e-9    # Chosen by testing currently implemented algorithms with the visualisation tool."
   ]
  },
  {
   "attachments": {},
   "cell_type": "markdown",
   "metadata": {},
   "source": [
    "However, this isn't a good solution since the spacing between two adjacent representable floating-point numbers grows with their magnitude (see \\[2\\]).\n",
    "That spacing is called the *ULP* of a float, short for [unit in the last place](https://en.wikipedia.org/wiki/Unit_in_the_last_place).\n",
    "As an example, let's look at the ULPs of powers of 10 and what happens when they become larger than the absolute epsilon value."
   ]
  },
  {
   "cell_type": "code",
   "execution_count": 3,
   "metadata": {},
   "outputs": [
    {
     "name": "stdout",
     "output_type": "stream",
     "text": [
      "Float 1.0e+00 has ULP 2.2204460492503131e-16\n",
      "Float 1.0e+01 has ULP 1.7763568394002505e-15\n",
      "Float 1.0e+02 has ULP 1.4210854715202004e-14\n",
      "Float 1.0e+03 has ULP 1.1368683772161603e-13\n",
      "Float 1.0e+04 has ULP 1.8189894035458565e-12\n",
      "Float 1.0e+05 has ULP 1.4551915228366852e-11\n",
      "Float 1.0e+06 has ULP 1.1641532182693481e-10\n",
      "Float 1.0e+07 has ULP 1.8626451492309570e-09\n",
      "Float 1.0e+08 has ULP 1.4901161193847656e-08\n"
     ]
    },
    {
     "ename": "AssertionError",
     "evalue": "Floats doing float things.",
     "output_type": "error",
     "traceback": [
      "\u001b[0;31m---------------------------------------------------------------------------\u001b[0m",
      "\u001b[0;31mAssertionError\u001b[0m                            Traceback (most recent call last)",
      "Cell \u001b[0;32mIn[3], line 3\u001b[0m\n\u001b[1;32m      1\u001b[0m \u001b[39mfor\u001b[39;00m n \u001b[39min\u001b[39;00m \u001b[39mmap\u001b[39m(\u001b[39mlambda\u001b[39;00m i: \u001b[39m10.0\u001b[39m \u001b[39m*\u001b[39m\u001b[39m*\u001b[39m i, count()):\n\u001b[1;32m      2\u001b[0m     \u001b[39mprint\u001b[39m(\u001b[39mf\u001b[39m\u001b[39m\"\u001b[39m\u001b[39mFloat \u001b[39m\u001b[39m{\u001b[39;00mn\u001b[39m:\u001b[39;00m\u001b[39m.1e\u001b[39m\u001b[39m}\u001b[39;00m\u001b[39m has ULP \u001b[39m\u001b[39m{\u001b[39;00mmath\u001b[39m.\u001b[39mulp(n)\u001b[39m:\u001b[39;00m\u001b[39m.16e\u001b[39m\u001b[39m}\u001b[39;00m\u001b[39m\"\u001b[39m)\n\u001b[0;32m----> 3\u001b[0m     \u001b[39massert\u001b[39;00m n \u001b[39m+\u001b[39m EPSILON \u001b[39m>\u001b[39m n, \u001b[39m\"\u001b[39m\u001b[39mFloats doing float things.\u001b[39m\u001b[39m\"\u001b[39m\n",
      "\u001b[0;31mAssertionError\u001b[0m: Floats doing float things."
     ]
    }
   ],
   "source": [
    "for n in map(lambda i: 10.0 ** i, count()):\n",
    "    print(f\"Float {n:.1e} has ULP {math.ulp(n):.16e}\")\n",
    "    assert n + EPSILON > n, \"Floats doing float things.\""
   ]
  },
  {
   "attachments": {},
   "cell_type": "markdown",
   "metadata": {},
   "source": [
    "In consequence, absolute epsilon comparisons only work for relatively small numbers and are inadequate for general purpose implementations.\n",
    "They're mostly fine for our use case due to the visualisation tool's coordinate space being bounded by the canvas width and height, which should be chosen such that they fit on a screen.\n",
    "When comparing larger numbers, comparisons based on relative epsilon values or ULPs could be used instead.\n",
    "An approachable introduction to comparing floats is given by \\[2\\].\n",
    "\n",
    "Alternatively, one can use exact arithmetic.\n",
    "This is achievable by explicitly storing numerators and denominators of rational numbers, or through arbitrary precision arithmetic as provided by [Python's decimal library](https://docs.python.org/3/library/decimal.html).\n",
    "Unfortunately, both mentioned options are usually quite a bit slower than fixed precision floating-point arithmetic on typical hardware.\n",
    "That's why there's been research on more advanced methods that aim to combine exactness with a moderate performance overhead (see \\[1, p. 14\\]).\n",
    "For instance, techniques for quickly computing geometric predicates (such as the orientation discussed next) using adaptive precision arithmetic are presented in \\[3\\]."
   ]
  },
  {
   "attachments": {},
   "cell_type": "markdown",
   "metadata": {},
   "source": [
    "### 3.2. Orientation Test"
   ]
  },
  {
   "attachments": {},
   "cell_type": "markdown",
   "metadata": {},
   "source": [
    "The 2D orientation test determines the location of a point $p \\in \\mathbb{R}^2$ with respect to a directed line segment starting at a source $s \\in \\mathbb{R}^2$ and ending at a target $t \\in \\mathbb{R}^2$ with $s \\neq t$.\n",
    "As illustrated by the image below (created using [Ipe](https://ipe.otfried.org/)), there are five possible configurations from the viewpoint of an imaginary agent standing at $s$ and looking towards $t$:\n",
    "The point $p$ can lie to the agent's *left*, or to their *right*, or on the line segment *between* $s$ and $t$ (both inclusive), or on the corresponding line *before $s$*, or on the line *behind $t$*."
   ]
  },
  {
   "attachments": {},
   "cell_type": "markdown",
   "metadata": {},
   "source": [
    "<img style='float: left;' src='./images/00-image01.png'>"
   ]
  },
  {
   "attachments": {},
   "cell_type": "markdown",
   "metadata": {},
   "source": [
    "We define an [Enum](https://docs.python.org/3/library/enum.html) called <tt>Orientation</tt> (or <tt>ORT</tt> for short) encoding these possibilities:"
   ]
  },
  {
   "cell_type": "code",
   "execution_count": 4,
   "metadata": {},
   "outputs": [],
   "source": [
    "class Orientation(Enum):\n",
    "    LEFT = auto()\n",
    "    RIGHT = auto()\n",
    "    BETWEEN = auto()\n",
    "    BEFORE_SOURCE = auto()\n",
    "    BEHIND_TARGET = auto()\n",
    "\n",
    "ORT = Orientation"
   ]
  },
  {
   "attachments": {},
   "cell_type": "markdown",
   "metadata": {},
   "source": [
    "The orientation can be computed using the sign of a determinant (see \\[4, pp. 10–11\\]).\n",
    "To make this a bit more intuitive, said determinant conincides with the *perp dot product* of the vectors $t - s$ and $p - s$.\n",
    "The well-known [dot product](https://en.wikipedia.org/wiki/Dot_product) of two 2D vectors $v = (v_x, v_y) \\in \\mathbb{R}^2$ and $w = (w_x, w_y) \\in \\mathbb{R}^2$ is defined as $v \\cdot w := v_x \\cdot w_x + v_y \\cdot w_y$ and satisfies $v \\cdot w = \\|v\\| \\cdot \\|w\\| \\cdot \\cos(\\theta)$, where $\\theta$ is the (smaller) angle between $v$ and $w$.\n",
    "The perp dot product of $v$ and $w$ corresponds to $v^\\perp \\cdot w$, where $v^\\perp := (-v_y, v_x)$ is perpendicular to $v$.\n",
    "It satisfies $|v^\\perp \\cdot w| = \\|v\\| \\cdot \\|w\\| \\cdot \\sin(\\theta)$ and can thus be interpreted as the signed area of the paralleogram induced by $v$ and $w$ (see \\[5, pp. 138–140\\]).\n",
    "\n",
    "Intuitively, $p$ lies on the line through $s$ and $t$ if and only if the area of the paralleogram induced by $t - s$ and $p - s$ vanishes, i.e. $(t - s)^\\perp \\cdot (p - s) = 0$.\n",
    "The location of $p$ on the line is then parametrised by the equation $p = s + a \\cdot (t - s)$ for some scalar $a \\in \\mathbb{R}$.\n",
    "Here, $a < 0$ means that $p$ lies before $s$, and $a \\in [0, 1]$ means that $p$ lies between $s$ and $t$, while $a > 1$ means that $p$ lies behind $t$.\n",
    "We can solve the equation for $a$ with the help of dot products, yielding $a = (p - s) \\cdot (t - s) / (t - s) \\cdot (t - s)$.\n",
    "\n",
    "Otherwise, the sign of the perp dot product $(t - s)^\\perp \\cdot (p - s)$ immediately tells us the orientation.\n",
    "If it's positive, then $p$ is to the left, and if it's negative, then $p$ is to the right (see \\[4, pp. 10–11\\] and \\[5, pp. 139\\]).\n",
    "The upcoming code uses the alternative perp dot product $(p - s)^\\perp \\cdot (t - s) = - (t - s)^\\perp \\cdot (p - s)$ instead, which switches the sign due to antisymmetry.\n",
    "It also employs a choosable absolute epsilon value for checking whether the perp dot product is $0$ (see the previous subsection on robustness).\n",
    "\n",
    "Furthermore, note that the <tt>geometry</tt> module doesn't distuinguish between points and vectors as well as that this reimplementation doesn't include all methods of the <tt>Point</tt> class from the module.\n",
    "Besides the discussed operations, it just contains properties and magic methods that are used by the intersection computation."
   ]
  },
  {
   "cell_type": "code",
   "execution_count": 5,
   "metadata": {},
   "outputs": [],
   "source": [
    "class Point:\n",
    "    def __init__(self, x: SupportsFloat, y: SupportsFloat):\n",
    "        if not math.isfinite(x) or not math.isfinite(y):\n",
    "            raise ValueError(\"The x and y values of a point must be finite numbers.\")\n",
    "\n",
    "        self._x = float(x)\n",
    "        self._y = float(y)\n",
    "\n",
    "    ## Operations\n",
    "\n",
    "    def orientation(self, source: Point, target: Point, epsilon: float = EPSILON) -> Orientation:\n",
    "        if source == target:\n",
    "            raise ValueError(\"Source and target need to be two different points.\")\n",
    "\n",
    "        self_direction = self - source\n",
    "        target_direction = target - source\n",
    "        signed_area = self_direction.perp_dot(target_direction)\n",
    "\n",
    "        if signed_area < -epsilon:\n",
    "            return ORT.LEFT\n",
    "        elif signed_area > epsilon:\n",
    "            return ORT.RIGHT\n",
    "        else:\n",
    "            a = self_direction.dot(target_direction) / target_direction.dot(target_direction)\n",
    "            # We don't need epsilon here, because the calculation of `a` ensures that\n",
    "            # `a == 0.0` if `self == source`, whereas `a == 1.0` if `self == target`.\n",
    "            if a < 0.0:\n",
    "                return ORT.BEFORE_SOURCE\n",
    "            elif a > 1.0:\n",
    "                return ORT.BEHIND_TARGET\n",
    "            else:\n",
    "                return ORT.BETWEEN\n",
    "\n",
    "    def dot(self, other: Point) -> float:\n",
    "        return self._x * other._x + self._y * other._y\n",
    "\n",
    "    def perp_dot(self, other: Point) -> float:\n",
    "        return self._x * other._y - self._y * other._x\n",
    "\n",
    "    ## Properties\n",
    "\n",
    "    @property\n",
    "    def x(self) -> float:\n",
    "        return self._x\n",
    "\n",
    "    @property\n",
    "    def y(self) -> float:\n",
    "        return self._y\n",
    "\n",
    "    ## Magic methods\n",
    "\n",
    "    def __eq__(self, other: Any) -> bool:\n",
    "        if not isinstance(other, Point):\n",
    "            return NotImplemented\n",
    "\n",
    "        return self.x == other.x and self.y == other.y\n",
    "\n",
    "    def __add__(self, other: Any) -> Point:\n",
    "        if not isinstance(other, Point):\n",
    "            return NotImplemented\n",
    "\n",
    "        return Point(self._x + other._x, self._y + other._y)\n",
    "\n",
    "    def __sub__(self, other: Any) -> Point:\n",
    "        if not isinstance(other, Point):\n",
    "            return NotImplemented\n",
    "\n",
    "        return Point(self._x - other._x, self._y - other._y)\n",
    "\n",
    "    def __rmul__(self, other: Any) -> Point:\n",
    "        try:\n",
    "            x = float(other * self._x)\n",
    "            y = float(other * self._y)\n",
    "        except Exception:\n",
    "            return NotImplemented\n",
    "\n",
    "        return Point(x, y)"
   ]
  },
  {
   "attachments": {},
   "cell_type": "markdown",
   "metadata": {},
   "source": [
    "### 3.3. Intersection Computation for Two Line Segments"
   ]
  },
  {
   "attachments": {},
   "cell_type": "markdown",
   "metadata": {},
   "source": [
    "Given two 2D line segments $S_1$ and $S_2$, the goal is to compute their intersection $S_1 \\cap S_2$.\n",
    "We write $u_i \\in \\mathbb{R}^2$ for the upper endpoint and $l_i \\in \\mathbb{R}^2$ for the lower endpoint of $S_i$, where $u_i \\neq l_i$ and $i \\in \\{1,2\\}$.\n",
    "(The distinction between upper and lower endpoints doesn't actually matter here, but it'll be useful in subsequent notebooks.)\n",
    "Just like for the orientation test, there's a fairly straightforward algorithm making use of perp dot products (see the previous subsection for a short introduction to them).\n",
    "The algorithm again employs a choosable absolute epsilon value for checking perp dot products and related (see the subsection on robustness).\n",
    "\n",
    "First of all, we check whether $(u_1 - l_1)^\\perp \\cdot (u_2 - l_2) \\neq 0$ holds.\n",
    "If so, the line segments $S_1$ and $S_2$ aren't parallel, meaning that the corresponding lines intersect in exactly one point.\n",
    "That point is parametrised by the equation $l_1 + a \\cdot (u_1 - l_1) = l_2 + b \\cdot (u_2 - l_2)$ for some scalars $a, b \\in \\mathbb{R}$.\n",
    "We can solve the equation for $a$ and $b$ with the help of perp dot products (see \\[5, pp. 141–142\\]).\n",
    "Then the intersection point of the corresponding lines is contained in $S_1 \\cap S_2$ if both $a \\in [0, 1]$ and $b \\in [0, 1]$ apply, which is illustrated by case A1 in the following image (again created using [Ipe](https://ipe.otfried.org/)).\n",
    "Otherwise, the given line segments don't intersect, even though the corresponding lines do (see case A2)."
   ]
  },
  {
   "attachments": {},
   "cell_type": "markdown",
   "metadata": {},
   "source": [
    "<img style='float: left;' src='./images/00-image02.png'>"
   ]
  },
  {
   "attachments": {},
   "cell_type": "markdown",
   "metadata": {},
   "source": [
    "If $(u_1 - l_1)^\\perp \\cdot (u_2 - l_2) = 0$ holds instead, the line segments $S_1$ and $S_2$ are parallel.\n",
    "Hence, they can't intersect (see case B) unless they lie on the same corresponding line.\n",
    "The latter is equivalent to $(l_2 - l_1)^\\perp \\cdot (u_2 - l_2) = 0$ and allows us to parametrise the locations of one segment's endpoints on the line using the endpoints of the other segment.\n",
    "This can be done with the help of dot products, similar to the previous subsection, and yields two scalars $a_{\\text{lower}}, a_{\\text{upper}} \\in \\mathbb{R}$.\n",
    "Finally, we clip $a_{\\text{lower}}$ to the interval $[0, \\infty)$ and $a_{\\text{upper}}$ to the interval $(-\\infty, 1]$.\n",
    "Those clipped values allow us to distinguish the following cases for the intersection of parallel line segments $S_1$ and $S_2$:\n",
    "\n",
    "* The segments share an endpoint (see case C1, where $l_1 = u_2$).\n",
    "  Note that this can also happen in case A1, but doesn't need to be treated separately there.\n",
    "  \n",
    "* The segments overlap in a line segment (see case C2).\n",
    "  Note that one of the line segments could also be completely contained in the other one.\n",
    "\n",
    "* The segments don't intersect at all despite sharing a corresponding line (see case C3)."
   ]
  },
  {
   "cell_type": "code",
   "execution_count": 6,
   "metadata": {},
   "outputs": [],
   "source": [
    "class LineSegment:\n",
    "    def __init__(self, p: Point, q: Point):\n",
    "        if p == q:\n",
    "            raise ValueError(\"A line segment needs two different endpoints.\")\n",
    "        elif p.y > q.y or (p.y == q.y and p.x < q.x):\n",
    "            self._upper = p\n",
    "            self._lower = q\n",
    "        else:\n",
    "            self._upper = q\n",
    "            self._lower = p\n",
    "\n",
    "    ## Operation(s)\n",
    "\n",
    "    def intersection(self, other: LineSegment, epsilon: float = EPSILON) -> Union[Point, LineSegment, None]:\n",
    "        self_direction = self._upper - self._lower\n",
    "        other_direction = other._upper - other._lower\n",
    "        lower_offset = other._lower - self._lower\n",
    "        signed_area_sd_od = self_direction.perp_dot(other_direction)\n",
    "        signed_area_lo_od = lower_offset.perp_dot(other_direction)\n",
    "        signed_area_lo_sd = lower_offset.perp_dot(self_direction)\n",
    "\n",
    "        if abs(signed_area_sd_od) > epsilon:\n",
    "            a = signed_area_lo_od / signed_area_sd_od\n",
    "            b = signed_area_lo_sd / signed_area_sd_od\n",
    "            if -epsilon <= a <= 1.0 + epsilon and -epsilon <= b <= 1.0 + epsilon:\n",
    "                return self._lower + a * self_direction\n",
    "            else:\n",
    "                return None\n",
    "\n",
    "        # Check both signed areas to ensure consistency and increase robustness.\n",
    "        if abs(signed_area_lo_od) <= epsilon or abs(signed_area_lo_sd) <= epsilon:\n",
    "            self_direction_dot = self_direction.dot(self_direction)\n",
    "            upper_offset = other._upper - self._lower\n",
    "            a_lower = lower_offset.dot(self_direction) / self_direction_dot\n",
    "            a_upper = upper_offset.dot(self_direction) / self_direction_dot\n",
    "\n",
    "            # The inner min/max operations aren't needed in theory, because `a_lower < a_upper`\n",
    "            # should always hold. However, inaccuracies might somehow invalidate that.\n",
    "            a_lower_clipped = max(0.0, min(a_lower, a_upper))\n",
    "            a_upper_clipped = min(1.0, max(a_lower, a_upper))\n",
    "            upper = self._lower + a_upper_clipped * self_direction\n",
    "            if a_lower_clipped == a_upper_clipped:\n",
    "                return upper\n",
    "            elif a_lower_clipped < a_upper_clipped:\n",
    "                lower = self._lower + a_lower_clipped * self_direction\n",
    "                return LineSegment(upper, lower)\n",
    "            else:\n",
    "                return None\n",
    "\n",
    "        return None\n",
    "\n",
    "    ## Properties\n",
    "    \n",
    "    @property\n",
    "    def upper(self) -> Point:\n",
    "        return self._upper\n",
    "\n",
    "    @property\n",
    "    def lower(self) -> Point:\n",
    "        return self._lower"
   ]
  },
  {
   "attachments": {},
   "cell_type": "markdown",
   "metadata": {},
   "source": [
    "## 4. Data Structures"
   ]
  },
  {
   "attachments": {},
   "cell_type": "markdown",
   "metadata": {},
   "source": [
    "To wrap the basics up, let's take a look at the data structures provided by the <tt>data_structures</tt> module."
   ]
  },
  {
   "attachments": {},
   "cell_type": "markdown",
   "metadata": {},
   "source": [
    "### 4.1 Balanced Binary Tree"
   ]
  },
  {
   "attachments": {},
   "cell_type": "markdown",
   "metadata": {},
   "source": [
    "The notion of a [balanced binary tree](https://en.wikipedia.org/wiki/Self-balancing_binary_search_tree) should be familiar to the reader.\n",
    "In such a tree, the searchable position of a node is determined by the *key* it stores.\n",
    "This requires a strict total order on the set of all possible keys.\n",
    "To allow for user-defined orders, our implementation makes use of a generic [abstract base class](https://docs.python.org/3/library/abc.html) called <tt>Comparator</tt>.\n",
    "Inheriting classes need a <tt>compare(item, key)</tt> method comparing an *item* (e.g. a new key to be inserted) to an existing node key in the tree.\n",
    "The return value of type <tt>ComparisonResult</tt> (or <tt>CR</tt> for short) specifies whether the item comes before, matches with or comes after the key.\n",
    "Note that items don't always have to be valid keys depending on the use case."
   ]
  },
  {
   "cell_type": "code",
   "execution_count": 7,
   "metadata": {},
   "outputs": [],
   "source": [
    "class ComparisonResult(Enum):\n",
    "    BEFORE = -1\n",
    "    MATCH = 0\n",
    "    AFTER = 1\n",
    "\n",
    "CR = ComparisonResult\n",
    "K = TypeVar(\"K\")\n",
    "V = TypeVar(\"V\")\n",
    "\n",
    "class Comparator(ABC, Generic[K]):\n",
    "    @abstractmethod\n",
    "    def compare(self, item: Any, key: K) -> ComparisonResult:\n",
    "        pass"
   ]
  },
  {
   "attachments": {},
   "cell_type": "markdown",
   "metadata": {},
   "source": [
    "The balanced binary tree from the <tt>data_structures</tt> module is an [AA tree](https://en.wikipedia.org/wiki/AA_tree), originally proposed in \\[6\\].\n",
    "It has two balancing operations called *skew* and *split*, which are used after node insertion and deletion to restructure nodes in the tree according to their *levels* (see \\[6, p. 62\\]).\n",
    "The code for the skew, split, insert and delete operations is so compact that it fits on a single page (see \\[6, p. 66\\]).\n",
    "Our implementation in the <tt>data_structures</tt> module supports even more operations, but here we'll only reimplement the insert operation and all that's needed for it, including skew and split.\n",
    "Note that our code for those balancing operations differs from the one in \\[6\\] in order to avoid allocating a new <tt>Node</tt> object, but it yields the same result.\n",
    "We also store a *value* in each node, making it possible to use the binary tree as a dictionary by looking up values of inserted keys."
   ]
  },
  {
   "cell_type": "code",
   "execution_count": 8,
   "metadata": {},
   "outputs": [],
   "source": [
    "class Node(Generic[K, V]):\n",
    "    def __init__(self):\n",
    "        self._key: Optional[K] = None\n",
    "        self._value: Optional[V] = None\n",
    "        self._level: int = 0\n",
    "        self._left: Optional[Node[K, V]] = None\n",
    "        self._right: Optional[Node[K, V]] = None\n",
    "\n",
    "    ## Operations\n",
    "\n",
    "    def insert(self, key: K, value: V, comparator: Comparator[K]) -> bool:\n",
    "        if self.is_empty():\n",
    "            self._make_leaf(key, value)\n",
    "            return False\n",
    "\n",
    "        cr = comparator.compare(key, self._key)\n",
    "        if cr is CR.BEFORE:\n",
    "            was_key_present = self._left.insert(key, value, comparator)\n",
    "        elif cr is CR.AFTER:\n",
    "            was_key_present = self._right.insert(key, value, comparator)\n",
    "        else:\n",
    "            was_key_present = True\n",
    "\n",
    "        if not was_key_present:\n",
    "            self._skew()\n",
    "            self._split()\n",
    "\n",
    "        return was_key_present\n",
    "\n",
    "    def is_empty(self) -> bool:\n",
    "        return self._level == 0\n",
    "\n",
    "    ## Helper operations\n",
    "\n",
    "    def _make_leaf(self, key: K, value: V):\n",
    "        self._key = key\n",
    "        self._value = value\n",
    "        self._level = 1\n",
    "        self._left = Node()\n",
    "        self._right = Node()\n",
    "\n",
    "    def _skew(self):\n",
    "        if not self.is_empty() and self._left._level == self._level:\n",
    "            self._key, self._left._key = self._left._key, self._key\n",
    "            self._value, self._left._value = self._left._value, self._value\n",
    "\n",
    "            self._left, self._right = self._right, self._left\n",
    "            self._left, self._right._left = self._right._left, self._left\n",
    "            self._right._left, self._right._right = self._right._right, self._right._left\n",
    "\n",
    "    def _split(self):\n",
    "        if not self.is_empty() and not self._right.is_empty() and self._right._right._level == self._level:\n",
    "            self._key, self._right._key = self._right._key, self._key\n",
    "            self._value, self._right._value = self._right._value, self._value\n",
    "\n",
    "            self._left, self._right = self._right, self._left\n",
    "            self._right, self._left._right = self._left._right, self._right\n",
    "            self._left._left, self._left._right = self._left._right, self._left._left\n",
    "\n",
    "            self._level += 1"
   ]
  },
  {
   "attachments": {},
   "cell_type": "markdown",
   "metadata": {},
   "source": [
    "The <tt>data_structures</tt> module exports the wrapper classes <tt>BinaryTree</tt> (not supporting values) and <tt>BinaryTreeDict</tt> (supporting values) instead of the <tt>Node</tt> class itself."
   ]
  },
  {
   "cell_type": "code",
   "execution_count": 9,
   "metadata": {},
   "outputs": [],
   "source": [
    "class BinaryTree(Generic[K]):\n",
    "    def __init__(self, comparator: Comparator[K]):\n",
    "        self._root: Node[K, None] = Node()\n",
    "        self._comparator = comparator\n",
    "    \n",
    "    def insert(self, key: K) -> bool:\n",
    "        return self._root.insert(key, None, self._comparator)\n",
    "\n",
    "    def is_empty(self) -> bool:\n",
    "        return self._root.is_empty()\n",
    "\n",
    "class BinaryTreeDict(Generic[K, V]):\n",
    "    def __init__(self, comparator: Comparator[K]):\n",
    "        self._root: Node[K, V] = Node()\n",
    "        self._comparator = comparator\n",
    "\n",
    "    def insert(self, key: K, value: V) -> bool:\n",
    "        return self._root.insert(key, value, self._comparator)\n",
    "\n",
    "    def is_empty(self) -> bool:\n",
    "        return self._root.is_empty()"
   ]
  },
  {
   "attachments": {},
   "cell_type": "markdown",
   "metadata": {},
   "source": [
    "### 4.2. Doubly-Connected Edge List for a Simple Polygon"
   ]
  },
  {
   "attachments": {},
   "cell_type": "markdown",
   "metadata": {},
   "source": [
    "Another data structure that's very useful for geometric algorithms is the *doubly-connected edge list*, or *DCEL* for short.\n",
    "As its name implies, the DCEL is centered around edges.\n",
    "Each edge connects two vertices and is split into two *half-edges* pointing into opposite directions, such that every half-edge is incident to exactly one face and is oriented with that face to its left.\n",
    "This enables anticlockwise traversals of bounded faces.\n",
    "More information on DCELs is given in the lectures and in \\[1, section 2.2\\].\n",
    "\n",
    "The <tt>data_structures</tt> module currently doesn't contain a general DCEL, but one for modelling a [simple polygon](https://en.wikipedia.org/wiki/Simple_polygon).\n",
    "Objects of class <tt>DoublyConnectedSimplePolygon</tt> allow adding vertices to a polygonal path, except when doing so would lead to irreversible intersections in the path.\n",
    "They also keep track of which half-edges are going in anticlockwise direction, and manage the provisional closing edge between the two vertices added first and last.\n",
    "That's why the operations of <tt>DoublyConnectedSimplePolygon</tt> are already pretty intricate.\n",
    "We won't reimplement them here.\n",
    "\n",
    "Instead we'll showcase the underlying <tt>Vertex</tt> and <tt>HalfEdge</tt> classes, which are also exported by the module.\n",
    "Each vertex stores a point and the half-edge that's going out from it in anticlockwise direction.\n",
    "Meanwhile, each half-edge stores its origin vertex and its twin half-edge as well as the previous and next half-edge in the closed polygonal path (or the reverse of that path, depending on the half-edge's direction).\n",
    "The classes have additional properties for quick access, such as the destination vertex of a half-edge."
   ]
  },
  {
   "cell_type": "code",
   "execution_count": 10,
   "metadata": {},
   "outputs": [],
   "source": [
    "class Vertex:\n",
    "    def __init__(self, point: Point):\n",
    "        self._point = point\n",
    "        self._edge: HalfEdge = HalfEdge(self)\n",
    "\n",
    "    ## Properties\n",
    "\n",
    "    @property\n",
    "    def point(self) -> Point:\n",
    "        return self._point\n",
    "\n",
    "    @property\n",
    "    def x(self) -> float:\n",
    "        return self._point.x\n",
    "\n",
    "    @property\n",
    "    def y(self) -> float:\n",
    "        return self._point.y\n",
    "\n",
    "    @property\n",
    "    def edge(self) -> HalfEdge:\n",
    "        return self._edge\n",
    "\n",
    "class HalfEdge:\n",
    "    def __init__(self, origin: Vertex):\n",
    "        self._origin = origin\n",
    "        self._twin: HalfEdge = self\n",
    "        self._prev: HalfEdge = self\n",
    "        self._next: HalfEdge = self\n",
    "\n",
    "    ## Properties\n",
    "\n",
    "    @property\n",
    "    def origin(self) -> Vertex:\n",
    "        return self._origin\n",
    "\n",
    "    @property\n",
    "    def destination(self) -> Vertex:\n",
    "        return self._twin._origin\n",
    "\n",
    "    @property\n",
    "    def upper_and_lower(self) -> tuple[Vertex, Vertex]:\n",
    "        p, q = self._origin, self.destination\n",
    "        if p.y > q.y or (p.y == q.y and p.x < q.x):\n",
    "            return p, q\n",
    "        else:\n",
    "            return q, p\n",
    "\n",
    "    @property\n",
    "    def twin(self) -> HalfEdge:\n",
    "        return self._twin\n",
    "\n",
    "    @property\n",
    "    def prev(self) -> HalfEdge:\n",
    "        return self._prev\n",
    "\n",
    "    @property\n",
    "    def next(self) -> HalfEdge:\n",
    "        return self._next"
   ]
  },
  {
   "attachments": {},
   "cell_type": "markdown",
   "metadata": {},
   "source": [
    "## 5. References"
   ]
  },
  {
   "attachments": {},
   "cell_type": "markdown",
   "metadata": {},
   "source": [
    "\\[1\\] Mark de Berg, Otfried Cheong, Marc van Kreveld, and Mark Overmars. *Computational Geometry: Algorithms and Applications*, 3rd edition. 2008.\n",
    "\n",
    "\\[2\\] Bruce Dawson. *[Comparing Floating Point Numbers, 2012 Edition](https://randomascii.wordpress.com/2012/02/25/comparing-floating-point-numbers-2012-edition/)*. 2012.\n",
    "\n",
    "<!-- \\[2\\] David Goldberg. *[What Every Computer Scientist Should Know About Floating-Point Arithmetic](https://doi.org/10.1145/103162.103163)*. ACM Computing Surveys 23(1), pp. 5–48. 1991. -->\n",
    "<!-- \\[3\\] Jean-Michel Muller, Nicolas Brunie, Florent de Dinechin, Claude-Pierre Jeannerod, Mioara Joldes, Vincent Lefèvre, Guillaume Melquiond, Nathalie Revol, and Serge Torres. *Handbook of Floating-Point Arithmetic*, 2nd edition. 2018. -->\n",
    "\n",
    "\\[3\\] Jonathan Richard Shewchuck. *[Adaptive Precision Floating-Point Arithmetic and Fast Robust Geometric Predicates](https://www.cs.cmu.edu/~quake/robust.html)*. Discrete & Computational Geometry 18(3), pp. 305–368. 1997.\n",
    "\n",
    "\\[4\\] David M. Mount. *[CMSC 754: Computational Geometry (Spring 2020)](https://www.cs.umd.edu/class/spring2020/cmsc754/Lects/cmsc754-spring2020-lects.pdf)*. 2020.\n",
    "\n",
    "\\[5\\] Francis S. Hill Jr. *The Pleasures of \"Perp Dot\" Products*. Graphics Gems IV, pp. 138–148. 1994.\n",
    "\n",
    "\\[6\\] Arne Andersson. *Balanced Search Trees Made Simple*. WADS 1993: Algorithms and Data Structures, pp. 60–71. 1993."
   ]
  }
 ],
 "metadata": {
  "kernelspec": {
   "display_name": "geoalg-nb",
   "language": "python",
   "name": "python3"
  },
  "language_info": {
   "codemirror_mode": {
    "name": "ipython",
    "version": 3
   },
   "file_extension": ".py",
   "mimetype": "text/x-python",
   "name": "python",
   "nbconvert_exporter": "python",
   "pygments_lexer": "ipython3",
   "version": "3.11.2"
  }
 },
 "nbformat": 4,
 "nbformat_minor": 2
}
