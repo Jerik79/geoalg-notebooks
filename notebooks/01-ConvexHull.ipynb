{
 "cells": [
  {
   "cell_type": "markdown",
   "metadata": {},
   "source": [
    "# 01: Convex Hull"
   ]
  },
  {
   "cell_type": "markdown",
   "metadata": {},
   "source": [
    "*Authors: Jan Erik Swiadek, Prof. Dr. Kevin Buchin*"
   ]
  },
  {
   "attachments": {},
   "cell_type": "markdown",
   "metadata": {},
   "source": [
    "This notebook serves as supplementary learning material for the course **Geometric Algorithms**.\n",
    "It showcases and explains implementations of algorithms presented in the corresponding lecture, and elaborates on some practical considerations concerning their use.\n",
    "Furthermore, it offers interactive visualisations and animations."
   ]
  },
  {
   "cell_type": "markdown",
   "metadata": {},
   "source": [
    "## Table of Contents"
   ]
  },
  {
   "cell_type": "markdown",
   "metadata": {},
   "source": [
    "1. Introduction  \n",
    "2. Setup  \n",
    "3. Algorithms  \n",
    "    3.1. Naive Hull  \n",
    "    3.2. Graham Scan  \n",
    "    3.3. Gift Wrapping  \n",
    "    3.4. Chan's Hull  \n",
    "4. References  "
   ]
  },
  {
   "cell_type": "markdown",
   "metadata": {},
   "source": [
    "## 1. Introduction"
   ]
  },
  {
   "attachments": {},
   "cell_type": "markdown",
   "metadata": {},
   "source": [
    "As a recap, here are the most important definitions from the lecture:\n",
    "\n",
    "* A set of points $S$ is **convex** if for any two points in the set, their connecting line segment is part of $S$.\n",
    "\n",
    "* The **convex hull** of a set of points $P$ is the smallest convex set that contains $P$.\n",
    "  It's a convex polytope, whose vertices are points from $P$.\n",
    "\n",
    "See the following image for an example.\n",
    "The points from a set $P$ are coloured <font color='orange'>orange</font>, while their convex hull and its vertices are marked in <font color='blue'>blue</font>."
   ]
  },
  {
   "cell_type": "markdown",
   "metadata": {},
   "source": [
    "<img style='float: left;' src='./images/01-image00.png'>"
   ]
  },
  {
   "cell_type": "markdown",
   "metadata": {},
   "source": [
    "## 2. Setup"
   ]
  },
  {
   "attachments": {},
   "cell_type": "markdown",
   "metadata": {},
   "source": [
    "First let's do some setup. This is not very interesting, so you can skip to Section 3 if you want.\n",
    "\n",
    "We now import everything we'll need throughout this notebook from external sources, including our module for geometric primitives and operations as well as our module for visualisation purposes.\n",
    "These modules are explained in [notebook no. 00](./00-Basics.ipynb)."
   ]
  },
  {
   "cell_type": "code",
   "execution_count": 1,
   "metadata": {},
   "outputs": [],
   "source": [
    "# Python standard library imports\n",
    "import math\n",
    "from typing import Optional\n",
    "\n",
    "# Geometry and visualisation module imports\n",
    "from modules.geometry import Point, PointReference, PointSequence, Orientation as ORT\n",
    "from modules.visualisation import VisualisationTool, PointSetInstance, PolygonMode, ChansHullMode"
   ]
  },
  {
   "cell_type": "markdown",
   "metadata": {},
   "source": [
    "Additionally, we create an object for our visualisation tool and register a few example instances."
   ]
  },
  {
   "cell_type": "code",
   "execution_count": 2,
   "metadata": {},
   "outputs": [],
   "source": [
    "visualisation_tool = VisualisationTool(400, 400, PointSetInstance())\n",
    "canvas_size = min(visualisation_tool.width, visualisation_tool.height)\n",
    "\n",
    "c = 0.5 * canvas_size\n",
    "r = 0.75 * c\n",
    "\n",
    "def circle_point(angle: float, scale: float) -> Point:\n",
    "    return Point(c + scale * r * math.cos(angle), c + scale * r * math.sin(angle))\n",
    "\n",
    "circles_instance = set(circle_point(i * math.pi / 6, scale) for i in range(0, 12) for scale in (1 / 3, 2 / 3, 1))\n",
    "visualisation_tool.register_example_instance(\"Circles\", circles_instance)\n",
    "\n",
    "d = 0.1 * r\n",
    "\n",
    "\"\"\" collinear_points_instance = set((\n",
    "    *(Point(c + i * d, c + r - i * d) for i in range(0, 10)),\n",
    "    *(Point(c - i * d, c - r + i * d) for i in range(0, 10)),\n",
    "    *(Point(c + r - i * d, c - i * d) for i in range(0, 10)),\n",
    "    *(Point(c - r + i * d, c + i * d) for i in range(0, 10)),\n",
    "    *(Point(c - r + i * d, c) for i in range(1, 20)),\n",
    "    *(Point(c, c - r + i * d) for i in range(1, 20))\n",
    ")) \"\"\"\n",
    "collinear_points_instance = set((\n",
    "    *(Point(c, c - r + i * d) for i in range(1, 20)),\n",
    "))\n",
    "visualisation_tool.register_example_instance(\"Collinear Points\", collinear_points_instance)\n",
    "\n",
    "s = 0.1 * c\n",
    "t = 1.9 * c\n",
    "\n",
    "few_vertices_instance = set((\n",
    "    Point(s, s), Point(s, t), Point(t, s), Point(t, t),\n",
    "    *(Point(s + i * (t - s) / 32, s + j * (t - s) / 32) for i in range(1, 32) for j in range(1, 32))\n",
    "))\n",
    "visualisation_tool.register_example_instance(\"Few Vertices\", few_vertices_instance)"
   ]
  },
  {
   "cell_type": "markdown",
   "metadata": {},
   "source": [
    "## 3. Algorithms"
   ]
  },
  {
   "cell_type": "markdown",
   "metadata": {},
   "source": [
    "Because computing convex hulls is a fundamental problem in computational geometry, many algorithms have been developed for solving it.\n",
    "The lecture presented four of them with different strengths and weaknesses: Naive Hull, Graham Scan, Gift Wrapping, and Chan's Hull.\n",
    "Let's take a closer look at their implementations."
   ]
  },
  {
   "cell_type": "markdown",
   "metadata": {},
   "source": [
    "### 3.1. Naive Hull"
   ]
  },
  {
   "attachments": {},
   "cell_type": "markdown",
   "metadata": {},
   "source": [
    "The first algorithm from the lecture makes use of the fact that for any edge of the convex hull, all other points lie to one side of the edge.\n",
    "Using the convention from the lecture slides, they are supposed to lie to the left of the edge.\n",
    "However, if we consider degenerate cases this criterion is not sufficient.\n",
    "\n",
    "Specifically, there could be three (or more) *collinear points* in the input set, i.e. points that all lie on a single line.\n",
    "In that case, none of those points is to the left or right of an edge between two other of those points.\n",
    "For a well-defined solution we want to include the outmost two of those points in the convex hull, while the middle point(s) should be left out.\n",
    "To achieve that, we need to add a second criterion to the validity test: All other points are supposed to lie either to the left of the edge or directly on the edge between the two points (see \\[1, pp. 4–5\\]).\n",
    "If a point is found that violates both criteria, the edge is marked as invalid and is not included in the convex hull.\n",
    "\n",
    "We assume that no two points in the input are identical, which is guaranteed by taking the input as a [set](https://docs.python.org/3/library/stdtypes.html#set-types-set-frozenset) object.\n",
    "Though we immediately convert it into a [list](https://docs.python.org/3/library/stdtypes.html#lists) object because that allows for faster iteration speed and well-defined iteration order.\n",
    "Also note that the used orientation test is further explained in [notebook no. 00](./00-Basics.ipynb)."
   ]
  },
  {
   "cell_type": "code",
   "execution_count": 3,
   "metadata": {},
   "outputs": [],
   "source": [
    "def naive_hull(point_set: set[Point]) -> PointSequence:\n",
    "    points = list(point_set)\n",
    "    if len(points) <= 2:\n",
    "        return PointSequence(points)\n",
    "\n",
    "    edges: dict[Point, Point] = {}\n",
    "    for p in points:\n",
    "        for q in filter(lambda q: q != p, points):\n",
    "            valid = True\n",
    "            for r in filter(lambda r: r != p and r != q, points):\n",
    "                ort = r.orientation(p, q)\n",
    "                if ort is not ORT.LEFT and ort is not ORT.BETWEEN:\n",
    "                    valid = False\n",
    "                    break\n",
    "            if valid:\n",
    "                edges[p] = q\n",
    "\n",
    "    hull = PointSequence()\n",
    "    if edges:\n",
    "        # Construct a list of ordered vertices from the collected edges.\n",
    "        first_point, next_point = edges.popitem()\n",
    "        hull.append(first_point)\n",
    "        while next_point is not None and next_point != first_point:\n",
    "            hull.append(next_point)\n",
    "            next_point = edges.pop(next_point, None)\n",
    "\n",
    "    return hull"
   ]
  },
  {
   "attachments": {},
   "cell_type": "markdown",
   "metadata": {},
   "source": [
    "The naive nested loop causes the algorithm's worst-case running time complexity to be in $O(n^3)$, where $n$ denotes the number of input points.\n",
    "\n",
    "Even though Naive Hull handles degenerate cases as explained above, its implementation might still return wrong answers for specific inputs.\n",
    "That's because a few inaccurate orientation tests can already lead to an invalid output (see \\[1, p. 5\\]).\n",
    "Thus, Naive Hull isn't particularly robust.\n",
    "More on robustness can be found in [notebook no. 00](./00-Basics.ipynb).\n",
    "\n",
    "Let's register the algorithm for visualisation using the polygon drawing mode."
   ]
  },
  {
   "cell_type": "code",
   "execution_count": 4,
   "metadata": {},
   "outputs": [],
   "source": [
    "polygon_mode = PolygonMode(mark_closing_edge = False, draw_interior = True)\n",
    "visualisation_tool.register_algorithm(\"Naive Hull\", naive_hull, polygon_mode)"
   ]
  },
  {
   "attachments": {},
   "cell_type": "markdown",
   "metadata": {},
   "source": [
    "Now you can interactively test the algorithm and watch animations of it!\n",
    "You need to run the notebook cells up until the following one for this purpose.\n",
    "If you haven't used our interactive visualisation tool before, see [notebook no. 00](./00-Basics.ipynb) for an explanation.\n",
    "Don't forget to execute Naive Hull on the registered example instances."
   ]
  },
  {
   "cell_type": "code",
   "execution_count": 5,
   "metadata": {},
   "outputs": [
    {
     "data": {
      "text/html": [
       "<img style='float: left;' src='./images/01-image01.png'>"
      ]
     },
     "metadata": {},
     "output_type": "display_data"
    }
   ],
   "source": [
    "visualisation_tool.display()"
   ]
  },
  {
   "attachments": {},
   "cell_type": "markdown",
   "metadata": {},
   "source": [
    "__*Takeaways:*__\n",
    "\n",
    "* Algorithms with nested loops are often easy to conceive but inefficient.\n",
    "\n",
    "* Correct geometric algorithms have to consider degenerate cases.\n",
    "\n",
    "* Still, even a correct and simple algorithm can have robustness issues in practice."
   ]
  },
  {
   "cell_type": "markdown",
   "metadata": {},
   "source": [
    "### 3.2. Graham Scan"
   ]
  },
  {
   "attachments": {},
   "cell_type": "markdown",
   "metadata": {},
   "source": [
    "The second algorithm from the lecture is called Graham Scan.\n",
    "It sorts the input points by ascending $x$-coordinate and scans them in this order to create the upper boundary of the convex hull.\n",
    "After that, it scans the points in reverse order, i.e. sorted by descending $x$-coordinate, to create the lower boundary.\n",
    "Each scan incrementally adds the sorted input points one by one, while eliminating points that don't contribute to right turns.\n",
    "Therefore Graham Scan is an **incremental algorithm** (see \\[1, p. 6\\]).\n",
    "Note that three points not making a right turn is equivalent to the middle point not being on the left side of the edge between the other two points.\n",
    "\n",
    "The pseudocode from the lecture slides handles collinear points correctly, since collinear points don't make a turn at all and thus the middle points are eliminated.\n",
    "At the same time, it doesn't consider the order of points with the same $x$-coordinate.\n",
    "As it turns out, such points need to be sorted by their $y$-coordinate (see \\[1, p. 7\\])."
   ]
  },
  {
   "cell_type": "code",
   "execution_count": 6,
   "metadata": {},
   "outputs": [],
   "source": [
    "def graham_scan(point_set: set[Point]) -> PointSequence:\n",
    "    points = list(point_set)\n",
    "    if len(points) <= 2:\n",
    "        return PointSequence(points)\n",
    "\n",
    "    points.sort(key = lambda p: (p.x, p.y))\n",
    "    upper_hull = single_graham_scan(points)\n",
    "\n",
    "    points.reverse()\n",
    "    lower_hull = single_graham_scan(points)\n",
    "\n",
    "    return upper_hull + lower_hull[1:-1]\n",
    "\n",
    "def single_graham_scan(points: list[Point]) -> PointSequence:\n",
    "    hull = PointSequence(points[:2])\n",
    "    for p in points[2:]:\n",
    "        hull.append(p)\n",
    "        while len(hull) > 2 and hull[-2].orientation(hull[-3], hull[-1]) is not ORT.LEFT:\n",
    "            del hull[-2]\n",
    "    \n",
    "    return hull"
   ]
  },
  {
   "cell_type": "markdown",
   "metadata": {},
   "source": [
    "The asymptotic running time of Graham Scan is in $O(n \\log(n))$, which is worst-case optimal (see \\[2, pp. 14–15\\]).\n",
    "\n",
    "It's also a more robust algorithm than Naive Hull, though rounding errors can sometimes lead to slightly wrong results (see \\[1, p. 7\\])."
   ]
  },
  {
   "cell_type": "code",
   "execution_count": 7,
   "metadata": {},
   "outputs": [],
   "source": [
    "visualisation_tool.register_algorithm(\"Graham Scan\", graham_scan, polygon_mode)"
   ]
  },
  {
   "attachments": {},
   "cell_type": "markdown",
   "metadata": {},
   "source": [
    "Animations of Graham Scan are particularly pleasing to watch, but can take some time on larger instances because every point is animated twice.\n",
    "So it's best to set the animation speed to a high level. Try it out!"
   ]
  },
  {
   "cell_type": "code",
   "execution_count": 8,
   "metadata": {},
   "outputs": [
    {
     "data": {
      "text/html": [
       "<img style='float: left;' src='./images/01-image02.png'>"
      ]
     },
     "metadata": {},
     "output_type": "display_data"
    }
   ],
   "source": [
    "visualisation_tool.display()"
   ]
  },
  {
   "cell_type": "markdown",
   "metadata": {},
   "source": [
    "__*Takeaways:*__\n",
    "\n",
    "* Designing algorithms incrementally is a useful technique.\n",
    "\n",
    "* Sometimes, an efficient and fairly robust algorithm is nevertheless very simple.\n",
    "\n",
    "* In fact, our implementation of Graham Scan consists of less code than that of Naive Hull."
   ]
  },
  {
   "cell_type": "markdown",
   "metadata": {},
   "source": [
    "### 3.3. Gift Wrapping"
   ]
  },
  {
   "attachments": {},
   "cell_type": "markdown",
   "metadata": {},
   "source": [
    "The next algorithm is Gift Wrapping, also called *Jarvis's March* (see \\[2, p. 15\\]).\n",
    "It's an **output-sensitive algorithm**, meaning its running time depends on the number of convex hull vertices.\n",
    "Starting from an imaginary point at infinity and the rightmost (and in case of a tie, topmost) input point, which is guaranteed to be a convex hull vertex, each Gift Wrapping step searches for the point that maximises the righthand angle between the previous convex hull edge and the potential new edge.\n",
    "\n",
    "Implementing this algorithm doesn't require to compute actual angles between edges.\n",
    "Instead, we can make use of orientation tests again:\n",
    "Consider two points $p$ and $q$ that we want to compare with respect to their corresponding angles.\n",
    "Then $p$ induces a bigger angle than $q$ if and only if $p$ is located to the left side of the directed edge from the current convex hull vertex to $q$.\n",
    "If those three points are collinear, then $p$ and $q$ induce the same angle and we have to decide which point to prefer.\n",
    "In that case, we regard $p$ as better than $q$ if $p$ is located behind $q$ from the perspective of the current convex hull vertex.\n",
    "This results in the same well-defined solution as before."
   ]
  },
  {
   "cell_type": "code",
   "execution_count": 9,
   "metadata": {},
   "outputs": [],
   "source": [
    "def gift_wrapping(point_set: set[Point]) -> PointSequence:\n",
    "    points = list(point_set)\n",
    "    if len(points) <= 2:\n",
    "        return PointSequence(points)\n",
    "\n",
    "    first_point = max(points, key = lambda p: (p.x, p.y))\n",
    "    wrapper = Wrapper()\n",
    "\n",
    "    hull = PointSequence([first_point])\n",
    "    while True:\n",
    "        next_point = wrapper.get_next_point(hull, points)\n",
    "        if next_point == first_point or len(hull) == len(points):    # The second condition is a termination safeguard.\n",
    "            break\n",
    "        hull.append(next_point)\n",
    "\n",
    "    return hull\n",
    "\n",
    "class Wrapper:\n",
    "    def __init__(self):\n",
    "        self._current_point: Optional[Point] = None\n",
    "\n",
    "    def get_next_point(self, hull: PointSequence, points: list[Point]) -> Point:\n",
    "        self._current_point = hull[-1]\n",
    "        points_iterator = filter(lambda p: p != self._current_point, points)\n",
    "        next_point = next(points_iterator)\n",
    "\n",
    "        for p in points_iterator:\n",
    "            if self._is_better(p, next_point):\n",
    "                hull.animate(next_point)    # Animate next_point before updating it.\n",
    "                next_point = p\n",
    "        \n",
    "        return next_point\n",
    "\n",
    "    def _is_better(self, p: Point, q: Point) -> bool:\n",
    "        ort = p.orientation(self._current_point, q)\n",
    "        return ort is ORT.LEFT or ort is ORT.BEHIND_TARGET"
   ]
  },
  {
   "cell_type": "markdown",
   "metadata": {},
   "source": [
    "Gift Wrapping's running time is in $O(nh)$, where $n$ is the number of input points as usual and $h$ denotes the number of convex hull vertices."
   ]
  },
  {
   "cell_type": "code",
   "execution_count": 10,
   "metadata": {},
   "outputs": [],
   "source": [
    "visualisation_tool.register_algorithm(\"Gift Wrapping\", gift_wrapping, polygon_mode)"
   ]
  },
  {
   "cell_type": "markdown",
   "metadata": {},
   "source": [
    "Have fun with the animations!"
   ]
  },
  {
   "cell_type": "code",
   "execution_count": 11,
   "metadata": {},
   "outputs": [
    {
     "data": {
      "text/html": [
       "<img style='float: left;' src='./images/01-image03.png'>"
      ]
     },
     "metadata": {},
     "output_type": "display_data"
    }
   ],
   "source": [
    "visualisation_tool.display()"
   ]
  },
  {
   "cell_type": "markdown",
   "metadata": {},
   "source": [
    "__*Takeaways:*__\n",
    "\n",
    "* Asymptotic running time complexity can additionally depend on the size of the output instead of just the input.\n",
    "\n",
    "* Output-sensitive algorithms might be beneficial in specific scenarios, though they are hard to judge in the general case."
   ]
  },
  {
   "cell_type": "markdown",
   "metadata": {},
   "source": [
    "### 3.4. Chan's Hull"
   ]
  },
  {
   "attachments": {},
   "cell_type": "markdown",
   "metadata": {},
   "source": [
    "The final convex hull algorithm from the lecture is Chan's Hull, which combines Graham Scan and Gift Wrapping.\n",
    "It first separates the $n$ input points into $n/m$ sets of size at most $m$ and computes the convex hulls of these sets using Graham Scan.\n",
    "A suitable value for the parameter $m$ with $h \\leq m \\leq h^2$ is found by *repeatedly squaring* as shown in the lecture (see also \\[2, p. 19\\]).\n",
    "Let's call the convex hulls resulting from this process *mini hulls*.\n",
    "Next the Gift Wrapping technique is applied, but with the help of the mini hulls we can reduce the number of candidates and thus don't need to search through all $n$ points.\n",
    "That's possible because the mini hulls are convex polygons and their vertices are returned in cyclic order by Graham Scan, enabling us to find the best candidate from a mini hull, i.e. the vertex with the largest induced angle, in $O(\\log(m))$ time through \"a variant of binary search\" (see \\[2, p. 17\\] for a more detailed statement of this claim, though it also omits the proof and how the search exactly works).\n",
    "\n",
    "Standard binary search is only applicable for monotone sequences, whereas we have to search for a vertex that is better than both its neighbours.\n",
    "For so-called **unimodal sequences**, which consist of a monotonely ascending and a monotonely decreasing part, [ternary search](https://en.wikipedia.org/wiki/Ternary_search) can be used.\n",
    "If the first mini hull vertex is the worst one, the sequence of induced angles is indeed unimodal:\n",
    "Starting with the smallest angle, it goes up until the angle of the best vertex is reached, then it goes down until the end.\n",
    "Unfortunately, ternary search isn't sufficient here either because the arbitrary cyclic order of mini hull vertices might result in one monotone part being split in two, i.e. the sequence of induced angles can be comprised of three parts with alternating monotonicity (e.g. up, then down, then up) and is therefore not necessarily unimodal.\n",
    "\n",
    "We won't discuss the implementation of our binary search variant further.\n",
    "The interested reader can study its core logic in the upcoming <tt>ChanWrapper.get_candidates(...)</tt> method.\n",
    "To make things even more complicated, handling the degenerate case of collinear points is quite intricate, since it can cause two neighbouring vertices to induce the same angle in the sequence.\n",
    "Examining such two vertices doesn't tell us the direction in which the sequence is ascending, so the binary search indexes have to be adjusted in that case.\n",
    "If necessary, this is done in the <tt>ChanWrapper._calculate_indexes(...)</tt> method.\n",
    "Note that, to keep the code cleaner, our candidate search implementation might return more than one candidate, but it's limited to at most four candidates, which is an asymptotically constant amount per mini hull."
   ]
  },
  {
   "cell_type": "code",
   "execution_count": 12,
   "metadata": {},
   "outputs": [],
   "source": [
    "def chans_hull(point_set: set[Point]) -> PointSequence:\n",
    "    points = list(point_set)\n",
    "    if len(points) <= 2:\n",
    "        return PointSequence(points)\n",
    "\n",
    "    hull = None\n",
    "    t = 0\n",
    "    while hull is None:\n",
    "        m = min(len(points), 2**(2**t))\n",
    "        hull = parametric_chans_hull(points, m)\n",
    "        t += 1\n",
    "\n",
    "    return hull\n",
    "\n",
    "def parametric_chans_hull(points: list[Point], m: int) -> Optional[PointSequence]:\n",
    "    mini_hulls: list[PointSequence] = []\n",
    "    point_references: list[PointReference] = []\n",
    "    for start in range(0, len(points), m):\n",
    "        end = min(len(points), start + m)\n",
    "        mini_hull = graham_scan(points[start:end])\n",
    "        mini_hulls.append(mini_hull)\n",
    "        for position in range(0, len(mini_hull)):\n",
    "            point_references.append(PointReference(mini_hull, position))\n",
    "\n",
    "    first_point = max(point_references, key = lambda p: (p.x, p.y))\n",
    "    wrapper = ChansWrapper()\n",
    "    \n",
    "    hull = PointSequence([first_point])\n",
    "    for _ in range(0, m):\n",
    "        candidates: list[PointReference] = []\n",
    "        for mini_hull in mini_hulls:\n",
    "            candidates.extend(wrapper.get_candidates(hull, mini_hull))\n",
    "        next_point = wrapper.get_next_point(hull, candidates)\n",
    "        if next_point == first_point:\n",
    "            return hull\n",
    "        hull.append(next_point)\n",
    "\n",
    "    if m == len(points):    # This is a termination safeguard.\n",
    "        return hull\n",
    "    return None\n",
    "\n",
    "class ChansWrapper(Wrapper):\n",
    "    def get_candidates(self, hull: PointSequence, mini_hull: PointSequence) -> list[PointReference]:\n",
    "        self._current_point = hull[-1]\n",
    "        if self._current_point.container is mini_hull:\n",
    "            if len(mini_hull) == 1:\n",
    "                return []\n",
    "            next_position = (self._current_point.position + 1) % len(mini_hull)\n",
    "            return [PointReference(mini_hull, next_position)]\n",
    "\n",
    "        l, mb, m, ma, r = self._calculate_indexes(mini_hull, 0, len(mini_hull) - 1)\n",
    "        while l <= mb < m < ma <= r:\n",
    "            m_better_than_before = self._is_better(mini_hull[m], mini_hull[mb])\n",
    "            m_better_than_after = self._is_better(mini_hull[m], mini_hull[ma])\n",
    "            if m_better_than_before and m_better_than_after:\n",
    "                return [PointReference(mini_hull, m)]\n",
    "\n",
    "            m_better_than_l = self._is_better(mini_hull[m], mini_hull[l])\n",
    "            r_better_than_l = self._is_better(mini_hull[r], mini_hull[l])\n",
    "            if r_better_than_l:\n",
    "                if m_better_than_l and not m_better_than_before:\n",
    "                    r = mb\n",
    "                else:\n",
    "                    l = ma\n",
    "            else:\n",
    "                if m_better_than_l and m_better_than_before:\n",
    "                    l = ma\n",
    "                else:\n",
    "                    r = mb\n",
    "            l, mb, m, ma, r = self._calculate_indexes(mini_hull, l, r)\n",
    "\n",
    "        return [PointReference(mini_hull, position) for position in range(l, r + 1)]\n",
    "    \n",
    "    def _calculate_indexes(self, mini_hull: PointSequence, l: int, r: int) -> tuple[int, int, int, int, int]:\n",
    "        if l != r and self._has_same_angle(mini_hull[l], mini_hull[r]):\n",
    "            if self._is_better(mini_hull[r], mini_hull[l]):\n",
    "                l += 1\n",
    "            else:\n",
    "                r -= 1\n",
    "        if r - l < 2:\n",
    "            return l, 0, 0, 0, r\n",
    "\n",
    "        m = int(l + (r - l) / 2)\n",
    "        mb = m - 1\n",
    "        ma = m + 1\n",
    "        if self._has_same_angle(mini_hull[m], mini_hull[mb]):\n",
    "            if self._is_better(mini_hull[mb], mini_hull[m]):\n",
    "                m -= 1\n",
    "            mb -= 1\n",
    "        elif self._has_same_angle(mini_hull[m], mini_hull[ma]):\n",
    "            if self._is_better(mini_hull[ma], mini_hull[m]):\n",
    "                m += 1\n",
    "            ma += 1\n",
    "            \n",
    "        return l, mb, m, ma, r\n",
    "\n",
    "    def _has_same_angle(self, p: Point, q: Point) -> bool:\n",
    "        ort = p.orientation(self._current_point, q)\n",
    "        return ort is ORT.BETWEEN or ort is ORT.BEHIND_TARGET"
   ]
  },
  {
   "cell_type": "markdown",
   "metadata": {},
   "source": [
    "Whew, that's quite a lot of code!\n",
    "Especially considering that it relies on the preceding implementations of Graham Scan and Gift Wrapping.\n",
    "Chan's Hull is not only the most involved algorithm in this notebook, but its degenerate cases also require very careful attention.\n",
    "A perfect example for why they are typically omitted.\n",
    "\n",
    "The algorithm's asymptotic running time is in $O(n \\log(h))$, which is worst-case optimal in terms of input and output size (see \\[2, pp. 20–22\\]).\n",
    "That means, from a theoretical perspective it's the best algorithm we've seen.\n",
    "However, its practical performance incurs computational overhead due its complicated implementation."
   ]
  },
  {
   "cell_type": "code",
   "execution_count": 13,
   "metadata": {},
   "outputs": [],
   "source": [
    "visualisation_tool.register_algorithm(\"Chan's Hull\", chans_hull, ChansHullMode.from_polygon_mode(polygon_mode))"
   ]
  },
  {
   "cell_type": "markdown",
   "metadata": {},
   "source": [
    "Having now registered all four algorithms, you could try comparing their running times for different inputs using our interactive visualisation tool.\n",
    "Or you could simply watch animations of Chan's Hull, which visualise the respective mini hull of each added point."
   ]
  },
  {
   "cell_type": "code",
   "execution_count": 14,
   "metadata": {},
   "outputs": [
    {
     "data": {
      "text/html": [
       "<img style='float: left;' src='./images/01-image04.png'>"
      ]
     },
     "metadata": {},
     "output_type": "display_data"
    }
   ],
   "source": [
    "visualisation_tool.display()"
   ]
  },
  {
   "cell_type": "markdown",
   "metadata": {},
   "source": [
    "__*Takeaways:*__\n",
    "\n",
    "* Combining algorithmic techniques can be surprisingly powerful.\n",
    "\n",
    "* Sometimes, dealing with degenerate cases is nasty...\n",
    "\n",
    "* The best asymptotic running time complexity doesn't always result in the best actual performance for all inputs."
   ]
  },
  {
   "cell_type": "markdown",
   "metadata": {},
   "source": [
    "## 4. References"
   ]
  },
  {
   "attachments": {},
   "cell_type": "markdown",
   "metadata": {},
   "source": [
    "\\[1\\] Mark de Berg, Otfried Cheong, Marc van Kreveld, and Mark Overmars. *Computational Geometry: Algorithms and Applications*, 3rd edition. 2008.\n",
    "\n",
    "\\[2\\] David M. Mount. *[CMSC 754: Computational Geometry (Spring 2020)](https://www.cs.umd.edu/class/spring2020/cmsc754/Lects/cmsc754-spring2020-lects.pdf)*. 2020."
   ]
  }
 ],
 "metadata": {
  "kernelspec": {
   "display_name": "geoalg-nb",
   "language": "python",
   "name": "python3"
  },
  "language_info": {
   "codemirror_mode": {
    "name": "ipython",
    "version": 3
   },
   "file_extension": ".py",
   "mimetype": "text/x-python",
   "name": "python",
   "nbconvert_exporter": "python",
   "pygments_lexer": "ipython3",
   "version": "3.11.2"
  }
 },
 "nbformat": 4,
 "nbformat_minor": 4
}
