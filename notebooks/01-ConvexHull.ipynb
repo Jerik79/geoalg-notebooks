{
 "cells": [
  {
   "cell_type": "markdown",
   "id": "ff011227-34da-442d-91b9-0377ac4b9557",
   "metadata": {},
   "source": [
    "# 01: Convex Hull"
   ]
  },
  {
   "cell_type": "markdown",
   "id": "03ed51f8",
   "metadata": {},
   "source": [
    "*Authors: Jan Erik Swiadek, Prof. Dr. Kevin Buchin*"
   ]
  },
  {
   "cell_type": "markdown",
   "id": "1f796646-66ff-493e-9985-d3b9cc5b17ad",
   "metadata": {},
   "source": [
    "This notebook serves as supplementary learning material for the course **Geometric Algorithms**.\n",
    "It showcases implementations of algorithms and data structures presented in the lecture, and it elaborates on some practical considerations concerning their use.\n",
    "Furthermore, it provides interactive visualisations and animations."
   ]
  },
  {
   "cell_type": "markdown",
   "id": "2107ac85-8976-40b4-a145-a20ca84f8647",
   "metadata": {},
   "source": [
    "## Table of Contents"
   ]
  },
  {
   "cell_type": "markdown",
   "id": "709bb015",
   "metadata": {},
   "source": [
    "1. Setup  \n",
    "2. Introduction  \n",
    "3. Algorithms  \n",
    "    3.1. Naive Hull  \n",
    "    3.2. Graham Scan  \n",
    "    3.3. Gift Wrapping  \n",
    "    3.4. Chan's Hull  \n",
    "4. References  "
   ]
  },
  {
   "cell_type": "markdown",
   "id": "efe270bc-c820-4d09-adae-5747242f08ae",
   "metadata": {},
   "source": [
    "## 1. Setup"
   ]
  },
  {
   "cell_type": "markdown",
   "id": "2d6d55d8",
   "metadata": {},
   "source": [
    "First let's import everything we need throughout this notebook, including our module for common geometry operations and data structures as well as our module for visualisation purposes.\n",
    "(The geometry module will probably receive its own notebook later.)\n",
    "This is not very interesting, so you can skip straight to section 2."
   ]
  },
  {
   "cell_type": "code",
   "execution_count": null,
   "id": "9950b3d5-55a1-4bba-9229-75a3b3b09e65",
   "metadata": {},
   "outputs": [],
   "source": [
    "# Python standard library imports\n",
    "from typing import Optional\n",
    "\n",
    "# External library imports\n",
    "import numpy as np\n",
    "\n",
    "# Make our modules available for importing\n",
    "import os\n",
    "import sys\n",
    "modules_dir = os.path.abspath(\"../modules\")\n",
    "if modules_dir not in sys.path:\n",
    "    sys.path.append(modules_dir)\n",
    "\n",
    "# Geometry and visualisation module imports\n",
    "from geometry import Orientation as ORT, Point, PointReference, Polygon\n",
    "from visualisation import VisualisationTool, PointSetInstance, PolygonMode, ChansHullMode"
   ]
  },
  {
   "cell_type": "markdown",
   "id": "88904bba",
   "metadata": {},
   "source": [
    "Additionally, we create a Visualisation object and register a few example instances for it."
   ]
  },
  {
   "cell_type": "code",
   "execution_count": null,
   "id": "c8188965",
   "metadata": {},
   "outputs": [],
   "source": [
    "visualisation_tool = VisualisationTool(400, 400, PointSetInstance())\n",
    "polygon_mode = PolygonMode(draw_interior = True)\n",
    "\n",
    "c = 200\n",
    "d = 150\n",
    "\n",
    "def circle_point(distance: int, degree: int) -> Point:\n",
    "    return Point(c + distance * np.cos(degree * np.pi / 180), c + distance * np.sin(degree * np.pi / 180))\n",
    "circle_instance = [circle_point(distance, degree) for distance in (d / 3, 2 * d / 3, d) for degree in range(0, 360, 30)]\n",
    "np.random.shuffle(circle_instance)\n",
    "visualisation_tool.register_example_instance(\"Circles\", circle_instance)\n",
    "\n",
    "degenerate_instance  = [Point(c + i * d / 10, c + d - i * d / 10) for i in range(0, 10)]\n",
    "degenerate_instance += [Point(c - i * d / 10, c - d + i * d / 10) for i in range(0, 10)]\n",
    "degenerate_instance += [Point(c + d - i * d / 10, c - i * d / 10) for i in range(0, 10)]\n",
    "degenerate_instance += [Point(c - d + i * d / 10, c + i * d / 10) for i in range(0, 10)]\n",
    "degenerate_instance += [Point(c - d + i * d / 10, c) for i in range(1, 20)]\n",
    "degenerate_instance += [Point(c, c - d + i * d / 10) for i in range(1, 20)]\n",
    "np.random.shuffle(degenerate_instance)\n",
    "visualisation_tool.register_example_instance(\"Degeneracies\", degenerate_instance)\n",
    "\n",
    "robustness_instance = [\n",
    "    Point(4.1, 101.0), Point(63.0, 6.9), Point(33.55, 53.95),\n",
    "    Point(19.1, 187.0), Point(103.0, 22.9), Point(61.05, 104.95)\n",
    "]\n",
    "visualisation_tool.register_example_instance(\"Robustness\", robustness_instance)"
   ]
  },
  {
   "cell_type": "markdown",
   "id": "8e12174d",
   "metadata": {},
   "source": [
    "## 2. Introduction"
   ]
  },
  {
   "cell_type": "markdown",
   "id": "0c93a2ee",
   "metadata": {},
   "source": [
    "As a recap, here are the most important definitions from the lecture:\n",
    "\n",
    "* A set of points $S$ is **convex** if for any two points in the set, their connecting line segment is part of $S$.\n",
    "\n",
    "* The **convex hull** of a set of points $P$ is the smallest convex set that contains $P$.\n",
    "  It is a convex polytope, whose vertices are points from $P$.\n",
    "\n",
    "For example, the convex hull of the *Circles* instance defined above looks like this:"
   ]
  },
  {
   "cell_type": "markdown",
   "id": "53595383",
   "metadata": {},
   "source": [
    "<img style='float: left;' src='../images/convex-hull-1.png'>"
   ]
  },
  {
   "cell_type": "markdown",
   "id": "0495e19b-5e5a-4e3f-8176-2f6e1da4435c",
   "metadata": {},
   "source": [
    "## 3. Algorithms"
   ]
  },
  {
   "cell_type": "markdown",
   "id": "420aa966",
   "metadata": {},
   "source": [
    "Because computing convex hulls is a fundamental problem in computational geometry, many algorithms have been developed for solving it.\n",
    "The lecture presented four of them with different strengths and weaknesses: Naive Hull, Graham Scan, Gift Wrapping, and Chan's Hull.\n",
    "Let's take a closer look at their implementations."
   ]
  },
  {
   "cell_type": "markdown",
   "id": "dda95788-bb56-4afa-8fc8-ec428bcd3e0d",
   "metadata": {},
   "source": [
    "### 3.1 Naive Hull"
   ]
  },
  {
   "cell_type": "markdown",
   "id": "05060992",
   "metadata": {},
   "source": [
    "The first algorithm from the lecture makes use of the fact that for any edge of the convex hull, all other points lie to one side of the edge.\n",
    "Using the convention from the lecture slides, they are supposed to lie to the left of the edge.\n",
    "However, if we consider **degenerate cases**, which are common edge cases often left out in descriptions of geometric algorithms, this criterion is not sufficient.\n",
    "\n",
    "Specifically, there could be three (or more) **collinear points** in the input set, i.e. points that all lie on a single line.\n",
    "In that case, none of those points is to the left or right of an edge between two other of those points.\n",
    "For a well-defined solution we want to include the outmost two of those points in the convex hull, while the middle point(s) should be left out.\n",
    "To achieve that, we need add a second criterion to the validity test: All other points are supposed to lie either to the left of the edge or directly on the edge between the two points (see [1, pp. 4–5]).\n",
    "If a point is found that violates both criteria, the edge is marked as invalid and is not included in the convex hull.\n",
    "\n",
    "We assume that no two points in the input are identical, which is guaranteed by taking the input as a [Python set](https://docs.python.org/3.9/library/stdtypes.html#set-types-set-frozenset)."
   ]
  },
  {
   "cell_type": "code",
   "execution_count": null,
   "id": "2925169c-5a44-4082-aea5-2d28c73b038b",
   "metadata": {},
   "outputs": [],
   "source": [
    "def naive_hull(points: set[Point]) -> Polygon:\n",
    "    points = list(points)\n",
    "    if len(points) <= 2:\n",
    "        return Polygon(points)\n",
    "    \n",
    "    edges: dict[Point, Point] = {}\n",
    "    for p in points:\n",
    "        for q in filter(lambda q: q != p, points):\n",
    "            valid = True\n",
    "            for r in filter(lambda r: r != p and r != q, points):\n",
    "                ort = r.orientation(p, q)\n",
    "                if ort is not ORT.LEFT and ort is not ORT.BETWEEN:\n",
    "                    valid = False\n",
    "                    break\n",
    "            if valid:\n",
    "                edges[p] = q\n",
    "    \n",
    "    hull = Polygon()\n",
    "    if edges:\n",
    "        # Construct a list of ordered vertices from the collected edges.\n",
    "        first_point, next_point = edges.popitem()\n",
    "        hull.append(first_point)\n",
    "        while next_point is not None and next_point != first_point:\n",
    "            hull.append(next_point)\n",
    "            next_point = edges.pop(next_point, None)\n",
    "    \n",
    "    return hull"
   ]
  },
  {
   "cell_type": "markdown",
   "id": "786fd6bd",
   "metadata": {},
   "source": [
    "Because of the naive nested loop, the algorithm's worst-case running time complexity is in $O(n^3)$, where $n$ denotes the number of input points.\n",
    "\n",
    "Let's register Naive Hull for visualisation."
   ]
  },
  {
   "cell_type": "code",
   "execution_count": null,
   "id": "7767407a-d761-4c58-bb8a-170ddb6d7398",
   "metadata": {},
   "outputs": [],
   "source": [
    "visualisation_tool.register_algorithm(\"Naive Hull\", naive_hull, polygon_mode)"
   ]
  },
  {
   "cell_type": "markdown",
   "id": "57a60072",
   "metadata": {},
   "source": [
    "Now you can interactively test the algorithm and watch animations of it!\n",
    "You need to run the notebook cells for this purpose, so execute this notebook on [Binder](https://mybinder.org/) or on your local machine.\n",
    "Before doing so, you will only see a static picture of an animation step on a random input instance below.\n",
    "After running the following cell, you will instead see the interface of our visualisation tool.\n",
    "\n",
    "The visualisation tool contains an interactive canvas on the left side.\n",
    "You can add points to the canvas by clicking on it, up to a maximum of 999 points.\n",
    "On the right side are control widgets divided into the these sections:\n",
    "\n",
    "* **Canvas:** The *Clear* button removes everything from the canvas.\n",
    "  The *Random* button creates an instance consisting of the specified number of points on the canvas.\n",
    "\n",
    "* **Animation:** The *Animate* checkbox toggles whether to animate an executed algorithm instead of simply displaying its result.\n",
    "  If the checkbox is selected, the *Speed* slider becomes visible.\n",
    "  It controls the animation speed on a scale from 1 (slowest) to 10 (fastest).\n",
    "  Note that it's not possible to stop a running animation.\n",
    "\n",
    "* **Examples:** Each registered example instance receives its own button that creates the instance on the canvas.\n",
    "\n",
    "* **Algorithms:** Each registered algorithm receives its own button that executes the algorithm on the current instance from the canvas.\n",
    "\n",
    "* **Message:** After clicking on an algorithm button, a message regarding the execution of the algorithm on the current canvas instance is displayed next to it.\n",
    "  During execution it says \"RUNNING\", while during animation it says \"ANIMATING\".\n",
    "  After that, the running time of the algorithm on the canvas instance is displayed.\n",
    "  Should the execution fail for some reason, then the message says \"ERROR\".\n",
    "\n",
    "If you run the tool, then don't forget to execute Naive Hull on the registered example instances, especially the *Degeneracies* and *Robustness* instances."
   ]
  },
  {
   "cell_type": "code",
   "execution_count": null,
   "id": "4e2089fe",
   "metadata": {},
   "outputs": [],
   "source": [
    "visualisation_tool.display()"
   ]
  },
  {
   "cell_type": "markdown",
   "id": "bf7c6b89-c285-4bc4-8976-043ecb870f75",
   "metadata": {},
   "source": [
    "Even though Naive Hull handles degenerate cases as explained above and as demonstrated by its result on the *Degeneracies* instance, its implementation still doesn't return the correct answer for every input.\n",
    "For example, it fails spectacularly at dealing with the seemingly harmless *Robustness* instance.\n",
    "(TODO: This isn't true anymore.)\n",
    "\n",
    "That's because floating point arithmetic is not exact and rounding errors can lead to problems.\n",
    "Naive Hull in particular suffers from these so-called **robustness issues**, so it's not a **robust algorithm** (see [1, p. 5]).\n",
    "Using correct arithmetic, e.g. through [Python's decimal library](https://docs.python.org/3/library/decimal.html), is unfortunately rather slow on most hardware.\n",
    "For more information on robustness, see [1, pp. 8–10 and p. 14]."
   ]
  },
  {
   "cell_type": "markdown",
   "id": "3bd98bea",
   "metadata": {},
   "source": [
    "***Takeaways***:\n",
    "\n",
    "* Algorithms with nested loops are often easy to conceive but inefficient.\n",
    "\n",
    "* Correct geometric algorithms have to consider degenerate cases.\n",
    "\n",
    "* Still, even a correct and simple algorithm can have robustness issues in practice."
   ]
  },
  {
   "cell_type": "markdown",
   "id": "1410d97c-e1df-48b1-950e-9dbe72fc9680",
   "metadata": {},
   "source": [
    "### 3.2 Graham Scan"
   ]
  },
  {
   "cell_type": "markdown",
   "id": "50bb8f3e",
   "metadata": {},
   "source": [
    "The second algorithm from the lecture is called **Graham Scan**.\n",
    "It sorts the input points by ascending $x$-coordinate and scans them in this order to create the upper boundary of the convex hull.\n",
    "After that, it scans the points in reverse order, i.e. sorted by descending $x$-coordinate, to create the lower boundary.\n",
    "Each scan incrementally adds the sorted input points one by one, while eliminating points that don't contribute to right turns.\n",
    "Therefore Graham Scan is an **incremental algorithm** (see [1, p. 6]).\n",
    "Note that three points not making a right turn is equivalent to the middle point not being on the left side of the edge between the other two points.\n",
    "\n",
    "The pseudocode from the lecture slides handles collinear points correctly, since collinear points don't make a turn at all and thus the middle points are eliminated.\n",
    "At the same time, it doesn't consider the order of points with the same $x$-coordinate.\n",
    "As it turns out, such points need to be sorted by their $y$-coordinate (see [1, p. 7])."
   ]
  },
  {
   "cell_type": "code",
   "execution_count": null,
   "id": "252bbe0e-8059-4010-9af8-b65158f12afa",
   "metadata": {},
   "outputs": [],
   "source": [
    "def graham_scan(points: set[Point]) -> Polygon:\n",
    "    points = list(points)\n",
    "    if len(points) <= 2:\n",
    "        return Polygon(points)\n",
    "    \n",
    "    points.sort(key = lambda p: (p.x, p.y))\n",
    "    upper_hull = _graham_single_scan(points)\n",
    "\n",
    "    points.reverse()\n",
    "    lower_hull = _graham_single_scan(points)\n",
    "\n",
    "    return upper_hull + lower_hull[1:-1]\n",
    "\n",
    "def _graham_single_scan(points: list[Point]) -> Polygon:\n",
    "    hull = Polygon(points[:2])\n",
    "    for p in points[2:]:\n",
    "        hull.append(p)\n",
    "        while len(hull) > 2 and hull[-2].orientation(hull[-3], hull[-1]) is not ORT.LEFT:\n",
    "            del hull[-2]\n",
    "    \n",
    "    return hull"
   ]
  },
  {
   "cell_type": "markdown",
   "id": "99bcc333",
   "metadata": {},
   "source": [
    "The asymptotic running time of Graham Scan is in $O(n \\log(n))$, which is worst-case optimal (see [2, pp. 14–15]).\n",
    "\n",
    "We register this algorithm for visualisation again."
   ]
  },
  {
   "cell_type": "code",
   "execution_count": null,
   "id": "616cc478",
   "metadata": {},
   "outputs": [],
   "source": [
    "visualisation_tool.register_algorithm(\"Graham Scan\", graham_scan, polygon_mode)"
   ]
  },
  {
   "cell_type": "markdown",
   "id": "07ec7973",
   "metadata": {},
   "source": [
    "Animations of Graham Scan are particularly pleasing to watch with the speed set to 10. Try it out!\n",
    "\n",
    "Graham Scan is more robust than Naive Hull and handles the *Robustness* instance correctly, though rounding errors can still lead to wrong results in some cases (see [1, p. 7])."
   ]
  },
  {
   "cell_type": "code",
   "execution_count": null,
   "id": "42e126d9",
   "metadata": {},
   "outputs": [],
   "source": [
    "visualisation_tool.display()"
   ]
  },
  {
   "cell_type": "markdown",
   "id": "da8ccbec",
   "metadata": {},
   "source": [
    "***Takeaways:***\n",
    "\n",
    "* Designing algorithms incrementally is a useful technique.\n",
    "\n",
    "* Sometimes, an efficient and fairly robust algorithm is nevertheless very simple.\n",
    "\n",
    "* In fact, our implementation of Graham Scan consists of less code than that of Naive Hull."
   ]
  },
  {
   "cell_type": "markdown",
   "id": "614f91cd-7322-43ee-a244-ba86e4062cf7",
   "metadata": {},
   "source": [
    "### 3.3 Gift Wrapping"
   ]
  },
  {
   "cell_type": "markdown",
   "id": "ebc09259",
   "metadata": {},
   "source": [
    "The next algorithm is **Gift Wrapping**, also called **Jarvis's March** (see [2, p. 15]).\n",
    "It's an **output-sensitive algorithm**, meaning its running time depends on the number of convex hull vertices.\n",
    "Starting from an imaginary point at infinity and the rightmost (and in case of a tie, topmost) input point, which is guaranteed to be a convex hull vertex, each Gift Wrapping step searches for the point that maximises the righthand angle between the previous convex hull edge and the potential new edge.\n",
    "\n",
    "Implementing this algorithm doesn't require to compute actual angles between edges.\n",
    "Instead, we can make use of orientation tests again:\n",
    "Consider two points $p$ and $q$ that we want to compare with respect to their corresponding angles.\n",
    "Then $p$ induces a bigger angle than $q$ if and only if $p$ is located to the left side of the directed edge from the current convex hull vertex to $q$.\n",
    "If those three points are collinear, then $p$ and $q$ induce the same angle and we have to decide which point to prefer.\n",
    "In that case, we regard $p$ as better than $q$ if $p$ is located behind $q$ from the perspective of the current convex hull vertex.\n",
    "This results in the same well-defined solution as before."
   ]
  },
  {
   "cell_type": "code",
   "execution_count": null,
   "id": "3c62704c-536d-426d-aa7a-09cb4c4dec2a",
   "metadata": {},
   "outputs": [],
   "source": [
    "def gift_wrapping(points: set[Point]) -> Polygon:\n",
    "    points = list(points)\n",
    "    if len(points) <= 2:\n",
    "        return Polygon(points)\n",
    "    \n",
    "    first_point = max(points, key = lambda p: (p.x, p.y))\n",
    "    wrapper = Wrapper()\n",
    "    \n",
    "    hull = Polygon([first_point])\n",
    "    while True:\n",
    "        next_point = wrapper.get_next_point(hull, points)\n",
    "        if next_point == first_point or len(hull) == len(points):   # The second condition is a termination safeguard.\n",
    "            break\n",
    "        hull.append(next_point)\n",
    "\n",
    "    return hull\n",
    "\n",
    "\n",
    "class Wrapper:\n",
    "    def __init__(self):\n",
    "        self._current_point: Optional[Point] = None\n",
    "\n",
    "    def get_next_point(self, hull: Polygon, points: list[Point]) -> Point:\n",
    "        self._current_point = hull[-1]\n",
    "        points_iterator = filter(lambda p: p != self._current_point, points)\n",
    "        next_point = next(points_iterator)\n",
    "\n",
    "        for p in points_iterator:\n",
    "            if self._is_better(p, next_point):\n",
    "                hull.animate(next_point)    # Animate next_point before updating it.\n",
    "                next_point = p\n",
    "        \n",
    "        return next_point\n",
    "\n",
    "    def _is_better(self, p: Point, q: Point) -> bool:\n",
    "        ort = p.orientation(self._current_point, q)\n",
    "        return ort is ORT.LEFT or ort is ORT.BEHIND_TARGET"
   ]
  },
  {
   "cell_type": "markdown",
   "id": "ca3c93b1",
   "metadata": {},
   "source": [
    "Gift Wrapping's running time is in $O(nh)$, where $n$ is the number of input points as usual and $h$ denotes the number of convex hull vertices."
   ]
  },
  {
   "cell_type": "code",
   "execution_count": null,
   "id": "39acf5b4",
   "metadata": {},
   "outputs": [],
   "source": [
    "visualisation_tool.register_algorithm(\"Gift Wrapping\", gift_wrapping, polygon_mode)"
   ]
  },
  {
   "cell_type": "markdown",
   "id": "e6091875",
   "metadata": {},
   "source": [
    "Have fun with the animations!"
   ]
  },
  {
   "cell_type": "code",
   "execution_count": null,
   "id": "c1508181",
   "metadata": {},
   "outputs": [],
   "source": [
    "visualisation_tool.display()"
   ]
  },
  {
   "cell_type": "markdown",
   "id": "8777754c",
   "metadata": {},
   "source": [
    "***Takeaways:***\n",
    "\n",
    "* Asymptotic running time complexity can additionally depend on the size of the output instead of just the input.\n",
    "\n",
    "* Output-sensitive algorithms might be beneficial in specific scenarios, though they are hard to judge in the general case."
   ]
  },
  {
   "cell_type": "markdown",
   "id": "c8c41ba8-e351-4da9-8616-65065de405c0",
   "metadata": {},
   "source": [
    "### 3.4 Chan's Hull"
   ]
  },
  {
   "cell_type": "markdown",
   "id": "7046b759",
   "metadata": {},
   "source": [
    "The final convex hull algorithm from the lecture is **Chan's Hull**, which combines Graham Scan and Gift Wrapping.\n",
    "It first separates the $n$ input points into $n/m$ sets of size at most $m$ and computes the convex hulls of these sets using Graham Scan.\n",
    "A suitable value for the parameter $m$ with $h \\leq m \\leq h^2$ is found by **repeatedly squaring** as shown in the lecture (see also [2, p. 19]).\n",
    "Let's call the convex hulls resulting from this process *mini hulls*.\n",
    "Next the Gift Wrapping technique is applied, but with the help of the mini hulls we can reduce the number of candidates and thus don't need to search through all $n$ points.\n",
    "That's possible because the mini hulls are convex polygons and their vertices are returned in cyclic order by Graham Scan, enabling us to find the best candidate from a mini hull, i.e. the vertex with the largest induced angle, in $O(\\log(m))$ time through \"a variant of binary search\" (see [2, p. 17] for a more detailed statement of this claim, though it also omits the proof and how the search exactly works).\n",
    "\n",
    "Standard binary search is only applicable for monotone sequences, whereas we have to search for a vertex that is better than both its neighbours.\n",
    "For so-called **unimodal sequences**, which consist of a monotonely ascending and a monotonely decreasing part, [ternary search](https://en.wikipedia.org/wiki/Ternary_search) can be used.\n",
    "If the first mini hull vertex is the worst one, the sequence of induced angles is indeed unimodal:\n",
    "Starting with the smallest angle, it goes up until the angle of the best vertex is reached, then it goes down until the end.\n",
    "Unfortunately, ternary search isn't sufficient here either because the arbitrary cyclic order of mini hull vertices might result in one monotone part being split in two, i.e. the sequence of induced angles can be comprised of three parts with alternating monotonicity (e.g. up, then down, then up) and is therefore not necessarily unimodal.\n",
    "\n",
    "We will not discuss the implementation of our binary search variant further.\n",
    "The interested reader can study its core logic in the following *ChanWrapper.get_candidates(...)* method.\n",
    "To make things even more complicated, handling the degenerate case of collinear points is quite intricate, since it can cause two neighbouring vertices to induce the same angle in the sequence.\n",
    "Examining such two vertices doesn't tell us the direction in which the sequence is ascending, so the binary search indexes have to be adjusted in that case.\n",
    "If necessary, this is done in the *ChanWrapper._calculate_indexes(...)* method.\n",
    "Note that, to keep the code cleaner, our candidate search implementation might return more than one candidate, but it's limited to at most four candidates, which is an asymptotically constant amount per mini hull."
   ]
  },
  {
   "cell_type": "code",
   "execution_count": null,
   "id": "813cbb90-63d8-435d-9c1b-776044d83c3a",
   "metadata": {},
   "outputs": [],
   "source": [
    "def chans_hull(points: set[Point]) -> Polygon:\n",
    "    points = list(points)\n",
    "    if len(points) <= 2:\n",
    "        return Polygon(points)\n",
    "\n",
    "    hull = None\n",
    "    t = 0\n",
    "    while hull is None:\n",
    "        m = min(len(points), 2**(2**t))\n",
    "        hull = _parametric_chans_hull(points, m)\n",
    "        t += 1\n",
    "\n",
    "    return hull\n",
    "\n",
    "def _parametric_chans_hull(points: list[Point], m: int) -> Optional[Polygon]:\n",
    "    mini_hulls: list[Polygon] = []\n",
    "    point_references: list[PointReference] = []\n",
    "    for start in range(0, len(points), m):\n",
    "        end = min(len(points), start + m)\n",
    "        mini_hull = graham_scan(points[start:end])\n",
    "        mini_hulls.append(mini_hull)\n",
    "        for position in range(0, len(mini_hull)):\n",
    "            point_references.append(PointReference(mini_hull, position))\n",
    "\n",
    "    first_point = max(point_references, key = lambda p: (p.x, p.y))\n",
    "    wrapper = ChanWrapper()\n",
    "    \n",
    "    hull = Polygon([first_point])\n",
    "    for _ in range(0, m):\n",
    "        candidates: list[PointReference] = []\n",
    "        for mini_hull in mini_hulls:\n",
    "            candidates.extend(wrapper.get_candidates(hull, mini_hull))\n",
    "        next_point = wrapper.get_next_point(hull, candidates)\n",
    "        if next_point == first_point:\n",
    "            return hull\n",
    "        hull.append(next_point)\n",
    "\n",
    "    if m == len(points):    # This is a termination safeguard.\n",
    "        return hull\n",
    "    return None\n",
    "\n",
    "\n",
    "class ChanWrapper(Wrapper):\n",
    "    def get_candidates(self, hull: Polygon, mini_hull: Polygon) -> list[PointReference]:\n",
    "        self._current_point = hull[-1]\n",
    "        if self._current_point.container is mini_hull:\n",
    "            if len(mini_hull) == 1:\n",
    "                return []\n",
    "            next_position = (self._current_point.position + 1) % len(mini_hull)\n",
    "            return [PointReference(mini_hull, next_position)]\n",
    "\n",
    "        l, mb, m, ma, r = self._calculate_indexes(mini_hull, 0, len(mini_hull) - 1)\n",
    "        while l <= mb < m < ma <= r:\n",
    "            m_better_than_before = self._is_better(mini_hull[m], mini_hull[mb])\n",
    "            m_better_than_after = self._is_better(mini_hull[m], mini_hull[ma])\n",
    "            if m_better_than_before and m_better_than_after:\n",
    "                return [PointReference(mini_hull, m)]\n",
    "\n",
    "            m_better_than_l = self._is_better(mini_hull[m], mini_hull[l])\n",
    "            r_better_than_l = self._is_better(mini_hull[r], mini_hull[l])\n",
    "            if r_better_than_l:\n",
    "                if m_better_than_l and not m_better_than_before:\n",
    "                    r = mb\n",
    "                else:\n",
    "                    l = ma\n",
    "            else:\n",
    "                if m_better_than_l and m_better_than_before:\n",
    "                    l = ma\n",
    "                else:\n",
    "                    r = mb\n",
    "            l, mb, m, ma, r = self._calculate_indexes(mini_hull, l, r)\n",
    "\n",
    "        return [PointReference(mini_hull, position) for position in range(l, r + 1)]\n",
    "    \n",
    "    def _calculate_indexes(self, mini_hull: Polygon, l: int, r: int) -> tuple[int, int, int, int, int]:\n",
    "        if l != r and self._has_same_angle(mini_hull[l], mini_hull[r]):\n",
    "            if self._is_better(mini_hull[r], mini_hull[l]):\n",
    "                l += 1\n",
    "            else:\n",
    "                r -= 1\n",
    "        if r - l < 2:\n",
    "            return l, 0, 0, 0, r\n",
    "\n",
    "        m = int(l + (r - l) / 2)\n",
    "        mb = m - 1\n",
    "        ma = m + 1\n",
    "        if self._has_same_angle(mini_hull[m], mini_hull[mb]):\n",
    "            if self._is_better(mini_hull[mb], mini_hull[m]):\n",
    "                m -= 1\n",
    "            mb -= 1\n",
    "        elif self._has_same_angle(mini_hull[m], mini_hull[ma]):\n",
    "            if self._is_better(mini_hull[ma], mini_hull[m]):\n",
    "                m += 1\n",
    "            ma += 1\n",
    "            \n",
    "        return l, mb, m, ma, r\n",
    "\n",
    "    def _has_same_angle(self, p: Point, q: Point) -> bool:\n",
    "        ort = p.orientation(self._current_point, q)\n",
    "        return ort is ORT.BETWEEN or ort is ORT.BEHIND_TARGET"
   ]
  },
  {
   "cell_type": "markdown",
   "id": "95574856",
   "metadata": {},
   "source": [
    "Whew, that's quite a lot of code!\n",
    "Especially considering that it relies on the preceding implementations of Graham Scan and Gift Wrapping.\n",
    "Chan's Hull is not only the most involved algorithm in this notebook, but its degenerate cases also require very careful attention.\n",
    "A perfect example for why they are typically omitted.\n",
    "\n",
    "The algorithm's asymptotic running time is in $O(n \\log(h))$, which is worst-case optimal in terms of input and output size (see [2, pp. 20–22]).\n",
    "That means, from a theoretical perspective it's the best algorithm we've seen.\n",
    "However, its practical performance incurs computational overhead due its complicated implementation."
   ]
  },
  {
   "cell_type": "code",
   "execution_count": null,
   "id": "d61d718d-42c9-4596-9459-0717e2212740",
   "metadata": {},
   "outputs": [],
   "source": [
    "visualisation_tool.register_algorithm(\"Chan's Hull\", chans_hull, ChansHullMode.from_polygon_mode(polygon_mode))"
   ]
  },
  {
   "cell_type": "markdown",
   "id": "b46ff077",
   "metadata": {},
   "source": [
    "Having now registered all four algorithms, you could try comparing their running times for different inputs using our interactive visualisation tool.\n",
    "Or you could simply watch animations of Chan's Hull, which visualise the respective mini hull of each added point."
   ]
  },
  {
   "cell_type": "code",
   "execution_count": null,
   "id": "3408a42f",
   "metadata": {},
   "outputs": [],
   "source": [
    "visualisation_tool.display()"
   ]
  },
  {
   "cell_type": "markdown",
   "id": "91e7f0cc",
   "metadata": {},
   "source": [
    "***Takeaways:***\n",
    "\n",
    "* Combining algorithmic techniques can be surprisingly powerful.\n",
    "\n",
    "* Sometimes, dealing with degenerate cases is nasty...\n",
    "\n",
    "* The best asymptotic running time complexity doesn't always result in the best actual performance for all inputs."
   ]
  },
  {
   "cell_type": "markdown",
   "id": "0e7ae955",
   "metadata": {},
   "source": [
    "## 4. References"
   ]
  },
  {
   "cell_type": "markdown",
   "id": "362e08c6",
   "metadata": {},
   "source": [
    "[1] Mark de Berg, Otfried Cheong, Marc van Kreveld, and Mark Overmars. *Computational Geometry: Algorithms and Applications*, 3rd Edition, 2008.\n",
    "\n",
    "[2] David M. Mount. [*CMSC 754: Computational Geometry*](https://www.cs.umd.edu/class/spring2020/cmsc754/Lects/cmsc754-spring2020-lects.pdf), 2020."
   ]
  }
 ],
 "metadata": {
  "interpreter": {
   "hash": "b48264eb95706e162d01c04d685d59c09b9997374e8df34f814a7711d35cc8a0"
  },
  "kernelspec": {
   "display_name": "Python 3.9.7 ('base')",
   "language": "python",
   "name": "python3"
  },
  "language_info": {
   "codemirror_mode": {
    "name": "ipython",
    "version": 3
   },
   "file_extension": ".py",
   "mimetype": "text/x-python",
   "name": "python",
   "nbconvert_exporter": "python",
   "pygments_lexer": "ipython3",
   "version": "3.9.7"
  }
 },
 "nbformat": 4,
 "nbformat_minor": 5
}
