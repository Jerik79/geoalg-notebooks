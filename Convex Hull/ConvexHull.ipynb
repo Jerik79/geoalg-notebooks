{
 "cells": [
  {
   "cell_type": "markdown",
   "id": "ff011227-34da-442d-91b9-0377ac4b9557",
   "metadata": {},
   "source": [
    "# Convex Hulls"
   ]
  },
  {
   "cell_type": "markdown",
   "id": "1f796646-66ff-493e-9985-d3b9cc5b17ad",
   "metadata": {},
   "source": [
    "General information"
   ]
  },
  {
   "cell_type": "markdown",
   "id": "2107ac85-8976-40b4-a145-a20ca84f8647",
   "metadata": {},
   "source": [
    "## Table of Contents\n",
    "\n",
    "1. Introduction\n",
    "2. Imports\n",
    "3. Algorithms\n",
    "    * Naive Hull\n",
    "    * Graham Scan\n",
    "    * Gift Wrapping\n",
    "    * Chan's Hull\n",
    "4. Conclusion"
   ]
  },
  {
   "cell_type": "markdown",
   "id": "efe270bc-c820-4d09-adae-5747242f08ae",
   "metadata": {},
   "source": [
    "## 2. Imports"
   ]
  },
  {
   "cell_type": "code",
   "execution_count": null,
   "id": "9950b3d5-55a1-4bba-9229-75a3b3b09e65",
   "metadata": {},
   "outputs": [],
   "source": [
    "from geometry import Point, PointRef, Orientation"
   ]
  },
  {
   "cell_type": "code",
   "execution_count": null,
   "id": "10f0997f-a7a9-4b6a-9ca4-dcd51d551f1c",
   "metadata": {},
   "outputs": [],
   "source": [
    "from visualisation import Visualisation\n",
    "vis = Visualisation()\n",
    "points = [Point(10,10), Point(100,50), Point(250,25), Point(100,100), Point(200,200), Point(300,10), Point(400,10)]\n",
    "vis.add_points(points)\n",
    "vis.register_instance(\"Test instance\", points)"
   ]
  },
  {
   "cell_type": "markdown",
   "id": "0495e19b-5e5a-4e3f-8176-2f6e1da4435c",
   "metadata": {},
   "source": [
    "## 3. Algorithms"
   ]
  },
  {
   "cell_type": "markdown",
   "id": "dda95788-bb56-4afa-8fc8-ec428bcd3e0d",
   "metadata": {},
   "source": [
    "### 3.1 Naive Hull\n",
    "The first algorithm from the lecture"
   ]
  },
  {
   "cell_type": "code",
   "execution_count": null,
   "id": "2925169c-5a44-4082-aea5-2d28c73b038b",
   "metadata": {},
   "outputs": [],
   "source": [
    "def naive_hull(points: list[Point]) -> list[Point]:\n",
    "    edges: dict[Point, Point] = {}\n",
    "    for p in points:\n",
    "        for q in filter(lambda q: q != p, points):\n",
    "            valid = True\n",
    "            for r in filter(lambda r: r != p and r != q, points):\n",
    "                orient = r.orientation(p, q)\n",
    "                if orient is Orientation.RIGHT or orient is Orientation.BEHIND_SOURCE or orient is Orientation.BEHIND_TARGET:\n",
    "                    valid = False\n",
    "                    break\n",
    "            if valid:\n",
    "                edges[p] = q\n",
    "    hull: list[Point] = []\n",
    "    if edges:\n",
    "        first_point, next_point = edges.popitem()\n",
    "        hull.append(first_point)\n",
    "        while next_point is not None and next_point != first_point:\n",
    "            hull.append(next_point)\n",
    "            next_point = edges.pop(next_point, None)\n",
    "    return hull"
   ]
  },
  {
   "cell_type": "code",
   "execution_count": null,
   "id": "a960d166-9089-4d0f-8ecf-0b55f68d9926",
   "metadata": {},
   "outputs": [],
   "source": [
    "hull = naive_hull(points)\n",
    "print(hull)"
   ]
  },
  {
   "cell_type": "code",
   "execution_count": null,
   "id": "7767407a-d761-4c58-bb8a-170ddb6d7398",
   "metadata": {},
   "outputs": [],
   "source": [
    "vis.register_algorithm(\"Naive hull\", naive_hull)"
   ]
  },
  {
   "cell_type": "code",
   "execution_count": null,
   "id": "4e2089fe",
   "metadata": {},
   "outputs": [],
   "source": [
    "vis.display()"
   ]
  },
  {
   "cell_type": "markdown",
   "id": "bf7c6b89-c285-4bc4-8976-043ecb870f75",
   "metadata": {},
   "source": [
    "should handle degeneracies, but it's not robust"
   ]
  },
  {
   "cell_type": "markdown",
   "id": "1410d97c-e1df-48b1-950e-9dbe72fc9680",
   "metadata": {},
   "source": [
    "### 3.2 Graham Scan\n",
    "Better algorithm"
   ]
  },
  {
   "cell_type": "code",
   "execution_count": null,
   "id": "252bbe0e-8059-4010-9af8-b65158f12afa",
   "metadata": {},
   "outputs": [],
   "source": [
    "def graham_scan(points: list[Point]) -> list[Point]:    \n",
    "    if len(points) <= 2:\n",
    "        return points[:]\n",
    "    sorted_points = sorted(points, key = lambda p: (p.x, p.y))\n",
    "    upper_hull = graham_half_scan(sorted_points)\n",
    "    sorted_points.reverse()\n",
    "    lower_hull = graham_half_scan(sorted_points)\n",
    "    hull = upper_hull[:-1] + lower_hull[:-1]\n",
    "    return hull\n",
    "\n",
    "def graham_half_scan(points: list[Point]) -> list[Point]:\n",
    "    if len(points) <= 2:\n",
    "        return points[:]\n",
    "    hull = points[:2]\n",
    "    for p in points[2:]:\n",
    "        hull.append(p)\n",
    "        while len(hull) > 2 and hull[-2].orientation(hull[-3], hull[-1]) is not Orientation.LEFT:\n",
    "            del hull[-2]\n",
    "    return hull"
   ]
  },
  {
   "cell_type": "code",
   "execution_count": null,
   "id": "bca1dae1-a16f-40bd-8ac7-5f17ff50df32",
   "metadata": {},
   "outputs": [],
   "source": [
    "print(graham_scan([Point(0,0), Point(1,0.5), Point(2.5,0.25), Point(1,1), Point(2,2), Point(3,0), Point(4,0)]))"
   ]
  },
  {
   "cell_type": "code",
   "execution_count": null,
   "id": "616cc478",
   "metadata": {},
   "outputs": [],
   "source": [
    "vis.register_algorithm(\"Graham scan\", graham_scan)"
   ]
  },
  {
   "cell_type": "code",
   "execution_count": null,
   "id": "42e126d9",
   "metadata": {},
   "outputs": [],
   "source": [
    "vis.display()"
   ]
  },
  {
   "cell_type": "markdown",
   "id": "08df2d28-e844-4665-8f78-d56c3266f83b",
   "metadata": {},
   "source": [
    "should handle degeneracies and be somewhat robust"
   ]
  },
  {
   "cell_type": "markdown",
   "id": "614f91cd-7322-43ee-a244-ba86e4062cf7",
   "metadata": {},
   "source": [
    "### 3.3 Gift Wrapping\n",
    "Also called *Jarvis's March*. Output-sensitive."
   ]
  },
  {
   "cell_type": "code",
   "execution_count": null,
   "id": "3c62704c-536d-426d-aa7a-09cb4c4dec2a",
   "metadata": {},
   "outputs": [],
   "source": [
    "def gift_wrapping(points: list[Point]) -> list[Point]:\n",
    "    if len(points) <= 2:        # wie umgehen mit Duplikaten ? evtl. set nehmen...\n",
    "        return points[:]\n",
    "    first_point = max(points, key = lambda p: (p.x, p.y))\n",
    "    wrapper = Wrapper(first_point)\n",
    "    hull = [first_point]\n",
    "    while True:\n",
    "        next_point = wrapper.get_next_point(points)\n",
    "        if next_point == first_point:\n",
    "            break             # sicherstellen, dass dieser Punkt erreicht wird\n",
    "        hull.append(next_point)\n",
    "    return hull\n",
    "\n",
    "\n",
    "class Wrapper:\n",
    "    def __init__(self, current_point: Point):\n",
    "        self.current_point = current_point\n",
    "    \n",
    "    def get_next_point(self, points: list[Point]) -> Point:\n",
    "        points_iter = filter(lambda p: p != self.current_point, points)\n",
    "        next_point = next(points_iter)\n",
    "        for p in points_iter:\n",
    "            if p != next_point and self.is_better(p, next_point):         # wie umgehen mit Duplikaten ?\n",
    "                next_point = p\n",
    "        self.current_point = next_point\n",
    "        return next_point\n",
    "\n",
    "    def is_better(self, p: Point, q: Point) -> bool:\n",
    "        orient = p.orientation(self.current_point, q)\n",
    "        return orient is Orientation.LEFT or orient is Orientation.BEHIND_TARGET"
   ]
  },
  {
   "cell_type": "code",
   "execution_count": null,
   "id": "bdc6d495-b044-45a3-a17a-d962b7b7a01a",
   "metadata": {},
   "outputs": [],
   "source": [
    "print(gift_wrapping([Point(0,0), Point(1,0.5), Point(2.5,0.25), Point(1,1), Point(2,2), Point(3,0), Point(4,0)]))"
   ]
  },
  {
   "cell_type": "code",
   "execution_count": null,
   "id": "39acf5b4",
   "metadata": {},
   "outputs": [],
   "source": [
    "vis.register_algorithm(\"Gift wrapping\", gift_wrapping)"
   ]
  },
  {
   "cell_type": "code",
   "execution_count": null,
   "id": "c1508181",
   "metadata": {},
   "outputs": [],
   "source": [
    "vis.display()"
   ]
  },
  {
   "cell_type": "markdown",
   "id": "c8c41ba8-e351-4da9-8616-65065de405c0",
   "metadata": {},
   "source": [
    "### 3.4 Chan's Hull\n",
    "Best of both worlds"
   ]
  },
  {
   "cell_type": "code",
   "execution_count": null,
   "id": "813cbb90-63d8-435d-9c1b-776044d83c3a",
   "metadata": {},
   "outputs": [],
   "source": [
    "from typing import Optional\n",
    "    \n",
    "    \n",
    "class ChanWrapper(Wrapper):\n",
    "    def __init__(self, current_point: PointRef):\n",
    "        super(ChanWrapper, self).__init__(current_point)\n",
    "    \n",
    "    def has_same_angle(self, p: Point, q: Point) -> bool:\n",
    "        orient = p.orientation(self.current_point, q)\n",
    "        return orient is Orientation.BETWEEN or orient is Orientation.BEHIND_TARGET\n",
    "    \n",
    "    # Handles all the degenerate edge cases. Don't read it, lest it will haunt you in your nightmares.\n",
    "    def calculate_indexes(self, mini_hull: list[Point], l: int, r: int) -> tuple[int, int, int, int, int]:\n",
    "        if l != r and self.has_same_angle(mini_hull[l], mini_hull[r]):\n",
    "            if self.is_better(mini_hull[r], mini_hull[l]):\n",
    "                l += 1\n",
    "            else:\n",
    "                r -= 1\n",
    "        if r - l < 2:\n",
    "            return l, 0, 0, 0, r\n",
    "        m = int(l + (r - l) / 2)\n",
    "        mb = m-1\n",
    "        ma = m+1\n",
    "        if self.has_same_angle(mini_hull[m], mini_hull[mb]):\n",
    "            if self.is_better(mini_hull[mb], mini_hull[m]):\n",
    "                m -= 1\n",
    "            mb -= 1\n",
    "        elif self.has_same_angle(mini_hull[m], mini_hull[ma]):\n",
    "            if self.is_better(mini_hull[ma], mini_hull[m]):\n",
    "                m += 1\n",
    "            ma += 1\n",
    "        return l, mb, m, ma, r\n",
    "    \n",
    "    # Can return more than one candidate but at most five which is asymptotically constant.\n",
    "    def get_candidates(self, mini_hull: list[Point]) -> list[PointRef]:\n",
    "        if self.current_point.is_in_container(mini_hull):\n",
    "            if len(mini_hull) == 1:\n",
    "                return []\n",
    "            next_position = (self.current_point.get_position() + 1) % len(mini_hull)\n",
    "            return [PointRef(mini_hull, next_position)]\n",
    "        l, mb, m, ma, r = self.calculate_indexes(mini_hull, 0, len(mini_hull) - 1)\n",
    "        while l <= mb < m < ma <= r:\n",
    "            m_better_than_before = self.is_better(mini_hull[m], mini_hull[mb])\n",
    "            m_better_than_after = self.is_better(mini_hull[m], mini_hull[ma])\n",
    "            if m_better_than_before and m_better_than_after:\n",
    "                return [PointRef(mini_hull, m)]\n",
    "            m_better_than_l = self.is_better(mini_hull[m], mini_hull[l])\n",
    "            r_better_than_l = self.is_better(mini_hull[r], mini_hull[l])\n",
    "            if r_better_than_l:\n",
    "                if m_better_than_l and not m_better_than_before:\n",
    "                    r = mb\n",
    "                else:\n",
    "                    l = m\n",
    "            else:\n",
    "                if m_better_than_l and m_better_than_before:\n",
    "                    l = ma\n",
    "                else:\n",
    "                    r = m\n",
    "            l, mb, m, ma, r = self.calculate_indexes(mini_hull, l, r)\n",
    "        return [PointRef(mini_hull, pos) for pos in range(l, r+1)]\n",
    "\n",
    "    \n",
    "def chans_hull_m(points: list[Point], m: int) -> Optional[list[Point]]:\n",
    "    mini_hulls = []\n",
    "    mini_hull_points = []\n",
    "    for i in range(0, len(points), m):\n",
    "        j = min(len(points), i+m)\n",
    "        mini_hull = graham_scan(points[i:j])\n",
    "        mini_hulls.append(mini_hull)\n",
    "        for position in range(0, len(mini_hull)):\n",
    "            mini_hull_points.append(PointRef(mini_hull, position))\n",
    "    first_point = max(mini_hull_points, key = lambda p: (p.x, p.y))\n",
    "    wrapper = ChanWrapper(first_point)\n",
    "    hull = [first_point]\n",
    "    for _ in range(m):\n",
    "        candidates = []\n",
    "        for mini_hull in mini_hulls:\n",
    "            candidates.extend(wrapper.get_candidates(mini_hull))\n",
    "        next_point = wrapper.get_next_point(candidates)\n",
    "        if next_point == first_point:\n",
    "            return hull\n",
    "        hull.append(next_point)\n",
    "    return None\n",
    "\n",
    "def chans_hull(points: list[Point]) -> list[Point]:\n",
    "    if len(points) <= 2:\n",
    "        return points[:]\n",
    "    hull = None\n",
    "    t = 0\n",
    "    while hull is None:\n",
    "        m = min(len(points), 2**(2**t))\n",
    "        hull = chans_hull_m(points, m)\n",
    "        t += 1\n",
    "    return hull"
   ]
  },
  {
   "cell_type": "code",
   "execution_count": null,
   "id": "bf9c564c",
   "metadata": {},
   "outputs": [],
   "source": [
    "print(chans_hull([Point(0,0), Point(1,0.5), Point(2.5,0.25), Point(1,1), Point(2,2), Point(3,0), Point(4,0), Point(1,2), Point(3,1.5)]))"
   ]
  },
  {
   "cell_type": "code",
   "execution_count": null,
   "id": "df5e7cd9",
   "metadata": {},
   "outputs": [],
   "source": [
    "print(chans_hull([Point(0,3), Point(10,10), Point(20,5)]))"
   ]
  },
  {
   "cell_type": "code",
   "execution_count": null,
   "id": "d61d718d-42c9-4596-9459-0717e2212740",
   "metadata": {},
   "outputs": [],
   "source": [
    "vis.register_algorithm(\"Chan's hull\", chans_hull)"
   ]
  },
  {
   "cell_type": "code",
   "execution_count": null,
   "id": "3408a42f",
   "metadata": {},
   "outputs": [],
   "source": [
    "vis.display()"
   ]
  },
  {
   "cell_type": "code",
   "execution_count": null,
   "id": "d0904da0",
   "metadata": {},
   "outputs": [],
   "source": []
  }
 ],
 "metadata": {
  "kernelspec": {
   "display_name": "Python 3 (ipykernel)",
   "language": "python",
   "name": "python3"
  },
  "language_info": {
   "codemirror_mode": {
    "name": "ipython",
    "version": 3
   },
   "file_extension": ".py",
   "mimetype": "text/x-python",
   "name": "python",
   "nbconvert_exporter": "python",
   "pygments_lexer": "ipython3",
   "version": "3.9.7"
  }
 },
 "nbformat": 4,
 "nbformat_minor": 5
}
