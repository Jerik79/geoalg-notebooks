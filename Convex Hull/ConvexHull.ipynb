{
 "cells": [
  {
   "cell_type": "markdown",
   "id": "ff011227-34da-442d-91b9-0377ac4b9557",
   "metadata": {},
   "source": [
    "# Lecture 01: Convex Hulls"
   ]
  },
  {
   "cell_type": "markdown",
   "id": "03ed51f8",
   "metadata": {},
   "source": [
    "*Author: Jan Erik Swiadek*"
   ]
  },
  {
   "cell_type": "markdown",
   "id": "1f796646-66ff-493e-9985-d3b9cc5b17ad",
   "metadata": {},
   "source": [
    "This notebook serves as supplementary learning material for the lecture **Geometric Algorithms** by Prof. Dr. Kevin Buchin.\n",
    "It showcases implementations of the algorithms and data structures presented in the lecture, elaborates on some practical considerations concerning their use. \n",
    "Furthermore, it includes interactive visualisations (and animations?) of the algorithms."
   ]
  },
  {
   "cell_type": "markdown",
   "id": "2107ac85-8976-40b4-a145-a20ca84f8647",
   "metadata": {},
   "source": [
    "## Table of Contents\n",
    "\n",
    "1. [Introduction](#1-introduction)  \n",
    "2. [Imports](#2-imports)  \n",
    "3. [Algorithms](#3-algorithms)  \n",
    "    3.1. [Naive Hull](#31-naive-hull)  \n",
    "    3.2. [Graham Scan](#32-graham-scan)  \n",
    "    3.3. [Gift Wrapping](#33-gift-wrapping)  \n",
    "    3.4. [Chan's Hull](#34-chans-hull)  \n",
    "4. [Conclusion](#4-conclusion)"
   ]
  },
  {
   "cell_type": "markdown",
   "id": "8e12174d",
   "metadata": {},
   "source": [
    "## 1. Introduction"
   ]
  },
  {
   "cell_type": "markdown",
   "id": "0c93a2ee",
   "metadata": {},
   "source": [
    "A set of points is *convex* if for any two points in the set, their connecting line segment is part of the set.\n",
    "The *convex hull* of a set of points is the smallest convex set subsuming the given set.\n",
    "It's a convex polytope, which vertices are in the set of points."
   ]
  },
  {
   "cell_type": "markdown",
   "id": "efe270bc-c820-4d09-adae-5747242f08ae",
   "metadata": {},
   "source": [
    "## 2. Imports"
   ]
  },
  {
   "cell_type": "markdown",
   "id": "2d6d55d8",
   "metadata": {},
   "source": [
    "Import from a central module for geometry functions.\n",
    "This will get a module later as well."
   ]
  },
  {
   "cell_type": "code",
   "execution_count": null,
   "id": "9950b3d5-55a1-4bba-9229-75a3b3b09e65",
   "metadata": {},
   "outputs": [],
   "source": [
    "from geometry import Point, PointRef, Orientation, Polyline\n",
    "\n",
    "from typing import Iterator, Optional"
   ]
  },
  {
   "cell_type": "markdown",
   "id": "388337aa",
   "metadata": {},
   "source": [
    "Import visualisations."
   ]
  },
  {
   "cell_type": "code",
   "execution_count": null,
   "id": "10f0997f-a7a9-4b6a-9ca4-dcd51d551f1c",
   "metadata": {},
   "outputs": [],
   "source": [
    "from visualisation import Visualisation\n",
    "vis = Visualisation()\n",
    "points = [Point(10,10), Point(100,50), Point(250,25), Point(100,100), Point(200,200), Point(300,10), Point(400,10)]\n",
    "vis.add_points(points)\n",
    "vis.register_instance(\"Test instance\", points)"
   ]
  },
  {
   "cell_type": "markdown",
   "id": "0495e19b-5e5a-4e3f-8176-2f6e1da4435c",
   "metadata": {},
   "source": [
    "## 3. Algorithms"
   ]
  },
  {
   "cell_type": "markdown",
   "id": "420aa966",
   "metadata": {},
   "source": [
    "As convex hull is a fundamental problem in computational geometry, there are many algorithms that have been developed for solving it.\n",
    "The lecture presented four of them."
   ]
  },
  {
   "cell_type": "markdown",
   "id": "dda95788-bb56-4afa-8fc8-ec428bcd3e0d",
   "metadata": {},
   "source": [
    "### 3.1 Naive Hull\n",
    "\n",
    "The first algorithm from the lecture makes use of the fact that for any edge of the convex hull, all other points lie to one side of the edge.\n",
    "In the lecture, they are supposed to lie on the left of the edge.\n",
    "However, if we consider *degenerate cases*, which are common edge cases often left out of descriptions of geometric algorithms , this criterion is not sufficient.\n",
    "\n",
    "There could be three collinear points, i.e. they all lie on the same line and none of the points is to the left or right of an edge between the other two points.\n",
    "In that case, we want to include the outer two points in the convex hull, while the middle point is left out.\n",
    "To achieve that, all other points are supposed to lie either on left side of the edge or directly on the edge between the two points.\n",
    "If a point is found that violates both those criterions, the edge is marked as invalid and not included in the convex hull.\n",
    "(see CG)\n",
    "\n",
    "We assume no two same points in the input, that's why we take it as a set."
   ]
  },
  {
   "cell_type": "code",
   "execution_count": null,
   "id": "2925169c-5a44-4082-aea5-2d28c73b038b",
   "metadata": {},
   "outputs": [],
   "source": [
    "def naive_hull(points: set[Point]) -> Polyline:\n",
    "    points = list(points)\n",
    "    if len(points) <= 2:\n",
    "        return Polyline(points)\n",
    "    \n",
    "    edges: dict[Point, Point] = {}\n",
    "    for p in points:\n",
    "        for q in filter(lambda q: q != p, points):\n",
    "            valid = True\n",
    "            for r in filter(lambda r: r != p and r != q, points):\n",
    "                orientation = r.orientation(p, q)\n",
    "                if orientation is not Orientation.LEFT and orientation is not Orientation.BETWEEN:\n",
    "                    valid = False\n",
    "                    break\n",
    "            if valid:\n",
    "                edges[p] = q\n",
    "    \n",
    "    hull = Polyline()\n",
    "    if edges:\n",
    "        # Construct a list of ordered vertices from the included edges.\n",
    "        first_point, next_point = edges.popitem()\n",
    "        hull.append(first_point)\n",
    "        while next_point is not None and next_point != first_point:\n",
    "            hull.append(next_point)\n",
    "            next_point = edges.pop(next_point, None)\n",
    "    \n",
    "    return hull"
   ]
  },
  {
   "cell_type": "markdown",
   "id": "786fd6bd",
   "metadata": {},
   "source": [
    "Because of the naive nested loop, the algorithm's worst-case complexity is in *O(n³)*\n",
    "Let's register the algorithm for the visualisation."
   ]
  },
  {
   "cell_type": "code",
   "execution_count": null,
   "id": "831f6564",
   "metadata": {},
   "outputs": [],
   "source": [
    "print(naive_hull(points))"
   ]
  },
  {
   "cell_type": "code",
   "execution_count": null,
   "id": "7767407a-d761-4c58-bb8a-170ddb6d7398",
   "metadata": {},
   "outputs": [],
   "source": [
    "vis.register_algorithm(\"Naive hull\", naive_hull)"
   ]
  },
  {
   "cell_type": "markdown",
   "id": "57a60072",
   "metadata": {},
   "source": [
    "Let's test it.\n",
    "You need to run the cells so execute the notebook on Binder or locally.\n",
    "You can add points by clicking.\n",
    "The *Degeneracy test instance* includes degenerate cases, which are handled.\n",
    "But the *robustness test instance* shows that it's still not correct in every case.\n",
    "Try it out.\n",
    "Why is that?"
   ]
  },
  {
   "cell_type": "code",
   "execution_count": null,
   "id": "4e2089fe",
   "metadata": {},
   "outputs": [],
   "source": [
    "vis.display()"
   ]
  },
  {
   "cell_type": "markdown",
   "id": "bf7c6b89-c285-4bc4-8976-043ecb870f75",
   "metadata": {},
   "source": [
    "It's because floating point arithmetic is not exact and rounding errors can lead to errors.\n",
    "But using correct arithmetic is unfortunately very slow. (Checkbox for swap? Or another test set?)\n",
    "(see CG)"
   ]
  },
  {
   "cell_type": "markdown",
   "id": "3bd98bea",
   "metadata": {},
   "source": [
    "**Takeaway**:\n",
    "Inefficient.\n",
    "Even a simple algorithm can have correctness / robustness issues."
   ]
  },
  {
   "cell_type": "markdown",
   "id": "1410d97c-e1df-48b1-950e-9dbe72fc9680",
   "metadata": {},
   "source": [
    "### 3.2 Graham Scan\n",
    "\n",
    "The second algorithm from the lecture is called *Graham Scan*.\n",
    "It sorts the points by ascending x-coordinate and scans them in this order to create the upper boundary of the convex hull.\n",
    "After that, it scans the points in reversed order to create the lower boundary.\n",
    "\n",
    "The version from the lectures handles collinear points correctly since collinear points do not make a turn.\n",
    "Not making a right turn is equivalent to the middle point not being on left of the line segment.\n",
    "On the other hand, it doesn't consider how points with the same x-coordinate are sorted.\n",
    "As it turns out, they need to be sorted by ascending y-coordinate."
   ]
  },
  {
   "cell_type": "code",
   "execution_count": null,
   "id": "252bbe0e-8059-4010-9af8-b65158f12afa",
   "metadata": {},
   "outputs": [],
   "source": [
    "def graham_scan(points: set[Point]) -> Polyline:\n",
    "    points = list(points)\n",
    "    if len(points) <= 2:\n",
    "        return Polyline(points)\n",
    "    \n",
    "    sorted_points = sorted(points, key = lambda p: (p.x, p.y))\n",
    "    upper_hull = graham_half_scan(sorted_points)\n",
    "\n",
    "    sorted_points.reverse()\n",
    "    lower_hull = graham_half_scan(sorted_points)\n",
    "\n",
    "    return upper_hull + lower_hull[1:-1]\n",
    "\n",
    "def graham_half_scan(points: list[Point]) -> Polyline:\n",
    "    hull: Polyline = Polyline(points[:2])\n",
    "    for p in points[2:]:\n",
    "        hull.append(p)\n",
    "        while len(hull) > 2 and hull[-2].orientation(hull[-3], hull[-1]) is not Orientation.LEFT:\n",
    "            del hull[-2]\n",
    "    \n",
    "    return hull"
   ]
  },
  {
   "cell_type": "markdown",
   "id": "99bcc333",
   "metadata": {},
   "source": [
    "The runtime is *O(n* log *(n))*, which is worst-case optimal (see Mount).\n",
    "We register this algorithm as well."
   ]
  },
  {
   "cell_type": "code",
   "execution_count": null,
   "id": "92fc3a47",
   "metadata": {},
   "outputs": [],
   "source": [
    "print(graham_scan(points))"
   ]
  },
  {
   "cell_type": "code",
   "execution_count": null,
   "id": "616cc478",
   "metadata": {},
   "outputs": [],
   "source": [
    "vis.register_algorithm(\"Graham scan\", graham_scan)"
   ]
  },
  {
   "cell_type": "markdown",
   "id": "07ec7973",
   "metadata": {},
   "source": [
    "Have fun!"
   ]
  },
  {
   "cell_type": "code",
   "execution_count": null,
   "id": "42e126d9",
   "metadata": {},
   "outputs": [],
   "source": [
    "vis.display()"
   ]
  },
  {
   "cell_type": "markdown",
   "id": "08df2d28-e844-4665-8f78-d56c3266f83b",
   "metadata": {},
   "source": [
    "It also passes the robustness test, meaning Graham scan is more robust than Naive Hull (see CG).\n",
    "It doesn't mean it doesn't have robustness issues at all."
   ]
  },
  {
   "cell_type": "markdown",
   "id": "da8ccbec",
   "metadata": {},
   "source": [
    "**Takeaway:**\n",
    "Sometimes a more efficient and robust algorithm can still be very simple.\n",
    "In fact, the implementation of Graham Scan is less code than Naive Hull."
   ]
  },
  {
   "cell_type": "markdown",
   "id": "614f91cd-7322-43ee-a244-ba86e4062cf7",
   "metadata": {},
   "source": [
    "### 3.3 Gift Wrapping\n",
    "\n",
    "The next algorithm from the lecture is *Gift Wrapping*, also called *Jarvis's March*, and it's output-sensitive.\n",
    "Meaning, its runtime depends on the number *h* of points in the convex hull.\n",
    "\n",
    "Explain is_better, which also contains the degeneracy handling\n",
    "\n",
    "It has a termination safeguard."
   ]
  },
  {
   "cell_type": "code",
   "execution_count": null,
   "id": "3c62704c-536d-426d-aa7a-09cb4c4dec2a",
   "metadata": {},
   "outputs": [],
   "source": [
    "def gift_wrapping(points: set[Point]) -> Polyline:\n",
    "    points = list(points)\n",
    "    if len(points) <= 2:\n",
    "        return Polyline(points)\n",
    "    \n",
    "    first_point = max(points, key = lambda p: (p.x, p.y))\n",
    "    wrapper = Wrapper(first_point)\n",
    "\n",
    "    hull = Polyline([first_point])\n",
    "    while True:\n",
    "        next_point = wrapper.get_next_point(points)\n",
    "        if next_point == first_point or len(hull) == len(points):\n",
    "            break\n",
    "        hull.append(next_point)\n",
    "    \n",
    "    return hull\n",
    "\n",
    "\n",
    "class Wrapper:\n",
    "    def __init__(self, current_point: Point):\n",
    "        self.current_point = current_point\n",
    "    \n",
    "    def get_next_point(self, points: list[Point]) -> Point:\n",
    "        points_iterator: Iterator[Point] = filter(lambda p: p != self.current_point, points)\n",
    "        next_point = next(points_iterator)\n",
    "\n",
    "        for p in points_iterator:\n",
    "            if self.is_better(p, next_point):\n",
    "                next_point = p\n",
    "        \n",
    "        self.current_point = next_point\n",
    "        return next_point\n",
    "\n",
    "    def is_better(self, p: Point, q: Point) -> bool:\n",
    "        orientation = p.orientation(self.current_point, q)\n",
    "        return orientation is Orientation.LEFT or orientation is Orientation.BEHIND_TARGET"
   ]
  },
  {
   "cell_type": "markdown",
   "id": "ca3c93b1",
   "metadata": {},
   "source": [
    "No idea about robustness yet.\n",
    "Test it after registering."
   ]
  },
  {
   "cell_type": "code",
   "execution_count": null,
   "id": "39acf5b4",
   "metadata": {},
   "outputs": [],
   "source": [
    "vis.register_algorithm(\"Gift wrapping\", gift_wrapping)"
   ]
  },
  {
   "cell_type": "markdown",
   "id": "e6091875",
   "metadata": {},
   "source": [
    "Have fun!"
   ]
  },
  {
   "cell_type": "code",
   "execution_count": null,
   "id": "c1508181",
   "metadata": {},
   "outputs": [],
   "source": [
    "vis.display()"
   ]
  },
  {
   "cell_type": "markdown",
   "id": "8777754c",
   "metadata": {},
   "source": [
    "**Takeaway:**\n",
    "Algorithmic complexity can depend on the size of the output instead of just the input.\n",
    "Such algorithms might be beneficial in specific scenarios, though they are hard to judge for general cases."
   ]
  },
  {
   "cell_type": "markdown",
   "id": "c8c41ba8-e351-4da9-8616-65065de405c0",
   "metadata": {},
   "source": [
    "### 3.4 Chan's Hull\n",
    "\n",
    "Best of both worlds from a theoretical perspective.\n",
    "But how does it perform in practice?"
   ]
  },
  {
   "cell_type": "code",
   "execution_count": null,
   "id": "813cbb90-63d8-435d-9c1b-776044d83c3a",
   "metadata": {},
   "outputs": [],
   "source": [
    "def chans_hull(points: set[Point]) -> Polyline:\n",
    "    points = list(points)\n",
    "    if len(points) <= 2:\n",
    "        return Polyline(points)\n",
    "\n",
    "    hull = None\n",
    "    t = 0\n",
    "    while hull is None:\n",
    "        m = min(len(points), 2**(2**t))\n",
    "        hull = chans_hull_m(points, m)\n",
    "        t += 1\n",
    "\n",
    "    return hull\n",
    "\n",
    "def chans_hull_m(points: list[Point], m: int) -> Optional[Polyline]:\n",
    "    mini_hulls = []\n",
    "    mini_hull_points = []\n",
    "    for i in range(0, len(points), m):\n",
    "        j = min(len(points), i+m)\n",
    "        mini_hull = graham_scan(points[i:j])\n",
    "        mini_hulls.append(mini_hull)\n",
    "        for position in range(0, len(mini_hull)):\n",
    "            mini_hull_points.append(PointRef(mini_hull, position))\n",
    "\n",
    "    first_point = max(mini_hull_points, key = lambda p: (p.x, p.y))\n",
    "    wrapper = ChanWrapper(first_point)\n",
    "    hull = Polyline([first_point])\n",
    "    for _ in range(0, m):\n",
    "        candidates = []\n",
    "        for mini_hull in mini_hulls:\n",
    "            candidates.extend(wrapper.get_candidates(mini_hull))\n",
    "        next_point = wrapper.get_next_point(candidates)\n",
    "        if next_point == first_point:\n",
    "            return hull\n",
    "        hull.append(next_point)\n",
    "        \n",
    "    return None\n",
    "\n",
    "class ChanWrapper(Wrapper):\n",
    "    def __init__(self, current_point: PointRef):\n",
    "        super(ChanWrapper, self).__init__(current_point)\n",
    "\n",
    "    # Can return more than one candidate but at most five which is asymptotically constant.\n",
    "    def get_candidates(self, mini_hull: list[Point]) -> list[PointRef]:\n",
    "        if self.current_point.is_in_container(mini_hull):\n",
    "            if len(mini_hull) == 1:\n",
    "                return []\n",
    "            next_position = (self.current_point.get_position() + 1) % len(mini_hull)\n",
    "            return [PointRef(mini_hull, next_position)]\n",
    "\n",
    "        l, mb, m, ma, r = self.calculate_indexes(mini_hull, 0, len(mini_hull) - 1)\n",
    "        while l <= mb < m < ma <= r:\n",
    "            m_better_than_before = self.is_better(mini_hull[m], mini_hull[mb])\n",
    "            m_better_than_after = self.is_better(mini_hull[m], mini_hull[ma])\n",
    "            if m_better_than_before and m_better_than_after:\n",
    "                return [PointRef(mini_hull, m)]\n",
    "\n",
    "            m_better_than_l = self.is_better(mini_hull[m], mini_hull[l])\n",
    "            r_better_than_l = self.is_better(mini_hull[r], mini_hull[l])\n",
    "            if r_better_than_l:\n",
    "                if m_better_than_l and not m_better_than_before:\n",
    "                    r = mb\n",
    "                else:\n",
    "                    l = m\n",
    "            else:\n",
    "                if m_better_than_l and m_better_than_before:\n",
    "                    l = ma\n",
    "                else:\n",
    "                    r = m\n",
    "            l, mb, m, ma, r = self.calculate_indexes(mini_hull, l, r)\n",
    "\n",
    "        return [PointRef(mini_hull, pos) for pos in range(l, r+1)]\n",
    "    \n",
    "    # Handles all the degenerate edge cases. Don't read it, lest it will haunt you in your nightmares.\n",
    "    def calculate_indexes(self, mini_hull: list[Point], l: int, r: int) -> tuple[int, int, int, int, int]:\n",
    "        if l != r and self.has_same_angle(mini_hull[l], mini_hull[r]):\n",
    "            if self.is_better(mini_hull[r], mini_hull[l]):\n",
    "                l += 1\n",
    "            else:\n",
    "                r -= 1\n",
    "        if r - l < 2:\n",
    "            return l, 0, 0, 0, r\n",
    "\n",
    "        m = int(l + (r - l) / 2)\n",
    "        mb = m - 1\n",
    "        ma = m + 1\n",
    "        if self.has_same_angle(mini_hull[m], mini_hull[mb]):\n",
    "            if self.is_better(mini_hull[mb], mini_hull[m]):\n",
    "                m -= 1\n",
    "            mb -= 1\n",
    "        elif self.has_same_angle(mini_hull[m], mini_hull[ma]):\n",
    "            if self.is_better(mini_hull[ma], mini_hull[m]):\n",
    "                m += 1\n",
    "            ma += 1\n",
    "            \n",
    "        return l, mb, m, ma, r\n",
    "\n",
    "    def has_same_angle(self, p: Point, q: Point) -> bool:\n",
    "        orient = p.orientation(self.current_point, q)\n",
    "        return orient is Orientation.BETWEEN or orient is Orientation.BEHIND_TARGET"
   ]
  },
  {
   "cell_type": "code",
   "execution_count": null,
   "id": "bf9c564c",
   "metadata": {},
   "outputs": [],
   "source": [
    "print(chans_hull([Point(0,0), Point(1,0.5), Point(2.5,0.25), Point(1,1), Point(2,2), Point(3,0), Point(4,0), Point(1,2), Point(3,1.5)]))"
   ]
  },
  {
   "cell_type": "code",
   "execution_count": null,
   "id": "df5e7cd9",
   "metadata": {},
   "outputs": [],
   "source": [
    "print(chans_hull([Point(0,3), Point(10,10), Point(20,5)]))"
   ]
  },
  {
   "cell_type": "code",
   "execution_count": null,
   "id": "d61d718d-42c9-4596-9459-0717e2212740",
   "metadata": {},
   "outputs": [],
   "source": [
    "vis.register_algorithm(\"Chan's hull\", chans_hull)"
   ]
  },
  {
   "cell_type": "code",
   "execution_count": null,
   "id": "3408a42f",
   "metadata": {},
   "outputs": [],
   "source": [
    "vis.display()"
   ]
  },
  {
   "cell_type": "markdown",
   "id": "d0904da0",
   "metadata": {},
   "source": [
    "## 4. Conclusion"
   ]
  },
  {
   "cell_type": "markdown",
   "id": "933a0831",
   "metadata": {},
   "source": []
  }
 ],
 "metadata": {
  "interpreter": {
   "hash": "b48264eb95706e162d01c04d685d59c09b9997374e8df34f814a7711d35cc8a0"
  },
  "kernelspec": {
   "display_name": "Python 3.9.7 ('base')",
   "language": "python",
   "name": "python3"
  },
  "language_info": {
   "codemirror_mode": {
    "name": "ipython",
    "version": 3
   },
   "file_extension": ".py",
   "mimetype": "text/x-python",
   "name": "python",
   "nbconvert_exporter": "python",
   "pygments_lexer": "ipython3",
   "version": "3.9.7"
  }
 },
 "nbformat": 4,
 "nbformat_minor": 5
}
