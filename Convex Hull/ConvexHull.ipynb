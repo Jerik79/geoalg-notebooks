{
 "cells": [
  {
   "cell_type": "markdown",
   "id": "ff011227-34da-442d-91b9-0377ac4b9557",
   "metadata": {},
   "source": [
    "# Convex Hulls"
   ]
  },
  {
   "cell_type": "markdown",
   "id": "1f796646-66ff-493e-9985-d3b9cc5b17ad",
   "metadata": {},
   "source": [
    "General information"
   ]
  },
  {
   "cell_type": "markdown",
   "id": "2107ac85-8976-40b4-a145-a20ca84f8647",
   "metadata": {},
   "source": [
    "## Table of Contents\n",
    "\n",
    "1. Introduction\n",
    "2. Imports\n",
    "3. Algorithms\n",
    "    * Naive Hull\n",
    "    * Graham Scan\n",
    "    * Gift Wrapping\n",
    "    * Chan's Hull\n",
    "4. Robustness\n",
    "5. Experiments\n",
    "6. Conclusion"
   ]
  },
  {
   "cell_type": "markdown",
   "id": "efe270bc-c820-4d09-adae-5747242f08ae",
   "metadata": {},
   "source": [
    "## 2. Imports"
   ]
  },
  {
   "cell_type": "code",
   "execution_count": null,
   "id": "9950b3d5-55a1-4bba-9229-75a3b3b09e65",
   "metadata": {},
   "outputs": [],
   "source": [
    "from enum import Enum, auto\n",
    "import math\n",
    "\n",
    "\n",
    "class Or(Enum):\n",
    "    LEFT = auto()\n",
    "    ON = auto()\n",
    "    RIGHT = auto()\n",
    "\n",
    "\n",
    "class Point:\n",
    "    def __init__(self,x,y):\n",
    "        self.x = x\n",
    "        self.y = y\n",
    "        \n",
    "    def __eq__(self, other):\n",
    "        return self.x == other.x and self.y == other.y\n",
    "    \n",
    "    def __hash__(self):\n",
    "        return hash((self.x, self.y))\n",
    "    \n",
    "    def __repr__(self):\n",
    "        return f\"Point({self.x}, {self.y})\"\n",
    "    \n",
    "    #def as_np(self):\n",
    "    #    return np.array([self.x, self.y])\n",
    "    \n",
    "    def distance(self, other: 'Point') -> float:\n",
    "        return math.sqrt((self.x - other.x)**2 + (self.y - other.y)**2)\n",
    "    \n",
    "    def orientation(self, p: 'Point', q: 'Point') -> Or:   # p != q ...\n",
    "        val = (q.x - p.x) * (self.y - p.y) - (q.y - p.y) * (self.x - p.x)\n",
    "        if val > 0.0:\n",
    "            return Or.LEFT\n",
    "        elif val == 0.0:\n",
    "            return Or.ON\n",
    "        else:\n",
    "            return Or.RIGHT"
   ]
  },
  {
   "cell_type": "code",
   "execution_count": null,
   "id": "10f0997f-a7a9-4b6a-9ca4-dcd51d551f1c",
   "metadata": {},
   "outputs": [],
   "source": [
    "from ipycanvas import Canvas\n",
    "canvas = Canvas(width=400, height=250)\n",
    "\n",
    "canvas.fill_style = 'blue'\n",
    "canvas.stroke_style = 'purple'\n",
    "canvas.line_width = 5"
   ]
  },
  {
   "cell_type": "markdown",
   "id": "0495e19b-5e5a-4e3f-8176-2f6e1da4435c",
   "metadata": {},
   "source": [
    "## 3. Algorithms"
   ]
  },
  {
   "cell_type": "markdown",
   "id": "dda95788-bb56-4afa-8fc8-ec428bcd3e0d",
   "metadata": {},
   "source": [
    "### 3.1 Naive Hull\n",
    "The first algorithm from the lecture"
   ]
  },
  {
   "cell_type": "code",
   "execution_count": null,
   "id": "2925169c-5a44-4082-aea5-2d28c73b038b",
   "metadata": {},
   "outputs": [],
   "source": [
    "def naive_hull(points: list[Point]) -> list[Point]:\n",
    "    edges: dict[Point, Point] = {}\n",
    "    for p in points:\n",
    "        for q in filter(lambda q: q != p, points):\n",
    "            valid = True\n",
    "            for r in filter(lambda r: r != p and r != q, points):\n",
    "                if r.orientation(p, q) is Or.RIGHT:\n",
    "                    valid = False\n",
    "                    break\n",
    "            if valid and (p not in edges or p.distance(q) > p.distance(edges[p])):\n",
    "                if p in edges and egdes[p] in edges:\n",
    "                    del edges[edges[p]]\n",
    "                edges[p] = q\n",
    "    hull: list[Point] = []\n",
    "    if edges:\n",
    "        first_point, next_point = edges.popitem()\n",
    "        hull.append(first_point)\n",
    "        while next_point is not None and next_point != hull[0]:\n",
    "            hull.append(next_point)\n",
    "            next_point = edges.pop(next_point, None)\n",
    "    return hull"
   ]
  },
  {
   "cell_type": "code",
   "execution_count": null,
   "id": "a960d166-9089-4d0f-8ecf-0b55f68d9926",
   "metadata": {},
   "outputs": [],
   "source": [
    "points = [Point(0,0), Point(100,50), Point(250,25), Point(100,100), Point(200,200), Point(300,0)]\n",
    "hull = naive_hull(points)\n",
    "print(hull)"
   ]
  },
  {
   "cell_type": "code",
   "execution_count": null,
   "id": "7767407a-d761-4c58-bb8a-170ddb6d7398",
   "metadata": {},
   "outputs": [],
   "source": [
    "canvas.fill_polygon(list(map(lambda p: (p.x, 250 - p.y), hull)))\n",
    "canvas.stroke_polygon(list(map(lambda p: (p.x, 250 - p.y), hull)))\n",
    "\n",
    "canvas.fill_style = \"orange\"\n",
    "canvas.fill_circles(list(map(lambda p: p.x, points)), list(map(lambda p: 250 - p.y, points)), [5,5,5,5,5,5])\n",
    "\n",
    "canvas"
   ]
  },
  {
   "cell_type": "markdown",
   "id": "bf7c6b89-c285-4bc4-8976-043ecb870f75",
   "metadata": {},
   "source": [
    "should handle degeneracies (sure?), but it's not robust"
   ]
  },
  {
   "cell_type": "markdown",
   "id": "1410d97c-e1df-48b1-950e-9dbe72fc9680",
   "metadata": {},
   "source": [
    "### 3.2 Graham Scan\n",
    "Better algorithm"
   ]
  },
  {
   "cell_type": "code",
   "execution_count": null,
   "id": "252bbe0e-8059-4010-9af8-b65158f12afa",
   "metadata": {},
   "outputs": [],
   "source": [
    "def graham_scan(points: list[Point]) -> list[Point]:    \n",
    "    #if len(points) <= 2:\n",
    "    #    return points[:]\n",
    "    sorted_points = sorted(points, key = lambda p: (p.x, p.y))\n",
    "    upper_hull = graham_half_scan(sorted_points)\n",
    "    sorted_points.reverse()\n",
    "    lower_hull = graham_half_scan(sorted_points)\n",
    "    hull = upper_hull[:-1] + lower_hull[:-1]\n",
    "    return hull\n",
    "\n",
    "def graham_half_scan(points: list[Point]) -> list[Point]:\n",
    "    if len(points) <= 2:\n",
    "        return points[:]\n",
    "    hull = points[:2]\n",
    "    for p in points[2:]:\n",
    "        hull.append(p)\n",
    "        while len(hull) > 2 and hull[-2].orientation(hull[-3], hull[-1]) is not Or.LEFT:\n",
    "            del hull[-2]\n",
    "    return hull"
   ]
  },
  {
   "cell_type": "code",
   "execution_count": null,
   "id": "bca1dae1-a16f-40bd-8ac7-5f17ff50df32",
   "metadata": {},
   "outputs": [],
   "source": [
    "print(graham_scan([Point(0,0), Point(1,0.5), Point(2.5,0.25), Point(1,1), Point(2,2), Point(3,0)]))"
   ]
  },
  {
   "cell_type": "markdown",
   "id": "08df2d28-e844-4665-8f78-d56c3266f83b",
   "metadata": {},
   "source": [
    "should handle degeneracies and be somewhat robust"
   ]
  },
  {
   "cell_type": "markdown",
   "id": "614f91cd-7322-43ee-a244-ba86e4062cf7",
   "metadata": {},
   "source": [
    "### 3.3 Gift Wrapping\n",
    "Also called *Jarvis's March*. Output-sensitive."
   ]
  },
  {
   "cell_type": "code",
   "execution_count": null,
   "id": "3c62704c-536d-426d-aa7a-09cb4c4dec2a",
   "metadata": {},
   "outputs": [],
   "source": [
    "def gift_wrapping(points: list[Point]) -> list[Point]:\n",
    "    current_point = points[0]\n",
    "    for p in points[1:]:\n",
    "        if p.x > current_point.x or (p.x == current_point.x and p.y > current_point.y):\n",
    "            current_point = p\n",
    "    hull = [current_point]\n",
    "    while True:\n",
    "        next_point = points[0]\n",
    "        for p in filter(lambda p: p != current_point and p != next_point, points[1:]):\n",
    "            if p.orientation(current_point, next_point) is not Or.RIGHT:\n",
    "                next_point = p\n",
    "        if next_point == hull[0]:\n",
    "            break\n",
    "        hull.append(next_point)\n",
    "        current_point = next_point\n",
    "    return hull"
   ]
  },
  {
   "cell_type": "code",
   "execution_count": null,
   "id": "bdc6d495-b044-45a3-a17a-d962b7b7a01a",
   "metadata": {},
   "outputs": [],
   "source": [
    "print(gift_wrapping([Point(0,0), Point(1,0.5), Point(2.5,0.25), Point(2,1), Point(2,2), Point(3,0)]))"
   ]
  },
  {
   "cell_type": "markdown",
   "id": "c8c41ba8-e351-4da9-8616-65065de405c0",
   "metadata": {},
   "source": [
    "### 3.4 Chan's Hull\n",
    "Best of both worlds"
   ]
  },
  {
   "cell_type": "code",
   "execution_count": null,
   "id": "813cbb90-63d8-435d-9c1b-776044d83c3a",
   "metadata": {},
   "outputs": [],
   "source": [
    "def tangent_binary_search(mh: list[Point], current_point: Point) -> Point:    # hacky, buggy...\n",
    "    if len(mh) == 1:\n",
    "        return mh[0]\n",
    "    l = 0\n",
    "    r = len(mh) - 1\n",
    "    while l <= r:\n",
    "        m = int((l + r) / 2)\n",
    "        if (m == 0 or (mh[m-1].orientation(current_point, mh[m]) is Or.RIGHT)) and \\\n",
    "                (m == len(mh) - 1 or (mh[m+1].orientation(current_point, mh[m]) is Or.RIGHT)):\n",
    "            return mh[m]\n",
    "        elif (m > 0 and (mh[m-1].orientation(current_point, mh[m]) is Or.RIGHT) != (mh[l].orientation(current_point, mh[r]) is Or.RIGHT)) \\\n",
    "                or (m < len(mh) - 1 and (mh[m+1].orientation(current_point, mh[m]) is Or.RIGHT) != (mh[r].orientation(current_point, mh[l]) is Or.RIGHT)):\n",
    "            r = m - 1\n",
    "        else:\n",
    "            l = m + 1\n",
    "    return mh[m]\n",
    "\n",
    "from typing import Optional\n",
    "\n",
    "def chans_hull_m(points: list[Point], m: int) -> Optional[list[Point]]:\n",
    "    mini_hulls = []\n",
    "    for i in range(0, len(points), m):\n",
    "        j = min(len(points), i+m)\n",
    "        mini_hulls.append(graham_scan(points[i:j]))\n",
    "    current_point = points[0]\n",
    "    for p in points[1:]:\n",
    "        if p.x > current_point.x or (p.x == current_point.x and p.y > current_point.y):\n",
    "            current_point = p\n",
    "    hull = [current_point]\n",
    "    for _ in range(m-1):           # gift wrapping code zentral auslagern\n",
    "        candidates = []\n",
    "        for mh in mini_hulls:\n",
    "            candidates.append(tangent_binary_search(mh, current_point))\n",
    "        next_point = candidates[0]\n",
    "        for p in filter(lambda p: p != current_point and p != next_point, candidates[1:]):\n",
    "            if p.orientation(current_point, next_point) is not Or.RIGHT:\n",
    "                next_point = p\n",
    "        if next_point == hull[0]:\n",
    "            return hull             # sicherstellen, dass dieser Punkt erreicht wird\n",
    "        hull.append(next_point)\n",
    "        current_point = next_point\n",
    "    return None\n",
    "\n",
    "def chans_hull(points: list[Point]) -> list[Point]:\n",
    "    hull = chans_hull_m(points, 2)\n",
    "    t = 0\n",
    "    while hull is None:\n",
    "        t += 1\n",
    "        m = min(len(points), 2**(2**t))\n",
    "        hull = chans_hull_m(points, m)\n",
    "    return hull"
   ]
  },
  {
   "cell_type": "code",
   "execution_count": null,
   "id": "df731fa0-9607-47aa-afbc-5c22e31ace3c",
   "metadata": {},
   "outputs": [],
   "source": [
    "print(chans_hull([Point(0,0), Point(1,0.5), Point(2.5,0.25), Point(2,1), Point(2,2), Point(3,0)]))"
   ]
  },
  {
   "cell_type": "code",
   "execution_count": null,
   "id": "d61d718d-42c9-4596-9459-0717e2212740",
   "metadata": {},
   "outputs": [],
   "source": []
  }
 ],
 "metadata": {
  "kernelspec": {
   "display_name": "Python 3 (ipykernel)",
   "language": "python",
   "name": "python3"
  },
  "language_info": {
   "codemirror_mode": {
    "name": "ipython",
    "version": 3
   },
   "file_extension": ".py",
   "mimetype": "text/x-python",
   "name": "python",
   "nbconvert_exporter": "python",
   "pygments_lexer": "ipython3",
   "version": "3.9.7"
  }
 },
 "nbformat": 4,
 "nbformat_minor": 5
}
